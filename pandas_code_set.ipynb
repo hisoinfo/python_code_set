{
 "cells": [
  {
   "cell_type": "code",
   "execution_count": 1,
   "metadata": {
    "collapsed": true
   },
   "outputs": [],
   "source": [
    "import pandas as pd\n",
    "import numpy as np\n"
   ]
  },
  {
   "cell_type": "markdown",
   "metadata": {},
   "source": [
    "## dataframe 里的值 tolist()\n",
    "* Use .values to get a numpy.array and then .tolist() to get a list.\n"
   ]
  },
  {
   "cell_type": "code",
   "execution_count": 7,
   "metadata": {},
   "outputs": [
    {
     "name": "stdout",
     "output_type": "stream",
     "text": [
      "df_list 数据结构：\n",
      "    a  b\n",
      "0   1  3\n",
      "1   3  5\n",
      "2   5  6\n",
      "3   7  2\n",
      "4   4  4\n",
      "5   5  6\n",
      "6   6  7\n",
      "7   4  8\n",
      "8   7  7\n",
      "9   8  8\n",
      "10  9  9\n",
      "将a列数据变成list数据结构\n",
      "[1L, 3L, 5L, 7L, 4L, 5L, 6L, 4L, 7L, 8L, 9L]\n"
     ]
    }
   ],
   "source": [
    "df_list = pd.DataFrame({'a':[1,3,5,7,4,5,6,4,7,8,9],\n",
    "                   'b':[3,5,6,2,4,6,7,8,7,8,9]})\n",
    "print('df_list 数据结构：')\n",
    "print(df_list)\n",
    "\n",
    "# tolist()\n",
    "list_demo = df_list['a'].values.tolist()\n",
    "# list_demo = df_list['a'].tolist()\n",
    "print('将a列数据变成list数据结构')\n",
    "print(list_demo)"
   ]
  },
  {
   "cell_type": "markdown",
   "metadata": {},
   "source": [
    "### To drop duplicates"
   ]
  },
  {
   "cell_type": "code",
   "execution_count": 12,
   "metadata": {},
   "outputs": [
    {
     "name": "stdout",
     "output_type": "stream",
     "text": [
      "[1 3 5 7 4 6 8 9]\n",
      "[1L, 3L, 5L, 7L, 4L, 6L, 8L, 9L]\n"
     ]
    }
   ],
   "source": [
    "df_list = pd.DataFrame({'a':[1,3,5,7,4,5,6,4,7,8,9],\n",
    "                   'b':[3,5,6,2,4,6,7,8,7,8,9]})\n",
    "# numpy narray type\n",
    "del_duplicates = df_list['a'].drop_duplicates().values\n",
    "print(del_duplicates)\n",
    "# list type\n",
    "del_duplicates_list = df_list['a'].drop_duplicates().values.tolist()\n",
    "print(del_duplicates_list)\n"
   ]
  },
  {
   "cell_type": "markdown",
   "metadata": {},
   "source": [
    "### groupby"
   ]
  },
  {
   "cell_type": "code",
   "execution_count": 14,
   "metadata": {},
   "outputs": [
    {
     "name": "stdout",
     "output_type": "stream",
     "text": [
      "原始数据：\n",
      "      data1     data2 key1 key2\n",
      "0 -0.496832 -0.364945    a  one\n",
      "1  1.119169  1.917241    a  two\n",
      "2 -0.919731  0.147975    b  one\n",
      "3 -1.009562  0.278963    b  two\n",
      "4 -0.195324  1.805608    a  one\n",
      "====分组数据====\n",
      "<pandas.core.groupby.DataFrameGroupBy object at 0x0000000008C7CDD8>\n",
      "a\n",
      "--------------\n",
      "      data1     data2 key1 key2\n",
      "0 -0.496832 -0.364945    a  one\n",
      "1  1.119169  1.917241    a  two\n",
      "4 -0.195324  1.805608    a  one\n",
      "b\n",
      "--------------\n",
      "      data1     data2 key1 key2\n",
      "2 -0.919731  0.147975    b  one\n",
      "3 -1.009562  0.278963    b  two\n"
     ]
    }
   ],
   "source": [
    "df_group = pd.DataFrame(\n",
    "            {  'key1':['a','a','b','b','a'],\n",
    "               'key2':['one','two','one','two','one'],\n",
    "               'data1':np.random.randn(5),\n",
    "               'data2':np.random.randn(5)\n",
    "            }\n",
    "        )\n",
    "print('原始数据：')\n",
    "print(df_group)\n",
    "print('====分组数据====')\n",
    "\n",
    "df_group_by_col = df_group.groupby(df_group['key1'])\n",
    "print(df_group_by_col)\n",
    "for gn, gd in df_group_by_col:\n",
    "    print(gn)\n",
    "    print('--------------')\n",
    "    print(gd)\n",
    "    \n",
    "''' 对索引进行处理分组\n",
    "df11 = df.groupby(lambda x:'even' if x%2==0 else 'odd')\n",
    "print df['data1'].tolist()\n",
    "for i,j in df11:\n",
    "    print i\n",
    "    print '----------------'\n",
    "    print j\n",
    "'''"
   ]
  },
  {
   "cell_type": "markdown",
   "metadata": {},
   "source": [
    "### transform \n",
    "* transform(func, *args, **kwargs) 方法会把 func 参数应用到所有分组，然后把结果放置到原数组的 index 上"
   ]
  },
  {
   "cell_type": "code",
   "execution_count": 15,
   "metadata": {},
   "outputs": [
    {
     "name": "stdout",
     "output_type": "stream",
     "text": [
      "      data1     data2\n",
      "0  0.207448  1.480348\n",
      "1  0.207448  1.480348\n",
      "2 -0.006599  1.530958\n",
      "3 -0.006599  1.530958\n",
      "4  0.207448  1.480348\n"
     ]
    }
   ],
   "source": [
    "# transform transform(func, *args, **kwargs) 方法简化了这个过程，它会把 func 参数应用到所有分组，然后把结果放置到原数组的 index 上\n",
    "df_transform = pd.DataFrame(\n",
    "            {  'key1':['a','a','b','b','a'],\n",
    "               'key2':['one','two','one','two','one'],\n",
    "               'data1':np.random.randn(5),\n",
    "               'data2':np.random.randn(5)\n",
    "            }\n",
    "        )\n",
    "\n",
    "df_trans_group = df_transform.groupby('key1').transform('mean')\n",
    "print(df_trans_group)"
   ]
  },
  {
   "cell_type": "code",
   "execution_count": 2,
   "metadata": {},
   "outputs": [
    {
     "name": "stdout",
     "output_type": "stream",
     "text": [
      "2011-01\n",
      "8\n",
      "   one  three  two\n",
      "0    1      3    2\n",
      "1    2      4    3\n",
      "2    3      5    4\n",
      "<type 'numpy.ndarray'>\n",
      "3\n",
      "2\n",
      "   one  three  two\n",
      "0    1      3    2\n",
      "<class 'pandas.core.frame.DataFrame'>\n",
      "2\n"
     ]
    }
   ],
   "source": [
    "import pandas as pd\n",
    "import numpy as np\n",
    "\n",
    "d = pd.Period('2011-01')\n",
    "print d\n",
    "# 连乘\n",
    "a = np.array([1,2,4])\n",
    "print a.cumprod()[-1]\n",
    "\n",
    "# dataframe\n",
    "aa={'one':[1,2,3],'two':[2,3,4],'three':[3,4,5]}\n",
    "aa_df = pd.DataFrame(aa)\n",
    "print aa_df\n",
    "\n",
    "# dataframe values 类型 及 取值\n",
    "value = aa_df.values\n",
    "print type(value[0])\n",
    "print value[0][1]\n",
    "# 通过iloc定位取值\n",
    "v1 = aa_df.one.iloc[0]\n",
    "print v1 + 1\n",
    "# where 条件获得新的dataframe\n",
    "te = aa_df[aa_df.two == 2]\n",
    "print te\n",
    "print type(te)\n",
    "print te.two.iloc[0]"
   ]
  },
  {
   "cell_type": "code",
   "execution_count": 1,
   "metadata": {},
   "outputs": [
    {
     "name": "stdout",
     "output_type": "stream",
     "text": [
      "2011-01\n",
      "8\n",
      "   one  three  two\n",
      "0    1      3    2\n",
      "1    2      4    3\n",
      "2    3      5    4\n",
      "<type 'numpy.ndarray'>\n",
      "3\n",
      "3\n",
      "   one  three  two\n",
      "0    1      3    2\n",
      "<class 'pandas.core.frame.DataFrame'>\n",
      "2\n"
     ]
    }
   ],
   "source": [
    "import pandas as pd\n",
    "\n",
    "d = pd.Period('2011-01')\n",
    "print d\n",
    "\n",
    "import numpy as np\n",
    "\n",
    "a = np.array([1,2,4])\n",
    "print a.cumprod()[-1]\n",
    "\n",
    "aa={'one':[1,2,3],'two':[2,3,4],'three':[3,4,5]}\n",
    "aa_df = pd.DataFrame(aa)\n",
    "print aa_df\n",
    "value = aa_df.values\n",
    "print type(value[0])\n",
    "print value[0][1]\n",
    "v1 = aa_df.one.iloc[0]\n",
    "print v1 + 2\n",
    "\n",
    "te = aa_df[aa_df.two == 2]\n",
    "print te\n",
    "print type(te)\n",
    "print te.two.iloc[0]"
   ]
  },
  {
   "cell_type": "code",
   "execution_count": 2,
   "metadata": {},
   "outputs": [
    {
     "data": {
      "text/html": [
       "<div>\n",
       "<style>\n",
       "    .dataframe thead tr:only-child th {\n",
       "        text-align: right;\n",
       "    }\n",
       "\n",
       "    .dataframe thead th {\n",
       "        text-align: left;\n",
       "    }\n",
       "\n",
       "    .dataframe tbody tr th {\n",
       "        vertical-align: top;\n",
       "    }\n",
       "</style>\n",
       "<table border=\"1\" class=\"dataframe\">\n",
       "  <thead>\n",
       "    <tr style=\"text-align: right;\">\n",
       "      <th></th>\n",
       "      <th>per</th>\n",
       "      <th>type</th>\n",
       "      <th>value</th>\n",
       "    </tr>\n",
       "  </thead>\n",
       "  <tbody>\n",
       "    <tr>\n",
       "      <th>0</th>\n",
       "      <td>0.3</td>\n",
       "      <td>a</td>\n",
       "      <td>1</td>\n",
       "    </tr>\n",
       "    <tr>\n",
       "      <th>1</th>\n",
       "      <td>0.2</td>\n",
       "      <td>b</td>\n",
       "      <td>2</td>\n",
       "    </tr>\n",
       "    <tr>\n",
       "      <th>2</th>\n",
       "      <td>0.5</td>\n",
       "      <td>c</td>\n",
       "      <td>4</td>\n",
       "    </tr>\n",
       "    <tr>\n",
       "      <th>3</th>\n",
       "      <td>0.2</td>\n",
       "      <td>a</td>\n",
       "      <td>5</td>\n",
       "    </tr>\n",
       "    <tr>\n",
       "      <th>4</th>\n",
       "      <td>0.7</td>\n",
       "      <td>c</td>\n",
       "      <td>6</td>\n",
       "    </tr>\n",
       "  </tbody>\n",
       "</table>\n",
       "</div>"
      ],
      "text/plain": [
       "   per type  value\n",
       "0  0.3    a      1\n",
       "1  0.2    b      2\n",
       "2  0.5    c      4\n",
       "3  0.2    a      5\n",
       "4  0.7    c      6"
      ]
     },
     "execution_count": 2,
     "metadata": {},
     "output_type": "execute_result"
    }
   ],
   "source": [
    "import pandas as pd\n",
    "\n",
    "a = {'type':['a','b','c','a','c'],'value':[1,2,4,5,6],'per':[.3,.2,.5,.2,.7]}\n",
    "df = pd.DataFrame(a)\n",
    "df"
   ]
  },
  {
   "cell_type": "code",
   "execution_count": 3,
   "metadata": {},
   "outputs": [
    {
     "data": {
      "text/html": [
       "<div>\n",
       "<style>\n",
       "    .dataframe thead tr:only-child th {\n",
       "        text-align: right;\n",
       "    }\n",
       "\n",
       "    .dataframe thead th {\n",
       "        text-align: left;\n",
       "    }\n",
       "\n",
       "    .dataframe tbody tr th {\n",
       "        vertical-align: top;\n",
       "    }\n",
       "</style>\n",
       "<table border=\"1\" class=\"dataframe\">\n",
       "  <thead>\n",
       "    <tr style=\"text-align: right;\">\n",
       "      <th></th>\n",
       "      <th>per</th>\n",
       "      <th>type</th>\n",
       "      <th>value</th>\n",
       "    </tr>\n",
       "  </thead>\n",
       "  <tbody>\n",
       "    <tr>\n",
       "      <th>0</th>\n",
       "      <td>0.3</td>\n",
       "      <td>a</td>\n",
       "      <td>1</td>\n",
       "    </tr>\n",
       "    <tr>\n",
       "      <th>1</th>\n",
       "      <td>0.2</td>\n",
       "      <td>b</td>\n",
       "      <td>2</td>\n",
       "    </tr>\n",
       "    <tr>\n",
       "      <th>2</th>\n",
       "      <td>0.5</td>\n",
       "      <td>c</td>\n",
       "      <td>4</td>\n",
       "    </tr>\n",
       "  </tbody>\n",
       "</table>\n",
       "</div>"
      ],
      "text/plain": [
       "   per type  value\n",
       "0  0.3    a      1\n",
       "1  0.2    b      2\n",
       "2  0.5    c      4"
      ]
     },
     "execution_count": 3,
     "metadata": {},
     "output_type": "execute_result"
    }
   ],
   "source": [
    "d1 = df.drop_duplicates(['type'])\n",
    "d1"
   ]
  },
  {
   "cell_type": "code",
   "execution_count": 4,
   "metadata": {},
   "outputs": [
    {
     "data": {
      "text/html": [
       "<div>\n",
       "<style>\n",
       "    .dataframe thead tr:only-child th {\n",
       "        text-align: right;\n",
       "    }\n",
       "\n",
       "    .dataframe thead th {\n",
       "        text-align: left;\n",
       "    }\n",
       "\n",
       "    .dataframe tbody tr th {\n",
       "        vertical-align: top;\n",
       "    }\n",
       "</style>\n",
       "<table border=\"1\" class=\"dataframe\">\n",
       "  <thead>\n",
       "    <tr style=\"text-align: right;\">\n",
       "      <th></th>\n",
       "      <th>per</th>\n",
       "      <th>type</th>\n",
       "      <th>value</th>\n",
       "    </tr>\n",
       "  </thead>\n",
       "  <tbody>\n",
       "    <tr>\n",
       "      <th>0</th>\n",
       "      <td>0.3</td>\n",
       "      <td>a</td>\n",
       "      <td>1</td>\n",
       "    </tr>\n",
       "    <tr>\n",
       "      <th>1</th>\n",
       "      <td>0.2</td>\n",
       "      <td>b</td>\n",
       "      <td>2</td>\n",
       "    </tr>\n",
       "    <tr>\n",
       "      <th>2</th>\n",
       "      <td>0.5</td>\n",
       "      <td>c</td>\n",
       "      <td>4</td>\n",
       "    </tr>\n",
       "  </tbody>\n",
       "</table>\n",
       "</div>"
      ],
      "text/plain": [
       "   per type  value\n",
       "0  0.3    a      1\n",
       "1  0.2    b      2\n",
       "2  0.5    c      4"
      ]
     },
     "execution_count": 4,
     "metadata": {},
     "output_type": "execute_result"
    }
   ],
   "source": [
    "d2 = df.drop_duplicates('type')\n",
    "d2"
   ]
  },
  {
   "cell_type": "code",
   "execution_count": 5,
   "metadata": {},
   "outputs": [
    {
     "data": {
      "text/html": [
       "<div>\n",
       "<style>\n",
       "    .dataframe thead tr:only-child th {\n",
       "        text-align: right;\n",
       "    }\n",
       "\n",
       "    .dataframe thead th {\n",
       "        text-align: left;\n",
       "    }\n",
       "\n",
       "    .dataframe tbody tr th {\n",
       "        vertical-align: top;\n",
       "    }\n",
       "</style>\n",
       "<table border=\"1\" class=\"dataframe\">\n",
       "  <thead>\n",
       "    <tr style=\"text-align: right;\">\n",
       "      <th></th>\n",
       "      <th>per</th>\n",
       "      <th>type</th>\n",
       "      <th>value</th>\n",
       "      <th>rank</th>\n",
       "      <th>r1</th>\n",
       "    </tr>\n",
       "  </thead>\n",
       "  <tbody>\n",
       "    <tr>\n",
       "      <th>0</th>\n",
       "      <td>0.3</td>\n",
       "      <td>a</td>\n",
       "      <td>1</td>\n",
       "      <td>1.0</td>\n",
       "      <td>0.2</td>\n",
       "    </tr>\n",
       "    <tr>\n",
       "      <th>1</th>\n",
       "      <td>0.2</td>\n",
       "      <td>b</td>\n",
       "      <td>2</td>\n",
       "      <td>3.0</td>\n",
       "      <td>0.4</td>\n",
       "    </tr>\n",
       "    <tr>\n",
       "      <th>2</th>\n",
       "      <td>0.5</td>\n",
       "      <td>c</td>\n",
       "      <td>4</td>\n",
       "      <td>4.0</td>\n",
       "      <td>0.6</td>\n",
       "    </tr>\n",
       "    <tr>\n",
       "      <th>3</th>\n",
       "      <td>0.2</td>\n",
       "      <td>a</td>\n",
       "      <td>5</td>\n",
       "      <td>1.0</td>\n",
       "      <td>0.8</td>\n",
       "    </tr>\n",
       "    <tr>\n",
       "      <th>4</th>\n",
       "      <td>0.7</td>\n",
       "      <td>c</td>\n",
       "      <td>6</td>\n",
       "      <td>4.0</td>\n",
       "      <td>1.0</td>\n",
       "    </tr>\n",
       "  </tbody>\n",
       "</table>\n",
       "</div>"
      ],
      "text/plain": [
       "   per type  value  rank   r1\n",
       "0  0.3    a      1   1.0  0.2\n",
       "1  0.2    b      2   3.0  0.4\n",
       "2  0.5    c      4   4.0  0.6\n",
       "3  0.2    a      5   1.0  0.8\n",
       "4  0.7    c      6   4.0  1.0"
      ]
     },
     "execution_count": 5,
     "metadata": {},
     "output_type": "execute_result"
    }
   ],
   "source": [
    "dd = df['type'].rank(method='min', ascending=True)\n",
    "dd1 = df['value'].rank(method='min', pct=True, ascending=True)\n",
    "df['rank'] = dd\n",
    "df['r1'] = dd1\n",
    "df"
   ]
  },
  {
   "cell_type": "code",
   "execution_count": 6,
   "metadata": {},
   "outputs": [
    {
     "name": "stdout",
     "output_type": "stream",
     "text": [
      "0    a\n",
      "1    b\n",
      "2    c\n",
      "3    a\n",
      "4    c\n",
      "Name: type, dtype: object\n",
      "a\n",
      "   per type  value  rank   r1\n",
      "0  0.3    a      1   1.0  0.2\n",
      "3  0.2    a      5   1.0  0.8\n",
      "b\n",
      "   per type  value  rank   r1\n",
      "1  0.2    b      2   3.0  0.4\n",
      "c\n",
      "   per type  value  rank   r1\n",
      "2  0.5    c      4   4.0  0.6\n",
      "4  0.7    c      6   4.0  1.0\n"
     ]
    }
   ],
   "source": [
    "dfg = df.groupby('type')\n",
    "print dfg['type'].head()\n",
    "for i, d in dfg:\n",
    "    print i\n",
    "    print d"
   ]
  },
  {
   "cell_type": "code",
   "execution_count": 7,
   "metadata": {},
   "outputs": [
    {
     "name": "stdout",
     "output_type": "stream",
     "text": [
      "      per  value\n",
      "type            \n",
      "a     0.5      6\n",
      "b     0.2      2\n",
      "c     1.2     10\n",
      "['a', 'b', 'c']\n"
     ]
    }
   ],
   "source": [
    "dfgg = df.groupby('type')['per', 'value'].sum()\n",
    "print dfgg\n",
    "print dfgg.index.values.tolist()"
   ]
  },
  {
   "cell_type": "code",
   "execution_count": 8,
   "metadata": {},
   "outputs": [
    {
     "name": "stdout",
     "output_type": "stream",
     "text": [
      "       per  value\n",
      "type             \n",
      "a     0.25      3\n",
      "b     0.20      2\n",
      "c     0.60      5\n",
      "['a', 'b', 'c']\n"
     ]
    }
   ],
   "source": [
    "dfgg = df.groupby('type')['per', 'value'].mean()\n",
    "print dfgg\n",
    "print dfgg.index.values.tolist()"
   ]
  },
  {
   "cell_type": "code",
   "execution_count": 9,
   "metadata": {},
   "outputs": [
    {
     "name": "stdout",
     "output_type": "stream",
     "text": [
      "         age\n",
      "0 2001-01-01\n",
      "1 2004-06-01\n"
     ]
    },
    {
     "data": {
      "text/html": [
       "<div>\n",
       "<style>\n",
       "    .dataframe thead tr:only-child th {\n",
       "        text-align: right;\n",
       "    }\n",
       "\n",
       "    .dataframe thead th {\n",
       "        text-align: left;\n",
       "    }\n",
       "\n",
       "    .dataframe tbody tr th {\n",
       "        vertical-align: top;\n",
       "    }\n",
       "</style>\n",
       "<table border=\"1\" class=\"dataframe\">\n",
       "  <thead>\n",
       "    <tr style=\"text-align: right;\">\n",
       "      <th></th>\n",
       "      <th>age</th>\n",
       "      <th>today</th>\n",
       "      <th>diffd</th>\n",
       "      <th>diffdd</th>\n",
       "      <th>diffm</th>\n",
       "      <th>diffy</th>\n",
       "    </tr>\n",
       "  </thead>\n",
       "  <tbody>\n",
       "    <tr>\n",
       "      <th>0</th>\n",
       "      <td>2001-01-01</td>\n",
       "      <td>2017-08-30</td>\n",
       "      <td>6085 days</td>\n",
       "      <td>6085.0</td>\n",
       "      <td>199.0</td>\n",
       "      <td>16.0</td>\n",
       "    </tr>\n",
       "    <tr>\n",
       "      <th>1</th>\n",
       "      <td>2004-06-01</td>\n",
       "      <td>2017-08-30</td>\n",
       "      <td>4838 days</td>\n",
       "      <td>4838.0</td>\n",
       "      <td>158.0</td>\n",
       "      <td>13.0</td>\n",
       "    </tr>\n",
       "  </tbody>\n",
       "</table>\n",
       "</div>"
      ],
      "text/plain": [
       "         age      today     diffd  diffdd  diffm  diffy\n",
       "0 2001-01-01 2017-08-30 6085 days  6085.0  199.0   16.0\n",
       "1 2004-06-01 2017-08-30 4838 days  4838.0  158.0   13.0"
      ]
     },
     "execution_count": 9,
     "metadata": {},
     "output_type": "execute_result"
    }
   ],
   "source": [
    "dft = pd.DataFrame([ pd.Timestamp('20010101'), pd.Timestamp('20040601') ], columns=['age'])\n",
    "print(dft)\n",
    "\n",
    "dft['today'] = pd.Timestamp('20170830')\n",
    "dft['diffd'] = (dft['today'] - dft['age'])\n",
    "dft['diffdd'] = (dft['today'] - dft['age']).astype('timedelta64[D]')\n",
    "dft['diffm'] = (dft['today'] - dft['age']).astype('timedelta64[M]')\n",
    "dft['diffy'] = (dft['today'] - dft['age']).astype('timedelta64[Y]')\n",
    "dft"
   ]
  }
 ],
 "metadata": {
  "kernelspec": {
   "display_name": "Python 2",
   "language": "python",
   "name": "python2"
  },
  "language_info": {
   "codemirror_mode": {
    "name": "ipython",
    "version": 2
   },
   "file_extension": ".py",
   "mimetype": "text/x-python",
   "name": "python",
   "nbconvert_exporter": "python",
   "pygments_lexer": "ipython2",
   "version": "2.7.13"
  }
 },
 "nbformat": 4,
 "nbformat_minor": 2
}
