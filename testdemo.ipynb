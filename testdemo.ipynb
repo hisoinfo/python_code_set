{
 "cells": [
  {
   "cell_type": "code",
   "execution_count": 26,
   "metadata": {
    "collapsed": false
   },
   "outputs": [
    {
     "name": "stdout",
     "output_type": "stream",
     "text": [
      "生日数据有误\n"
     ]
    },
    {
     "data": {
      "text/plain": [
       "'生日数据有误'"
      ]
     },
     "execution_count": 26,
     "metadata": {},
     "output_type": "execute_result"
    }
   ],
   "source": [
    "import time \n",
    "import datetime\n",
    "import re\n",
    "# import long\n",
    "\n",
    "def get_birth_format(birth):\n",
    "    result = '生日数据有误'\n",
    "    base_keys = ['年', '月', '日']\n",
    "\n",
    "    birth = birth if birth else time.time()\n",
    "\n",
    "    if isinstance(birth, str):\n",
    "        re_keys = re.compile(u'[\\u4e00-\\u9fa5]')\n",
    "        tmp_keys = re_keys.findall(birth)\n",
    "\n",
    "        if tmp_keys and tmp_keys == base_keys:\n",
    "            birth_date = re.sub(r'[\\u4e00-\\u9fa5]', '-', birth)\n",
    "            birth_date = birth_date[:-1]\n",
    "            time_format = time.strptime(birth_date, \"%Y-%m-%d\")\n",
    "            result = time.strftime('%d/%m/%Y', time_format)\n",
    "        elif birth.isdigit():\n",
    "            birth_date = int(birth)\n",
    "            birth_date = time.localtime(birth_date)\n",
    "            result = time.strftime('%d/%m/%Y', birth_date)\n",
    "    elif isinstance(birth, (int, float)):\n",
    "            birth_date = time.localtime(birth)\n",
    "            result = time.strftime('%d/%m/%Y', birth_date)\n",
    "\n",
    "    print(result)\n",
    "    return result\n",
    "\n",
    "get_birth_format('2004年01月23')"
   ]
  },
  {
   "cell_type": "code",
   "execution_count": 13,
   "metadata": {
    "collapsed": false
   },
   "outputs": [
    {
     "name": "stdout",
     "output_type": "stream",
     "text": [
      "['__cause__', '__class__', '__context__', '__delattr__', '__dict__', '__dir__', '__doc__', '__eq__', '__format__', '__ge__', '__getattribute__', '__gt__', '__hash__', '__init__', '__le__', '__lt__', '__ne__', '__new__', '__reduce__', '__reduce_ex__', '__repr__', '__setattr__', '__setstate__', '__sizeof__', '__str__', '__subclasshook__', '__suppress_context__', '__traceback__', 'args', 'with_traceback']\n",
      "Inappropriate argument type.\n"
     ]
    }
   ],
   "source": [
    "a = 1\n",
    "b = None\n",
    "\n",
    "try:\n",
    "    c = a/b\n",
    "except Exception as e:\n",
    "    print(dir(e))\n",
    "    "
   ]
  },
  {
   "cell_type": "code",
   "execution_count": 96,
   "metadata": {
    "collapsed": false
   },
   "outputs": [
    {
     "name": "stdout",
     "output_type": "stream",
     "text": [
      "5jAavIag\n"
     ]
    }
   ],
   "source": [
    "import json\n",
    "import base64\n",
    "from base64 import b64encode, b64decode\n",
    "import hashlib\n",
    "from Crypto.Cipher import AES\n",
    "# from urllib import quote\n",
    "import urllib.parse\n",
    "\n",
    "KEY = '5jAavIag'\n",
    "CODE_KEY = '230164a555101e1f'\n",
    "print(KEY)\n",
    "\n",
    "def apiCheckVan(key, value):\n",
    "    print(key)\n",
    "    print('&&&&&&')\n",
    "    print(value)\n",
    "    baseValue = urllib.parse.unquote(value)\n",
    "    print(baseValue)\n",
    "    strJsonNext = \"%s%s\" % (KEY, baseValue)\n",
    "    print(strJsonNext)\n",
    "    print('^^^====^^^  {}'.format(strJsonNext))\n",
    "    nowKeyNext = hashlib.md5(strJsonNext.encode(encoding='gb2312')).hexdigest()\n",
    "\n",
    "    if nowKeyNext != key:\n",
    "        print('api key error')\n",
    "        return\n",
    "\n",
    "    # 处理数据\n",
    "    valueStr = base64.decodestring(baseValue.encode('ascii'))\n",
    "    result = bo_api_decode(valueStr)\n",
    "    result = eval(result)\n",
    "    result = json_decode(result)\n",
    "\n",
    "    return result\n",
    "\n",
    "\n",
    "def bo_api_decode(crypt):\n",
    "    key = iv = CODE_KEY\n",
    "    generator = AES.new(key, AES.MODE_CBC, iv)\n",
    "    recovery = generator.decrypt(crypt)\n",
    "    print(type(recovery))\n",
    "    a = str(recovery, encoding='utf8')\n",
    "    print(a)\n",
    "    print(type(a))\n",
    "#     aa = json.loads(a.rstrip('\\0'))\n",
    "    aa = json.loads(a)\n",
    "    print(aa)\n",
    "    return recovery.rstrip('\\0')\n",
    "\n",
    "\n",
    "def bo_api_encode(value):\n",
    "    key = iv = CODE_KEY\n",
    "    pad_it = lambda s: s + (16 - len(s) % 16) * '\\0'\n",
    "    generator = AES.new(key, AES.MODE_CBC, iv)\n",
    "    crypt = generator.encrypt(pad_it(str(json_encode(value))))\n",
    "    crypt = base64.b64encode(crypt)\n",
    "    crypt = urllib.parse.quote(crypt)\n",
    "\n",
    "    return crypt\n",
    "\n",
    "def build_key(value):\n",
    "    value = urllib.parse.unquote(value)\n",
    "    base_value = '%s%s'%(KEY, value)\n",
    "    api_key = hashlib.md5(base_value.encode(encoding='gb2312')).hexdigest()\n",
    "    return api_key\n",
    "\n",
    "def json_encode(data):\n",
    "    try:\n",
    "        return json.dumps(data)\n",
    "    except Exception as e:\n",
    "        logging.error(e)\n",
    "\n",
    "\n",
    "def json_decode(data):\n",
    "    try:\n",
    "        return json.loads(data)\n",
    "    except Exception as e:\n",
    "        logging.error(e)\n",
    "        logging.error(data)"
   ]
  },
  {
   "cell_type": "code",
   "execution_count": 97,
   "metadata": {
    "collapsed": false
   },
   "outputs": [
    {
     "name": "stdout",
     "output_type": "stream",
     "text": [
      "69f3d46333b68541c1d5568d21084aa4\n",
      "&&&&&&\n",
      "28EQAou4qpRLntZYXuBNUzRFqmW7PcUw9ZC8SD035Ho6ktAWp6l3e27bekS/enhL%2BsEmu7Z8c9SbfxVt2A4QgdtVebtWN7aNMEMr6vXmaNI%3D\n",
      "28EQAou4qpRLntZYXuBNUzRFqmW7PcUw9ZC8SD035Ho6ktAWp6l3e27bekS/enhL+sEmu7Z8c9SbfxVt2A4QgdtVebtWN7aNMEMr6vXmaNI=\n",
      "5jAavIag28EQAou4qpRLntZYXuBNUzRFqmW7PcUw9ZC8SD035Ho6ktAWp6l3e27bekS/enhL+sEmu7Z8c9SbfxVt2A4QgdtVebtWN7aNMEMr6vXmaNI=\n",
      "^^^====^^^  5jAavIag28EQAou4qpRLntZYXuBNUzRFqmW7PcUw9ZC8SD035Ho6ktAWp6l3e27bekS/enhL+sEmu7Z8c9SbfxVt2A4QgdtVebtWN7aNMEMr6vXmaNI=\n",
      "<class 'bytes'>\n",
      "\"{\\\"uid\\\":\\\"592e59000d5b9808d652655b\\\",\\\"tid\\\":\\\"592e67d90d5b980b7f3f3fd4\\\"}\"\u0000\u0000\u0000\n",
      "<class 'str'>\n"
     ]
    },
    {
     "name": "stderr",
     "output_type": "stream",
     "text": [
      "/Users/willschang/anaconda/lib/python3.5/site-packages/ipykernel/__main__.py:29: DeprecationWarning: decodestring() is a deprecated alias, use decodebytes()\n"
     ]
    },
    {
     "ename": "JSONDecodeError",
     "evalue": "Extra data: line 1 column 78 (char 77)",
     "output_type": "error",
     "traceback": [
      "\u001b[0;31m---------------------------------------------------------------------------\u001b[0m",
      "\u001b[0;31mJSONDecodeError\u001b[0m                           Traceback (most recent call last)",
      "\u001b[0;32m<ipython-input-97-46c72c8f2e7f>\u001b[0m in \u001b[0;36m<module>\u001b[0;34m()\u001b[0m\n\u001b[1;32m      6\u001b[0m \u001b[0;31m# print(demo_key)\u001b[0m\u001b[0;34m\u001b[0m\u001b[0;34m\u001b[0m\u001b[0m\n\u001b[1;32m      7\u001b[0m \u001b[0;34m\u001b[0m\u001b[0m\n\u001b[0;32m----> 8\u001b[0;31m \u001b[0mresult\u001b[0m \u001b[0;34m=\u001b[0m \u001b[0mapiCheckVan\u001b[0m\u001b[0;34m(\u001b[0m\u001b[0mdemo_key\u001b[0m\u001b[0;34m,\u001b[0m \u001b[0mcrypt_data\u001b[0m\u001b[0;34m)\u001b[0m\u001b[0;34m\u001b[0m\u001b[0m\n\u001b[0m\u001b[1;32m      9\u001b[0m \u001b[0mprint\u001b[0m\u001b[0;34m(\u001b[0m\u001b[0mresult\u001b[0m\u001b[0;34m)\u001b[0m\u001b[0;34m\u001b[0m\u001b[0m\n",
      "\u001b[0;32m<ipython-input-96-716e6a36bdba>\u001b[0m in \u001b[0;36mapiCheckVan\u001b[0;34m(key, value)\u001b[0m\n\u001b[1;32m     28\u001b[0m     \u001b[0;31m# 处理数据\u001b[0m\u001b[0;34m\u001b[0m\u001b[0;34m\u001b[0m\u001b[0m\n\u001b[1;32m     29\u001b[0m     \u001b[0mvalueStr\u001b[0m \u001b[0;34m=\u001b[0m \u001b[0mbase64\u001b[0m\u001b[0;34m.\u001b[0m\u001b[0mdecodestring\u001b[0m\u001b[0;34m(\u001b[0m\u001b[0mbaseValue\u001b[0m\u001b[0;34m.\u001b[0m\u001b[0mencode\u001b[0m\u001b[0;34m(\u001b[0m\u001b[0;34m'ascii'\u001b[0m\u001b[0;34m)\u001b[0m\u001b[0;34m)\u001b[0m\u001b[0;34m\u001b[0m\u001b[0m\n\u001b[0;32m---> 30\u001b[0;31m     \u001b[0mresult\u001b[0m \u001b[0;34m=\u001b[0m \u001b[0mbo_api_decode\u001b[0m\u001b[0;34m(\u001b[0m\u001b[0mvalueStr\u001b[0m\u001b[0;34m)\u001b[0m\u001b[0;34m\u001b[0m\u001b[0m\n\u001b[0m\u001b[1;32m     31\u001b[0m     \u001b[0mresult\u001b[0m \u001b[0;34m=\u001b[0m \u001b[0meval\u001b[0m\u001b[0;34m(\u001b[0m\u001b[0mresult\u001b[0m\u001b[0;34m)\u001b[0m\u001b[0;34m\u001b[0m\u001b[0m\n\u001b[1;32m     32\u001b[0m     \u001b[0mresult\u001b[0m \u001b[0;34m=\u001b[0m \u001b[0mjson_decode\u001b[0m\u001b[0;34m(\u001b[0m\u001b[0mresult\u001b[0m\u001b[0;34m)\u001b[0m\u001b[0;34m\u001b[0m\u001b[0m\n",
      "\u001b[0;32m<ipython-input-96-716e6a36bdba>\u001b[0m in \u001b[0;36mbo_api_decode\u001b[0;34m(crypt)\u001b[0m\n\u001b[1;32m     44\u001b[0m     \u001b[0mprint\u001b[0m\u001b[0;34m(\u001b[0m\u001b[0mtype\u001b[0m\u001b[0;34m(\u001b[0m\u001b[0ma\u001b[0m\u001b[0;34m)\u001b[0m\u001b[0;34m)\u001b[0m\u001b[0;34m\u001b[0m\u001b[0m\n\u001b[1;32m     45\u001b[0m \u001b[0;31m#     aa = json.loads(a.rstrip('\\0'))\u001b[0m\u001b[0;34m\u001b[0m\u001b[0;34m\u001b[0m\u001b[0m\n\u001b[0;32m---> 46\u001b[0;31m     \u001b[0maa\u001b[0m \u001b[0;34m=\u001b[0m \u001b[0mjson\u001b[0m\u001b[0;34m.\u001b[0m\u001b[0mloads\u001b[0m\u001b[0;34m(\u001b[0m\u001b[0ma\u001b[0m\u001b[0;34m)\u001b[0m\u001b[0;34m\u001b[0m\u001b[0m\n\u001b[0m\u001b[1;32m     47\u001b[0m     \u001b[0mprint\u001b[0m\u001b[0;34m(\u001b[0m\u001b[0maa\u001b[0m\u001b[0;34m)\u001b[0m\u001b[0;34m\u001b[0m\u001b[0m\n\u001b[1;32m     48\u001b[0m     \u001b[0;32mreturn\u001b[0m \u001b[0mrecovery\u001b[0m\u001b[0;34m.\u001b[0m\u001b[0mrstrip\u001b[0m\u001b[0;34m(\u001b[0m\u001b[0;34m'\\0'\u001b[0m\u001b[0;34m)\u001b[0m\u001b[0;34m\u001b[0m\u001b[0m\n",
      "\u001b[0;32m/Users/willschang/anaconda/lib/python3.5/json/__init__.py\u001b[0m in \u001b[0;36mloads\u001b[0;34m(s, encoding, cls, object_hook, parse_float, parse_int, parse_constant, object_pairs_hook, **kw)\u001b[0m\n\u001b[1;32m    317\u001b[0m             \u001b[0mparse_int\u001b[0m \u001b[0;32mis\u001b[0m \u001b[0;32mNone\u001b[0m \u001b[0;32mand\u001b[0m \u001b[0mparse_float\u001b[0m \u001b[0;32mis\u001b[0m \u001b[0;32mNone\u001b[0m \u001b[0;32mand\u001b[0m\u001b[0;34m\u001b[0m\u001b[0m\n\u001b[1;32m    318\u001b[0m             parse_constant is None and object_pairs_hook is None and not kw):\n\u001b[0;32m--> 319\u001b[0;31m         \u001b[0;32mreturn\u001b[0m \u001b[0m_default_decoder\u001b[0m\u001b[0;34m.\u001b[0m\u001b[0mdecode\u001b[0m\u001b[0;34m(\u001b[0m\u001b[0ms\u001b[0m\u001b[0;34m)\u001b[0m\u001b[0;34m\u001b[0m\u001b[0m\n\u001b[0m\u001b[1;32m    320\u001b[0m     \u001b[0;32mif\u001b[0m \u001b[0mcls\u001b[0m \u001b[0;32mis\u001b[0m \u001b[0;32mNone\u001b[0m\u001b[0;34m:\u001b[0m\u001b[0;34m\u001b[0m\u001b[0m\n\u001b[1;32m    321\u001b[0m         \u001b[0mcls\u001b[0m \u001b[0;34m=\u001b[0m \u001b[0mJSONDecoder\u001b[0m\u001b[0;34m\u001b[0m\u001b[0m\n",
      "\u001b[0;32m/Users/willschang/anaconda/lib/python3.5/json/decoder.py\u001b[0m in \u001b[0;36mdecode\u001b[0;34m(self, s, _w)\u001b[0m\n\u001b[1;32m    340\u001b[0m         \u001b[0mend\u001b[0m \u001b[0;34m=\u001b[0m \u001b[0m_w\u001b[0m\u001b[0;34m(\u001b[0m\u001b[0ms\u001b[0m\u001b[0;34m,\u001b[0m \u001b[0mend\u001b[0m\u001b[0;34m)\u001b[0m\u001b[0;34m.\u001b[0m\u001b[0mend\u001b[0m\u001b[0;34m(\u001b[0m\u001b[0;34m)\u001b[0m\u001b[0;34m\u001b[0m\u001b[0m\n\u001b[1;32m    341\u001b[0m         \u001b[0;32mif\u001b[0m \u001b[0mend\u001b[0m \u001b[0;34m!=\u001b[0m \u001b[0mlen\u001b[0m\u001b[0;34m(\u001b[0m\u001b[0ms\u001b[0m\u001b[0;34m)\u001b[0m\u001b[0;34m:\u001b[0m\u001b[0;34m\u001b[0m\u001b[0m\n\u001b[0;32m--> 342\u001b[0;31m             \u001b[0;32mraise\u001b[0m \u001b[0mJSONDecodeError\u001b[0m\u001b[0;34m(\u001b[0m\u001b[0;34m\"Extra data\"\u001b[0m\u001b[0;34m,\u001b[0m \u001b[0ms\u001b[0m\u001b[0;34m,\u001b[0m \u001b[0mend\u001b[0m\u001b[0;34m)\u001b[0m\u001b[0;34m\u001b[0m\u001b[0m\n\u001b[0m\u001b[1;32m    343\u001b[0m         \u001b[0;32mreturn\u001b[0m \u001b[0mobj\u001b[0m\u001b[0;34m\u001b[0m\u001b[0m\n\u001b[1;32m    344\u001b[0m \u001b[0;34m\u001b[0m\u001b[0m\n",
      "\u001b[0;31mJSONDecodeError\u001b[0m: Extra data: line 1 column 78 (char 77)"
     ]
    }
   ],
   "source": [
    "demo_data = '{\"uid\":\"592e59000d5b9808d652655b\",\"tid\":\"592e67d90d5b980b7f3f3fd4\"}'\n",
    "crypt_data = bo_api_encode(demo_data)\n",
    "# print(crypt_data)\n",
    "\n",
    "demo_key = build_key(crypt_data)\n",
    "# print(demo_key)\n",
    "\n",
    "result = apiCheckVan(demo_key, crypt_data)\n",
    "print(result)"
   ]
  },
  {
   "cell_type": "code",
   "execution_count": 38,
   "metadata": {
    "collapsed": false
   },
   "outputs": [
    {
     "name": "stdout",
     "output_type": "stream",
     "text": [
      "2017-11-22\n",
      "1511280000\n",
      "2017-11-22\n",
      "1511280000\n"
     ]
    }
   ],
   "source": [
    "import datetime, time\n",
    "t = datetime.datetime.now().date()\n",
    "# tt = t.timestamp()\n",
    "ts = time.mktime(t.timetuple())\n",
    "print(t)\n",
    "print(int(ts))\n",
    "a = 1511280000\n",
    "ad = datetime.datetime.fromtimestamp(a)\n",
    "print(ad.date())\n",
    "if t == ad.date():\n",
    "    print(a)"
   ]
  },
  {
   "cell_type": "code",
   "execution_count": 105,
   "metadata": {
    "collapsed": false
   },
   "outputs": [
    {
     "name": "stdout",
     "output_type": "stream",
     "text": [
      "{\"uid\":\"592e59000d5b9808d652655b\",\"tid\":\"592e67d90d5b980b7f3f3fd4\"}\n"
     ]
    }
   ],
   "source": [
    "b = '{\"uid\":\"592e59000d5b9808d652655b\",\"tid\":\"592e67d90d5b980b7f3f3fd4\"}'\n",
    "bb = json.loads(b)\n",
    "print(b)"
   ]
  },
  {
   "cell_type": "code",
   "execution_count": 102,
   "metadata": {
    "collapsed": false
   },
   "outputs": [
    {
     "ename": "JSONDecodeError",
     "evalue": "Expecting value: line 1 column 1 (char 0)",
     "output_type": "error",
     "traceback": [
      "\u001b[0;31m---------------------------------------------------------------------------\u001b[0m",
      "\u001b[0;31mJSONDecodeError\u001b[0m                           Traceback (most recent call last)",
      "\u001b[0;32m<ipython-input-102-05fddfaacb17>\u001b[0m in \u001b[0;36m<module>\u001b[0;34m()\u001b[0m\n\u001b[1;32m      1\u001b[0m \u001b[0;32mimport\u001b[0m \u001b[0mjson\u001b[0m\u001b[0;34m\u001b[0m\u001b[0m\n\u001b[1;32m      2\u001b[0m \u001b[0ma\u001b[0m \u001b[0;34m=\u001b[0m \u001b[0;34m'http://www.cnblogs.com/txw1958/'\u001b[0m\u001b[0;34m\u001b[0m\u001b[0m\n\u001b[0;32m----> 3\u001b[0;31m \u001b[0mbb\u001b[0m \u001b[0;34m=\u001b[0m \u001b[0mjson\u001b[0m\u001b[0;34m.\u001b[0m\u001b[0mloads\u001b[0m\u001b[0;34m(\u001b[0m\u001b[0ma\u001b[0m\u001b[0;34m)\u001b[0m\u001b[0;34m\u001b[0m\u001b[0m\n\u001b[0m\u001b[1;32m      4\u001b[0m \u001b[0mprint\u001b[0m\u001b[0;34m(\u001b[0m\u001b[0mbb\u001b[0m\u001b[0;34m)\u001b[0m\u001b[0;34m\u001b[0m\u001b[0m\n\u001b[1;32m      5\u001b[0m \u001b[0;31m# b = bytes(a)\u001b[0m\u001b[0;34m\u001b[0m\u001b[0;34m\u001b[0m\u001b[0m\n",
      "\u001b[0;32m/Users/willschang/anaconda/lib/python3.5/json/__init__.py\u001b[0m in \u001b[0;36mloads\u001b[0;34m(s, encoding, cls, object_hook, parse_float, parse_int, parse_constant, object_pairs_hook, **kw)\u001b[0m\n\u001b[1;32m    317\u001b[0m             \u001b[0mparse_int\u001b[0m \u001b[0;32mis\u001b[0m \u001b[0;32mNone\u001b[0m \u001b[0;32mand\u001b[0m \u001b[0mparse_float\u001b[0m \u001b[0;32mis\u001b[0m \u001b[0;32mNone\u001b[0m \u001b[0;32mand\u001b[0m\u001b[0;34m\u001b[0m\u001b[0m\n\u001b[1;32m    318\u001b[0m             parse_constant is None and object_pairs_hook is None and not kw):\n\u001b[0;32m--> 319\u001b[0;31m         \u001b[0;32mreturn\u001b[0m \u001b[0m_default_decoder\u001b[0m\u001b[0;34m.\u001b[0m\u001b[0mdecode\u001b[0m\u001b[0;34m(\u001b[0m\u001b[0ms\u001b[0m\u001b[0;34m)\u001b[0m\u001b[0;34m\u001b[0m\u001b[0m\n\u001b[0m\u001b[1;32m    320\u001b[0m     \u001b[0;32mif\u001b[0m \u001b[0mcls\u001b[0m \u001b[0;32mis\u001b[0m \u001b[0;32mNone\u001b[0m\u001b[0;34m:\u001b[0m\u001b[0;34m\u001b[0m\u001b[0m\n\u001b[1;32m    321\u001b[0m         \u001b[0mcls\u001b[0m \u001b[0;34m=\u001b[0m \u001b[0mJSONDecoder\u001b[0m\u001b[0;34m\u001b[0m\u001b[0m\n",
      "\u001b[0;32m/Users/willschang/anaconda/lib/python3.5/json/decoder.py\u001b[0m in \u001b[0;36mdecode\u001b[0;34m(self, s, _w)\u001b[0m\n\u001b[1;32m    337\u001b[0m \u001b[0;34m\u001b[0m\u001b[0m\n\u001b[1;32m    338\u001b[0m         \"\"\"\n\u001b[0;32m--> 339\u001b[0;31m         \u001b[0mobj\u001b[0m\u001b[0;34m,\u001b[0m \u001b[0mend\u001b[0m \u001b[0;34m=\u001b[0m \u001b[0mself\u001b[0m\u001b[0;34m.\u001b[0m\u001b[0mraw_decode\u001b[0m\u001b[0;34m(\u001b[0m\u001b[0ms\u001b[0m\u001b[0;34m,\u001b[0m \u001b[0midx\u001b[0m\u001b[0;34m=\u001b[0m\u001b[0m_w\u001b[0m\u001b[0;34m(\u001b[0m\u001b[0ms\u001b[0m\u001b[0;34m,\u001b[0m \u001b[0;36m0\u001b[0m\u001b[0;34m)\u001b[0m\u001b[0;34m.\u001b[0m\u001b[0mend\u001b[0m\u001b[0;34m(\u001b[0m\u001b[0;34m)\u001b[0m\u001b[0;34m)\u001b[0m\u001b[0;34m\u001b[0m\u001b[0m\n\u001b[0m\u001b[1;32m    340\u001b[0m         \u001b[0mend\u001b[0m \u001b[0;34m=\u001b[0m \u001b[0m_w\u001b[0m\u001b[0;34m(\u001b[0m\u001b[0ms\u001b[0m\u001b[0;34m,\u001b[0m \u001b[0mend\u001b[0m\u001b[0;34m)\u001b[0m\u001b[0;34m.\u001b[0m\u001b[0mend\u001b[0m\u001b[0;34m(\u001b[0m\u001b[0;34m)\u001b[0m\u001b[0;34m\u001b[0m\u001b[0m\n\u001b[1;32m    341\u001b[0m         \u001b[0;32mif\u001b[0m \u001b[0mend\u001b[0m \u001b[0;34m!=\u001b[0m \u001b[0mlen\u001b[0m\u001b[0;34m(\u001b[0m\u001b[0ms\u001b[0m\u001b[0;34m)\u001b[0m\u001b[0;34m:\u001b[0m\u001b[0;34m\u001b[0m\u001b[0m\n",
      "\u001b[0;32m/Users/willschang/anaconda/lib/python3.5/json/decoder.py\u001b[0m in \u001b[0;36mraw_decode\u001b[0;34m(self, s, idx)\u001b[0m\n\u001b[1;32m    355\u001b[0m             \u001b[0mobj\u001b[0m\u001b[0;34m,\u001b[0m \u001b[0mend\u001b[0m \u001b[0;34m=\u001b[0m \u001b[0mself\u001b[0m\u001b[0;34m.\u001b[0m\u001b[0mscan_once\u001b[0m\u001b[0;34m(\u001b[0m\u001b[0ms\u001b[0m\u001b[0;34m,\u001b[0m \u001b[0midx\u001b[0m\u001b[0;34m)\u001b[0m\u001b[0;34m\u001b[0m\u001b[0m\n\u001b[1;32m    356\u001b[0m         \u001b[0;32mexcept\u001b[0m \u001b[0mStopIteration\u001b[0m \u001b[0;32mas\u001b[0m \u001b[0merr\u001b[0m\u001b[0;34m:\u001b[0m\u001b[0;34m\u001b[0m\u001b[0m\n\u001b[0;32m--> 357\u001b[0;31m             \u001b[0;32mraise\u001b[0m \u001b[0mJSONDecodeError\u001b[0m\u001b[0;34m(\u001b[0m\u001b[0;34m\"Expecting value\"\u001b[0m\u001b[0;34m,\u001b[0m \u001b[0ms\u001b[0m\u001b[0;34m,\u001b[0m \u001b[0merr\u001b[0m\u001b[0;34m.\u001b[0m\u001b[0mvalue\u001b[0m\u001b[0;34m)\u001b[0m \u001b[0;32mfrom\u001b[0m \u001b[0;32mNone\u001b[0m\u001b[0;34m\u001b[0m\u001b[0m\n\u001b[0m\u001b[1;32m    358\u001b[0m         \u001b[0;32mreturn\u001b[0m \u001b[0mobj\u001b[0m\u001b[0;34m,\u001b[0m \u001b[0mend\u001b[0m\u001b[0;34m\u001b[0m\u001b[0m\n",
      "\u001b[0;31mJSONDecodeError\u001b[0m: Expecting value: line 1 column 1 (char 0)"
     ]
    }
   ],
   "source": [
    "import json\n",
    "a = b'http://www.cnblogs.com/txw1958/'\n",
    "bb = json.loads(a)\n",
    "print(bb)\n",
    "# b = bytes(a)\n",
    "b = bytes(a, encoding = \"utf8\") \n",
    "print(b)\n",
    "print(type(b))\n",
    "\n",
    "c = str(b, encoding = \"utf-8\")  \n",
    "print(type(c))\n",
    "print(c)"
   ]
  }
 ],
 "metadata": {
  "anaconda-cloud": {},
  "kernelspec": {
   "display_name": "Python [default]",
   "language": "python",
   "name": "python3"
  },
  "language_info": {
   "codemirror_mode": {
    "name": "ipython",
    "version": 3
   },
   "file_extension": ".py",
   "mimetype": "text/x-python",
   "name": "python",
   "nbconvert_exporter": "python",
   "pygments_lexer": "ipython3",
   "version": "3.5.2"
  }
 },
 "nbformat": 4,
 "nbformat_minor": 1
}
