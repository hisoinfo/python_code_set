{
 "cells": [
  {
   "cell_type": "markdown",
   "metadata": {},
   "source": [
    "### 随机生成字符串，长度可设置"
   ]
  },
  {
   "cell_type": "code",
   "execution_count": 8,
   "metadata": {},
   "outputs": [
    {
     "name": "stdout",
     "output_type": "stream",
     "text": [
      "3md1fn\n"
     ]
    }
   ],
   "source": [
    "import random\n",
    "import string\n",
    "\n",
    "def get_random_str(length=8):\n",
    "    \"\"\"\n",
    "    生成一随机字符串,最长长度为62\n",
    "    length 字符串长度\n",
    "    \"\"\"\n",
    "    return ''.join([(string.ascii_letters+string.digits)[x] for x in random.sample(range(0,62), length)])\n"
   ]
  },
  {
   "cell_type": "markdown",
   "metadata": {},
   "source": [
    "### 结巴分词样例"
   ]
  },
  {
   "cell_type": "code",
   "execution_count": 5,
   "metadata": {},
   "outputs": [
    {
     "data": {
      "text/plain": [
       "'优秀/ 的/ 人才/ 有/ 机会'"
      ]
     },
     "execution_count": 5,
     "metadata": {},
     "output_type": "execute_result"
    }
   ],
   "source": [
    "import jieba\n",
    "seg_list = jieba.cut(\"优秀的人才有机会\")\n",
    "\"/ \".join(seg_list)"
   ]
  },
  {
   "cell_type": "markdown",
   "metadata": {},
   "source": [
    "### pymongo 操作"
   ]
  },
  {
   "cell_type": "code",
   "execution_count": 42,
   "metadata": {},
   "outputs": [
    {
     "name": "stdout",
     "output_type": "stream",
     "text": [
      "连接状态： Database(MongoClient(host=['localhost:27017'], document_class=dict, tz_aware=False, connect=True), 'test_database')\n",
      "\n",
      "数据库有： ['admin', 'hiso', 'local', 'ye_payment', 'ye_subscribe', 'ye_user']\n",
      "\n",
      "现在的数据库名： hiso\n",
      "\n",
      "该数据库下的集合： ['user', 'tt']\n",
      "\n",
      "插入数据_id： 5937b3440d5b984f27e6921c\n"
     ]
    }
   ],
   "source": [
    "from pymongo import MongoClient\n",
    "from bson.objectid import ObjectId\n",
    "\n",
    "def to_objectid(id):\n",
    "    \"\"\" 将str转换为OjectId \"\"\"\n",
    "    return ObjectId(id)\n",
    "\n",
    "# 测试本地环境下mongodb\n",
    "c = MongoClient()\n",
    "print('连接状态：',c.test_database)\n",
    "# Database(MongoClient(host=['localhost:27017'], document_class=dict, tz_aware=False, connect=True), 'test_database')"
   ]
  },
  {
   "cell_type": "code",
   "execution_count": null,
   "metadata": {
    "collapsed": true
   },
   "outputs": [],
   "source": [
    "#建立于MongoClient 的连接\n",
    "client = MongoClient('localhost', 27017)\n",
    "\n",
    "# 查看有多少数据库\n",
    "dbs = client.database_names()\n",
    "print('\\n数据库有：', dbs)\n",
    "\n",
    "# 连接到某个数据库\n",
    "db = client.hiso # client['hiso']\n",
    "print('\\n现在的数据库名：', db.name)\n",
    "\n",
    "col_names = db.collection_names()\n",
    "print('\\n该数据库下的集合：', col_names)\n",
    "\n",
    "# 连接到某个集合,若库里没有会在插入数据时新建该collections\n",
    "col = db.user # collections: user\n",
    "rs = col.insert_one({'username': 'willschang'})\n",
    "print('\\n插入数据_id：', rs.inserted_id)\n"
   ]
  },
  {
   "cell_type": "code",
   "execution_count": 55,
   "metadata": {},
   "outputs": [
    {
     "name": "stdout",
     "output_type": "stream",
     "text": [
      "\n",
      "返回数据量： 2\n",
      "查询到结果： [{'username': 'willschang'}, {'username': 'willschang'}]\n",
      "{'_id': ObjectId('5937b2070d5b984f27e69219'), 'username': 'willschang'}\n"
     ]
    }
   ],
   "source": [
    "# find({query}, {fields}) fields里的0表示不返回字段信息 查询数据，数据以list形式转换输出\n",
    "data = col.find({'username': 'willschang'}, {'_id':0, 'username': 1})\n",
    "\n",
    "# 数据条数\n",
    "counts = data.count()\n",
    "print('\\n返回数据量：', counts)\n",
    "print('查询到结果：', list(data))\n",
    "\n",
    "# find_one() 查询数据，数据以dict形式返回\n",
    "print(col.find_one())"
   ]
  },
  {
   "cell_type": "code",
   "execution_count": 58,
   "metadata": {},
   "outputs": [
    {
     "name": "stdout",
     "output_type": "stream",
     "text": [
      "wier wer {\"df\":2}\n"
     ]
    }
   ],
   "source": [
    "key = 'wier,wer,{\"df\":2}'\n",
    "cmd, key, values = key.split(',', 2)\n",
    "print(cmd, key, values)\n",
    "# '1'*1000000"
   ]
  },
  {
   "cell_type": "code",
   "execution_count": 7,
   "metadata": {
    "collapsed": true
   },
   "outputs": [],
   "source": [
    "import requests\n",
    "import time\n",
    "\n",
    "url = 'http://120.24.86.73/?A=WRITE,test1,%s'%('1'*1000)\n"
   ]
  },
  {
   "cell_type": "code",
   "execution_count": 1,
   "metadata": {},
   "outputs": [
    {
     "data": {
      "text/plain": [
       "array([[ 1.,  0.,  0.,  1.,  0.,  0.,  0.,  0.,  1.]])"
      ]
     },
     "execution_count": 1,
     "metadata": {},
     "output_type": "execute_result"
    }
   ],
   "source": [
    "from sklearn import preprocessing\n",
    "\n",
    "enc = preprocessing.OneHotEncoder()\n",
    "\n",
    "enc.fit([[0, 0, 3], [1, 1, 0], [0, 2, 1], [1, 0, 2]])\n",
    "\n",
    "enc.transform([[0, 1, 3]]).toarray()"
   ]
  },
  {
   "cell_type": "code",
   "execution_count": 12,
   "metadata": {},
   "outputs": [
    {
     "name": "stdout",
     "output_type": "stream",
     "text": [
      "11\n",
      "15060736692\n",
      "150****6692\n",
      "\"test\"\n",
      "test\n"
     ]
    }
   ],
   "source": [
    "bank = '15060736692'\n",
    "l = len(bank)\n",
    "print(l)\n",
    "\n",
    "t = bank[:l-8] + '****' + bank[l-4:]\n",
    "print(bank)\n",
    "print(t)\n",
    "\n",
    "a = \"\\\"test\\\"\"\n",
    "print(a)\n",
    "aa = a.strip('\\\"')\n",
    "print(aa)"
   ]
  },
  {
   "cell_type": "markdown",
   "metadata": {},
   "source": [
    "### 多线程"
   ]
  },
  {
   "cell_type": "code",
   "execution_count": 19,
   "metadata": {
    "collapsed": true
   },
   "outputs": [],
   "source": [
    "import concurrent\n",
    "import random\n",
    "def read(q):\n",
    "        print('Get %s from queue.' % q)\n",
    "        time.sleep(random.random())\n",
    "\n",
    "def main():\n",
    "    futures = set()\n",
    "    with concurrent.futures.ProcessPoolExecutor() as executor:\n",
    "        for q in (chr(ord('A')+i) for i in range(26)):\n",
    "            future = executor.submit(read, q)\n",
    "            futures.add(future)\n",
    "    try:\n",
    "        for future in concurrent.futures.as_completed(futures):\n",
    "            err = future.exception()\n",
    "            if err is not None:\n",
    "                raise err\n",
    "    except KeyboardInterrupt:\n",
    "        print(\"stopped by hand\")\n",
    "\n",
    "\n",
    "main()"
   ]
  },
  {
   "cell_type": "markdown",
   "metadata": {},
   "source": [
    "### 多进程"
   ]
  },
  {
   "cell_type": "code",
   "execution_count": 20,
   "metadata": {
    "collapsed": true
   },
   "outputs": [],
   "source": [
    "import concurrent\n",
    "import random\n",
    "def read(q):\n",
    "        print('Get %s from queue.' % q)\n",
    "        time.sleep(random.random())\n",
    "\n",
    "def main():\n",
    "    futures = set()\n",
    "    with concurrent.futures.ProcessPoolExecutor() as executor:\n",
    "        for q in (chr(ord('A')+i) for i in range(26)):\n",
    "            future = executor.submit(read, q)\n",
    "            futures.add(future)\n",
    "    try:\n",
    "        for future in concurrent.futures.as_completed(futures):\n",
    "            err = future.exception()\n",
    "            if err is not None:\n",
    "                raise err\n",
    "    except KeyboardInterrupt:\n",
    "        print(\"stopped by hand\")\n",
    "\n",
    "\n",
    "main()"
   ]
  },
  {
   "cell_type": "markdown",
   "metadata": {
    "collapsed": true
   },
   "source": [
    "### 拼音包 pypinyin\n",
    "\n",
    "[pypinyin API](http://pypinyin.mozillazg.com/zh_CN/master/api.html)"
   ]
  },
  {
   "cell_type": "code",
   "execution_count": 6,
   "metadata": {},
   "outputs": [
    {
     "name": "stdout",
     "output_type": "stream",
     "text": [
      "zx\n",
      "zhongxin\n"
     ]
    }
   ],
   "source": [
    "from pypinyin import pinyin, lazy_pinyin\n",
    "import pypinyin\n",
    "\n",
    "pinyin('中心', style=pypinyin.FIRST_LETTER)\n",
    "chi_spell = pypinyin.slug('中心', separator='', style=pypinyin.FIRST_LETTER)\n",
    "print(chi_spell)\n",
    "chi_spell_all = pypinyin.slug('中心', separator='')\n",
    "print(chi_spell_all)"
   ]
  },
  {
   "cell_type": "markdown",
   "metadata": {},
   "source": [
    "### "
   ]
  },
  {
   "cell_type": "code",
   "execution_count": 1,
   "metadata": {},
   "outputs": [
    {
     "name": "stdout",
     "output_type": "stream",
     "text": [
      "eilrt : {'iterl', 'liter'}\n",
      "abeeilnssstu : {'subessential', 'suitableness'}\n",
      "abc : {'bca', 'acb', 'abc'}\n"
     ]
    }
   ],
   "source": [
    "from collections import defaultdict\n",
    "\n",
    "def find_anagram(input_data):\n",
    "    \"\"\" find all the anagram from a dictionary\n",
    "    \"\"\"\n",
    "\n",
    "    # initize a cotoutine\n",
    "    def start(func):\n",
    "        def _(*args, **kwargs):\n",
    "            g = func(*args, **kwargs)\n",
    "            g.send(None)\n",
    "            return g\n",
    "        return _\n",
    "\n",
    "    @start\n",
    "    def sign(target):\n",
    "        while True:\n",
    "            words = yield\n",
    "            for w in words:\n",
    "                target.send([''.join(sorted(w)), w])\n",
    "            target.send(None)  # flag incicates that all data have been seen\n",
    "\n",
    "    @start\n",
    "    def sort(target):\n",
    "        sign_words = []\n",
    "        while True:\n",
    "            word = yield\n",
    "            if word:\n",
    "                sign_words.append(word)\n",
    "            else:  # all word have sort\n",
    "                target.send(sorted(sign_words))\n",
    "\n",
    "    @start\n",
    "    def squash():\n",
    "        nonlocal dictionary  # python3 only: use the variable define in outside\n",
    "        while True:\n",
    "            word_list = yield\n",
    "            for x in word_list:\n",
    "                dictionary[x[0]].add(x[1])\n",
    "\n",
    "    dictionary = defaultdict(set)\n",
    "\n",
    "    sign(sort(squash())).send(input_data)\n",
    "\n",
    "    # filter the word has no anagram\n",
    "    return filter(lambda x: len(x[1]) > 1, dictionary.items())\n",
    "\n",
    "\n",
    "if __name__ == \"__main__\":\n",
    "\n",
    "    test_data = ['abc', 'acb', 'bca', 'iterl', 'liter', 'hello',\n",
    "                 'subessential', 'suitableness', 'hello']\n",
    "    result = find_anagram(test_data)\n",
    "    for each in result:\n",
    "        print(each[0], ':', each[1])"
   ]
  },
  {
   "cell_type": "markdown",
   "metadata": {
    "collapsed": true
   },
   "source": [
    "## 两个dict合并"
   ]
  },
  {
   "cell_type": "code",
   "execution_count": 3,
   "metadata": {},
   "outputs": [
    {
     "name": "stdout",
     "output_type": "stream",
     "text": [
      "{'a': 1, 'c': 'test', 'b': 3, 'd': 'hi'}\n",
      "{'a': 1, 'c': 'test', 'b': 3, 'd': 'hi'}\n"
     ]
    }
   ],
   "source": [
    "import itertools\n",
    "\n",
    "#for c in itertools.chain('ABC', 'XYZ'):\n",
    "    #print c\n",
    "    \n",
    "a = {'a':1, 'b':3}\n",
    "b = {'c':'test', 'd': 'hi'}\n",
    "c = dict(itertools.chain(a.items(), b.items()))\n",
    "print c\n",
    "\n",
    "cc = dict(a, **b)\n",
    "print cc"
   ]
  },
  {
   "cell_type": "markdown",
   "metadata": {},
   "source": [
    "### 时间 处理"
   ]
  },
  {
   "cell_type": "code",
   "execution_count": 4,
   "metadata": {},
   "outputs": [
    {
     "name": "stdout",
     "output_type": "stream",
     "text": [
      "2017-09-19\n",
      "2012-11-19\n",
      "20170919\n",
      "2017-09-19 06:30:00\n",
      "time.struct_time(tm_year=2017, tm_mon=9, tm_mday=19, tm_hour=6, tm_min=30, tm_sec=0, tm_wday=1, tm_yday=262, tm_isdst=-1)\n",
      "1505773800.0\n",
      "1505802600.0\n",
      "1505813742.9\n",
      "<type 'str'>\n"
     ]
    }
   ],
   "source": [
    "from datetime import datetime, date\n",
    "import time\n",
    "\n",
    "n = datetime.now().date()\n",
    "print n\n",
    "nn = date(2012,11,19)\n",
    "print nn\n",
    "\n",
    "print date.today().strftime('%Y%m%d')\n",
    "\n",
    "tr = datetime.now().replace(hour=6, minute=30, second=0, microsecond=0)\n",
    "\n",
    "print tr\n",
    "trt = tr.timetuple()\n",
    "print trt\n",
    "\n",
    "tt = time.mktime(trt)\n",
    "print tt \n",
    "print tt + 28800\n",
    "print time.time()\n",
    "\n",
    "d = datetime.fromtimestamp(time.time())  \n",
    "str1 = d.strftime(\"%Y-%m-%d %H:%M:%S\")\n",
    "print type(str1)"
   ]
  },
  {
   "cell_type": "code",
   "execution_count": null,
   "metadata": {
    "collapsed": true
   },
   "outputs": [],
   "source": []
  }
 ],
 "metadata": {
  "anaconda-cloud": {},
  "kernelspec": {
   "display_name": "Python 2",
   "language": "python",
   "name": "python2"
  },
  "language_info": {
   "codemirror_mode": {
    "name": "ipython",
    "version": 2
   },
   "file_extension": ".py",
   "mimetype": "text/x-python",
   "name": "python",
   "nbconvert_exporter": "python",
   "pygments_lexer": "ipython2",
   "version": "2.7.13"
  }
 },
 "nbformat": 4,
 "nbformat_minor": 2
}
