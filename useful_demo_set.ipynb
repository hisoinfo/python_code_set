{
 "cells": [
  {
   "cell_type": "code",
   "execution_count": null,
   "metadata": {
    "collapsed": false
   },
   "outputs": [],
   "source": [
    "# 隐藏掉手机号中间4位数字\n",
    "def hidden_numbers(phone, digit=4):\n",
    "    \"\"\"\n",
    "    默认：隐藏掉手机号中间4位数字\n",
    "    \"\"\"\n",
    "    if isinstance(phone, str):\n",
    "        phone = phone.replace(phone[3:7], '*'*digit)\n",
    "        return phone\n",
    "    else:\n",
    "        return TypeError(\"Invalid type of phone, it should be str!\")\n",
    "    \n",
    "\n",
    "p = '1234523432'\n",
    "pp = hidden_numbers(p)\n",
    "    "
   ]
  },
  {
   "cell_type": "code",
   "execution_count": null,
   "metadata": {
    "collapsed": true
   },
   "outputs": [],
   "source": [
    "import time\n",
    "\n",
    "def get_tree_data():\n",
    "    start = time.clock()\n",
    "    dict_list = dict()\n",
    "    l = []\n",
    "    entities = {node['p_id']: {'id': node['p_id'], 'cn': node['p_content'], 'priority': node['p_priority'], 'pid': node['p_parentid']} for node in list}\n",
    "    for e_id in entities:\n",
    "        entitiy = entities[e_id]\n",
    "        pid = entitiy['pid']\n",
    "        if pid == '-1':\n",
    "            l.append(entitiy)\n",
    "        else:\n",
    "            entities[pid].setdefault('sp', []).append(entitiy)\n",
    "    print(l)\n",
    "    end = time.clock()\n",
    "    print(end - start)"
   ]
  },
  {
   "cell_type": "code",
   "execution_count": 6,
   "metadata": {
    "collapsed": false,
    "scrolled": false
   },
   "outputs": [
    {
     "name": "stdout",
     "output_type": "stream",
     "text": [
      "1516608221.916921\n",
      "mysql+mysqldb://root:@localhost:3306/ten_capital?charset=utf8mb4\n"
     ]
    },
    {
     "name": "stderr",
     "output_type": "stream",
     "text": [
      "/Users/willschang/anaconda/lib/python3.5/site-packages/sqlalchemy/dialects/mysql/base.py:1546: Warning: (1287, \"'@@tx_isolation' is deprecated and will be removed in a future release. Please use '@@transaction_isolation' instead\")\n",
      "  cursor.execute('SELECT @@tx_isolation')\n"
     ]
    },
    {
     "name": "stdout",
     "output_type": "stream",
     "text": [
      "145078\n",
      "1516608223.18921\n",
      "-----1.2722890377044678\n",
      "1174048\n"
     ]
    }
   ],
   "source": [
    "import sys\n",
    "# print(sys.version)\n",
    "\n",
    "\n",
    "import sqlalchemy\n",
    "from sqlalchemy import Table, Column, Integer, String\n",
    "from sqlalchemy.sql import text\n",
    "import time\n",
    "\n",
    "settings = {}\n",
    "# MYSQL配置 47.90.97.67\n",
    "# settings['mysql_host'] = '192.168.199.155'\n",
    "settings['mysql_host'] = 'localhost'\n",
    "settings['mysql_port'] = 3306\n",
    "settings['mysql_database'] = 'ten_capital'\n",
    "settings['mysql_user'] = 'root'\n",
    "settings['mysql_password'] = ''\n",
    "settings['mysql_charset'] = 'utf8mb4'\n",
    "\n",
    "\n",
    "class Db(object):\n",
    "\n",
    "    def __init__(self):\n",
    "        mysql_uri = 'mysql+mysqldb://{USER}:{PASSWORD}@{HOST}:{PORT}/{NAME}?charset=utf8mb4'.format(\n",
    "            USER=settings['mysql_user'],\n",
    "            PASSWORD=settings['mysql_password'],\n",
    "            HOST=settings['mysql_host'],\n",
    "            PORT=settings['mysql_port'],\n",
    "            NAME=settings['mysql_database'])\n",
    "        print(mysql_uri)\n",
    "        self.db = sqlalchemy.create_engine(mysql_uri, pool_size=36, echo=False, pool_recycle=3600)\n",
    "        self.metadata = sqlalchemy.MetaData(self.db)\n",
    "\n",
    "    def get_metadata(self):\n",
    "        return self.metadata\n",
    "\n",
    "    def get_connect(self):\n",
    "        return self.db.connect()\n",
    "\n",
    "    def get_table(self, table_name):\n",
    "        return Table(table_name, self.metadata, autoload=True)\n",
    "\n",
    "\n",
    "start = time.time()\n",
    "print(start)\n",
    "conn = Db().get_connect()\n",
    "get_sql = '''select * from tb_project order by p_parentid, p_priority'''\n",
    "\n",
    "data = conn.execute(text(get_sql)).fetchall()\n",
    "end = time.time()\n",
    "print(len(data))\n",
    "print(end)\n",
    "\n",
    "print('-----{}'.format((end-start)))\n",
    "print(sys.getsizeof(data))\n",
    "conn.close()"
   ]
  },
  {
   "cell_type": "code",
   "execution_count": 16,
   "metadata": {
    "collapsed": true
   },
   "outputs": [],
   "source": [
    "import MySQLdb\n",
    "\n",
    "# 打开数据库连接\n",
    "db = MySQLdb.connect(\"192.168.199.155\",\"root\",\"123456\",\"aimer\" )\n",
    "\n",
    "# 使用cursor()方法获取操作游标 \n",
    "cursor = db.cursor()\n",
    "\n",
    "sql = '''select * from tb_project'''\n",
    "cursor.execute(sql)\n",
    "   # 获取所有记录列表\n",
    "results = cursor.fetchall()\n"
   ]
  },
  {
   "cell_type": "code",
   "execution_count": 7,
   "metadata": {
    "collapsed": false
   },
   "outputs": [
    {
     "name": "stdout",
     "output_type": "stream",
     "text": [
      "{'mbminlen': 1, 'comment': 'UTF-8 Unicode', 'collation': 'utf8_general_ci', 'mbmaxlen': 3, 'name': 'utf8'}\n",
      "---0.17081904411315918---\n",
      "145078\n",
      "1.2461321353912354\n"
     ]
    }
   ],
   "source": [
    "import _mysql\n",
    "import time\n",
    "\n",
    "\n",
    "start = time.time()\n",
    "db=_mysql.connect(host=\"localhost\",user=\"root\",\n",
    "                  passwd=\"\",db=\"ten_capital\")\n",
    "\n",
    "info = db.get_character_set_info()\n",
    "print(info)\n",
    "data = db.query(\"\"\"SELECT * FROM tb_project\"\"\")\n",
    "r = db.use_result()\n",
    "# print(r)\n",
    "end1 = time.time()\n",
    "print('---{}---'.format(end1 - start))\n",
    "\n",
    "# how=[0,1,2],0 as tuple,1 as dict key=column, 1 as dict key=table.column\n",
    "d = r.fetch_row(maxrows=0,how=1)\n",
    "print(len(d))\n",
    "end = time.time()\n",
    "print(end - start)\n",
    "# dd = d[:3]\n",
    "# print(dd)\n",
    "# for k in dd:\n",
    "#     print(k)"
   ]
  },
  {
   "cell_type": "code",
   "execution_count": 8,
   "metadata": {
    "collapsed": false
   },
   "outputs": [
    {
     "name": "stdout",
     "output_type": "stream",
     "text": [
      "192.168.0.23\n"
     ]
    }
   ],
   "source": [
    "# 获取本机 IP 方法\n",
    "import socket\n",
    "\n",
    "def get_host_ip():\n",
    "    try:\n",
    "        s = socket.socket(socket.AF_INET, socket.SOCK_DGRAM)\n",
    "        s.connect(('8.8.8.8', 80))\n",
    "        ip = s.getsockname()[0]\n",
    "    finally:\n",
    "        s.close()\n",
    "\n",
    "    return ip\n",
    "print(get_host_ip())"
   ]
  },
  {
   "cell_type": "markdown",
   "metadata": {},
   "source": [
    "## Gevent  \n",
    "[基于协程的Python网络库gevent介绍](http://python.jobbole.com/87181/)\n",
    "\n",
    "[gevent：轻松异步 I/O](http://python.jobbole.com/84301/)"
   ]
  },
  {
   "cell_type": "code",
   "execution_count": 10,
   "metadata": {
    "collapsed": false
   },
   "outputs": [
    {
     "name": "stdout",
     "output_type": "stream",
     "text": [
      "12\n",
      "56\n",
      "34\n",
      "78\n"
     ]
    },
    {
     "data": {
      "text/plain": [
       "[<Greenlet at 0x1158b33d8>, <Greenlet at 0x1158b3800>]"
      ]
     },
     "execution_count": 10,
     "metadata": {},
     "output_type": "execute_result"
    }
   ],
   "source": [
    "import gevent\n",
    " \n",
    "def test1():\n",
    "    print(12)\n",
    "    gevent.sleep(0)\n",
    "    print(34)\n",
    " \n",
    "def test2():\n",
    "    print(56)\n",
    "    gevent.sleep(0)\n",
    "    print(78)\n",
    " \n",
    "gevent.joinall([\n",
    "    gevent.spawn(test1),\n",
    "    gevent.spawn(test2),\n",
    "])"
   ]
  },
  {
   "cell_type": "code",
   "execution_count": 11,
   "metadata": {
    "collapsed": false
   },
   "outputs": [
    {
     "name": "stdout",
     "output_type": "stream",
     "text": [
      "Wait for me\n",
      "I'll wait for you\n",
      "I'll wait for you\n",
      "I'll wait for you\n",
      "I'll wait for you\n",
      "I'll wait for you\n",
      "Ok, I'm done\n",
      "Got wake up message: Hello!\n",
      "Got wake up message: Hello!\n",
      "Got wake up message: Hello!\n",
      "Got wake up message: Hello!\n",
      "Got wake up message: Hello!\n"
     ]
    },
    {
     "data": {
      "text/plain": [
       "[<Greenlet at 0x1158b3898>,\n",
       " <Greenlet at 0x1158b3af8>,\n",
       " <Greenlet at 0x1158b3a60>,\n",
       " <Greenlet at 0x1158b39c8>,\n",
       " <Greenlet at 0x1158b3930>,\n",
       " <Greenlet at 0x1158b3b90>]"
      ]
     },
     "execution_count": 11,
     "metadata": {},
     "output_type": "execute_result"
    }
   ],
   "source": [
    "import gevent\n",
    "from gevent.event import AsyncResult\n",
    "aevt = AsyncResult()\n",
    " \n",
    "def setter():\n",
    "    print('Wait for me')\n",
    "    gevent.sleep(3)  # 3秒后唤醒所有在evt上等待的协程\n",
    "    print(\"Ok, I'm done\")\n",
    "    aevt.set('Hello!')  # 唤醒，并传递消息\n",
    " \n",
    "def waiter():\n",
    "    print(\"I'll wait for you\")\n",
    "    message = aevt.get()  # 等待，并在唤醒时获取消息\n",
    "    print('Got wake up message: %s' % message)\n",
    "    \n",
    "\n",
    "gevent.joinall([\n",
    "    gevent.spawn(setter),\n",
    "    gevent.spawn(waiter),\n",
    "    gevent.spawn(waiter),\n",
    "    gevent.spawn(waiter),\n",
    "    gevent.spawn(waiter),\n",
    "    gevent.spawn(waiter)\n",
    "])"
   ]
  },
  {
   "cell_type": "markdown",
   "metadata": {},
   "source": [
    "## Concurrent\n",
    "[python并发之concurrent.futures](http://blog.csdn.net/dutsoft/article/details/54728706)\n"
   ]
  },
  {
   "cell_type": "code",
   "execution_count": 12,
   "metadata": {
    "collapsed": false
   },
   "outputs": [
    {
     "name": "stdout",
     "output_type": "stream",
     "text": [
      "<Future at 0x1165a0ef0 state=running> is running\n",
      "<Future at 0x1165aea20 state=running> is running\n",
      "<Future at 0x1165aef98 state=running> is running\n",
      "<Future at 0x1165aef98 state=finished returned Response>, done, result: http://www.baidu.com/, 2381\n",
      "<Future at 0x1165a0ef0 state=finished returned Response>, done, result: http://www.qq.com/, 252306\n",
      "<Future at 0x1165aea20 state=finished returned Response>, done, result: http://sina.com/, 21733\n"
     ]
    }
   ],
   "source": [
    "from concurrent.futures import ThreadPoolExecutor as Pool\n",
    "from concurrent.futures import as_completed\n",
    "import requests\n",
    "\n",
    "URLS = ['http://qq.com', 'http://sina.com', 'http://www.baidu.com', ]\n",
    "\n",
    "\n",
    "def task(url, timeout=10):\n",
    "    return requests.get(url, timeout=timeout)\n",
    "\n",
    "\n",
    "with Pool(max_workers=3) as executor:\n",
    "    future_tasks = [executor.submit(task, url) for url in URLS]\n",
    "\n",
    "    for f in future_tasks:\n",
    "        if f.running():\n",
    "            print('%s is running' % str(f))\n",
    "\n",
    "    for f in as_completed(future_tasks):\n",
    "        try:\n",
    "            ret = f.done()\n",
    "            if ret:\n",
    "                f_ret = f.result()\n",
    "                print('%s, done, result: %s, %s' % (str(f), f_ret.url, len(f_ret.content)))\n",
    "        except Exception as e:\n",
    "            f.cancel()\n",
    "            print(str(e))\n",
    "            \n",
    "            \n"
   ]
  },
  {
   "cell_type": "markdown",
   "metadata": {},
   "source": [
    "### Click\n",
    "\n",
    "[Click](http://click.pocoo.org/5/)\n",
    "\n",
    "[命令行神器 Click 简明笔记](http://python.jobbole.com/87111/)\n",
    "\n",
    "Click 是用 Python 写的一个第三方模块，用于快速创建命令行。\n",
    "Python 内置了一个 Argparse 的标准库用于创建命令行，但使用起来有些繁琐，Click 相比于 Argparse，就好比 requests 相比于 urllib。"
   ]
  },
  {
   "cell_type": "code",
   "execution_count": 16,
   "metadata": {
    "collapsed": false
   },
   "outputs": [],
   "source": [
    "import click\n",
    "\n",
    "@click.command()\n",
    "@click.option('--count', default=1, help='Number of greetings.')\n",
    "@click.option('--name', prompt='Your name',\n",
    "              help='The person to greet.')\n",
    "def hello(count, name):\n",
    "    \"\"\"Simple program that greets NAME for a total of COUNT times.\"\"\"\n",
    "    for x in range(count):\n",
    "        click.echo('Hello %s!' % name)\n",
    "\n",
    "if __name__ == '__main__':\n",
    "    hello()"
   ]
  },
  {
   "cell_type": "code",
   "execution_count": null,
   "metadata": {
    "collapsed": false
   },
   "outputs": [],
   "source": []
  }
 ],
 "metadata": {
  "anaconda-cloud": {},
  "kernelspec": {
   "display_name": "Python [default]",
   "language": "python",
   "name": "python3"
  },
  "language_info": {
   "codemirror_mode": {
    "name": "ipython",
    "version": 3
   },
   "file_extension": ".py",
   "mimetype": "text/x-python",
   "name": "python",
   "nbconvert_exporter": "python",
   "pygments_lexer": "ipython3",
   "version": "3.5.2"
  }
 },
 "nbformat": 4,
 "nbformat_minor": 1
}
