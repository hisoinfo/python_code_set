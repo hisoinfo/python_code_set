{
 "cells": [
  {
   "cell_type": "code",
   "execution_count": 24,
   "metadata": {
    "collapsed": false
   },
   "outputs": [
    {
     "name": "stdout",
     "output_type": "stream",
     "text": [
      "5jAavIag\n"
     ]
    }
   ],
   "source": [
    "import json\n",
    "import base64\n",
    "from base64 import b64encode, b64decode\n",
    "import hashlib\n",
    "from Crypto.Cipher import AES\n",
    "from urllib import quote, unquote\n",
    "\n",
    "class global_setting():\n",
    "    API_KEY_KEY = '5jAavIag'\n",
    "    DATA_CODE_KEY = '230164a55510121f'\n",
    "#     DATA_CODE_KEY = 'sqsm1234'\n",
    "\n",
    "print(global_setting.API_KEY_KEY)\n",
    "# check api\n",
    "def apiCheckVan(key, value):\n",
    "    baseValue = unquote(value)\n",
    "    strJsonNext = \"%s%s\" % (global_setting.API_KEY_KEY, baseValue)\n",
    "    nowKeyNext = hashlib.md5(strJsonNext).hexdigest()\n",
    "\n",
    "    if nowKeyNext != key:\n",
    "        logging.error('api key error')\n",
    "        return\n",
    "\n",
    "    # 处理数据\n",
    "    valueStr = base64.decodestring(baseValue)\n",
    "    result = bo_api_decode(valueStr)\n",
    "    result = eval(result)\n",
    "    result = json_decode(result)\n",
    "\n",
    "    return result\n",
    "\n",
    "def data_decode(crypt):\n",
    "    crypt = b64decode(crypt)\n",
    "    key = iv = global_setting.DATA_CODE_KEY\n",
    "    generator = AES.new(key, AES.MODE_CBC, iv)\n",
    "\n",
    "    recovery = generator.decrypt(crypt)\n",
    "    print('hello ==  %s'%recovery)\n",
    "    return recovery.rstrip('\\0')\n",
    "\n",
    "\n",
    "def data_encode(value):\n",
    "    key = iv = global_setting.DATA_CODE_KEY\n",
    "    pad_it = lambda s: s + (16 - len(s) % 16) * '\\0'\n",
    "    generator = AES.new(key, AES.MODE_CBC, iv)\n",
    "    crypt = generator.encrypt(pad_it(value))\n",
    "    print(str(json_encode(value)))\n",
    "    print(crypt)\n",
    "    \n",
    "#     g1 = AES.new(key, AES.MODE_CBC, iv)\n",
    "    c1 = generator.encrypt(pad_it(value))\n",
    "    print(c1)\n",
    "    print(c1==crypt)\n",
    "\n",
    "    return b64encode(crypt)\n",
    "\n",
    "\n",
    "#     crypt = b64decode(b64encode(crypt))\n",
    "# #     key = iv = global_setting.DATA_CODE_KEY\n",
    "# #     generator = AES.new(key, AES.MODE_CBC, iv)\n",
    "\n",
    "#     recovery = generator.decrypt(crypt)\n",
    "#     print('hello ==  %s'%recovery)\n",
    "#     return recovery.rstrip('\\0')\n",
    "\n",
    "def json_encode(data):\n",
    "    try:\n",
    "        return json.dumps(data)\n",
    "    except Exception as e:\n",
    "        logging.error(e)\n",
    "\n",
    "\n",
    "def json_decode(data):\n",
    "    try:\n",
    "        return json.loads(data)\n",
    "    except Exception as e:\n",
    "        logging.error(e)\n",
    "        logging.error(data)"
   ]
  },
  {
   "cell_type": "code",
   "execution_count": 25,
   "metadata": {
    "collapsed": false
   },
   "outputs": [
    {
     "name": "stdout",
     "output_type": "stream",
     "text": [
      "\"teststwetrw\"\n",
      "���>��\u001b�䉆�\u0016��\n",
      "'i�Y�z�\u0011v�)����\t\n",
      "False\n",
      "n5rCPoWYG+CK5ImGnBaPmg==\n",
      "hello ==  teststwetrw\u0000\u0000\u0000\u0000\u0000\n",
      "teststwetrw\n"
     ]
    }
   ],
   "source": [
    "a = 'teststwetrw'\n",
    "aa = data_encode(a)\n",
    "print(aa)\n",
    "bb = data_decode(aa)\n",
    "print(bb)\n"
   ]
  },
  {
   "cell_type": "code",
   "execution_count": 51,
   "metadata": {
    "collapsed": false
   },
   "outputs": [
    {
     "ename": "TypeError",
     "evalue": "str() takes at most 1 argument (2 given)",
     "output_type": "error",
     "traceback": [
      "\u001b[0;31m---------------------------------------------------------------------------\u001b[0m",
      "\u001b[0;31mTypeError\u001b[0m                                 Traceback (most recent call last)",
      "\u001b[0;32m<ipython-input-51-d5d7d9c1fc8a>\u001b[0m in \u001b[0;36m<module>\u001b[0;34m()\u001b[0m\n\u001b[1;32m      1\u001b[0m \u001b[0ma\u001b[0m \u001b[0;34m=\u001b[0m \u001b[0;34m'http://www.cnblogs.com/txw1958/'\u001b[0m\u001b[0;34m\u001b[0m\u001b[0m\n\u001b[1;32m      2\u001b[0m \u001b[0;31m# b = bytes(a)\u001b[0m\u001b[0;34m\u001b[0m\u001b[0;34m\u001b[0m\u001b[0m\n\u001b[0;32m----> 3\u001b[0;31m \u001b[0mb\u001b[0m \u001b[0;34m=\u001b[0m \u001b[0mbytes\u001b[0m\u001b[0;34m(\u001b[0m\u001b[0ma\u001b[0m\u001b[0;34m,\u001b[0m \u001b[0mencoding\u001b[0m \u001b[0;34m=\u001b[0m \u001b[0;34m\"utf8\"\u001b[0m\u001b[0;34m)\u001b[0m\u001b[0;34m\u001b[0m\u001b[0m\n\u001b[0m\u001b[1;32m      4\u001b[0m \u001b[0;32mprint\u001b[0m\u001b[0;34m(\u001b[0m\u001b[0mb\u001b[0m\u001b[0;34m)\u001b[0m\u001b[0;34m\u001b[0m\u001b[0m\n\u001b[1;32m      5\u001b[0m \u001b[0;32mprint\u001b[0m\u001b[0;34m(\u001b[0m\u001b[0mtype\u001b[0m\u001b[0;34m(\u001b[0m\u001b[0mb\u001b[0m\u001b[0;34m)\u001b[0m\u001b[0;34m)\u001b[0m\u001b[0;34m\u001b[0m\u001b[0m\n",
      "\u001b[0;31mTypeError\u001b[0m: str() takes at most 1 argument (2 given)"
     ]
    }
   ],
   "source": [
    "\n",
    "crypt = b64decode(crypt)\n",
    "key = iv = global_setting.DATA_CODE_KEY\n",
    "generator = AES.new(key, AES.MODE_CBC, iv)\n",
    "recovery = generator.decrypt(crypt)\n",
    "    "
   ]
  },
  {
   "cell_type": "code",
   "execution_count": 12,
   "metadata": {
    "collapsed": false
   },
   "outputs": [
    {
     "name": "stdout",
     "output_type": "stream",
     "text": [
      "CPU times: user 431 ms, sys: 18.7 ms, total: 450 ms\n",
      "Wall time: 453 ms\n"
     ]
    }
   ],
   "source": [
    "%time for i in range(10000000):1 "
   ]
  },
  {
   "cell_type": "code",
   "execution_count": 15,
   "metadata": {
    "collapsed": false
   },
   "outputs": [
    {
     "name": "stdout",
     "output_type": "stream",
     "text": [
      "tes\n"
     ]
    }
   ],
   "source": [
    "a = ''\n",
    "if a:\n",
    "    print('tes')"
   ]
  },
  {
   "cell_type": "code",
   "execution_count": 17,
   "metadata": {
    "collapsed": false
   },
   "outputs": [
    {
     "data": {
      "text/plain": [
       "4296570784"
      ]
     },
     "execution_count": 17,
     "metadata": {},
     "output_type": "execute_result"
    }
   ],
   "source": [
    "id(None)"
   ]
  },
  {
   "cell_type": "code",
   "execution_count": 29,
   "metadata": {
    "collapsed": false
   },
   "outputs": [
    {
     "name": "stdout",
     "output_type": "stream",
     "text": [
      "1512028569574\n",
      "441126\n",
      "300000\n",
      "test hello \n"
     ]
    }
   ],
   "source": [
    "import time\n",
    "n = long(time.time() * 1000)\n",
    "a = 1512028128448\n",
    "print(n)\n",
    "d = n - a \n",
    "print(d)\n",
    "gap_range = 1 * 5 * 60 * 1000\n",
    "print(gap_range)\n",
    "if d > gap_range:\n",
    "    print('test hello ')"
   ]
  },
  {
   "cell_type": "code",
   "execution_count": 34,
   "metadata": {
    "collapsed": false
   },
   "outputs": [
    {
     "name": "stdout",
     "output_type": "stream",
     "text": [
      "1.5120284832e+12\n"
     ]
    }
   ],
   "source": [
    "day = 1512028569574\n",
    "time_now = int(day - time.mktime(time.localtime(day)[:3] + (0, 0, 0, 0, 0, 0)))\n",
    "print(time.mktime(time.localtime(day)[:3]+ (0, 0, 0, 0, 0, 0)))"
   ]
  },
  {
   "cell_type": "code",
   "execution_count": 38,
   "metadata": {
    "collapsed": false
   },
   "outputs": [
    {
     "name": "stdout",
     "output_type": "stream",
     "text": [
      "1512057600.0\n",
      "2017-12-01 00:00:00\n",
      "39840\n"
     ]
    }
   ],
   "source": [
    "import datetime\n",
    "date_stamp = time.mktime(time.localtime()[:3] + (0, 0, 0, 0, 0, 0))\n",
    "print(date_stamp)\n",
    "print(datetime.datetime.fromtimestamp(date_stamp))\n",
    "gap = int(time.time() - date_stamp)\n",
    "print(gap)"
   ]
  }
 ],
 "metadata": {
  "anaconda-cloud": {},
  "kernelspec": {
   "display_name": "Python 2",
   "language": "python",
   "name": "python2"
  },
  "language_info": {
   "codemirror_mode": {
    "name": "ipython",
    "version": 2
   },
   "file_extension": ".py",
   "mimetype": "text/x-python",
   "name": "python",
   "nbconvert_exporter": "python",
   "pygments_lexer": "ipython2",
   "version": "2.7.14"
  }
 },
 "nbformat": 4,
 "nbformat_minor": 2
}
