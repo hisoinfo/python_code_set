{
 "cells": [
  {
   "cell_type": "code",
   "execution_count": 1,
   "metadata": {
    "collapsed": true
   },
   "outputs": [],
   "source": [
    "import pandas as pd\n",
    "import numpy as np\n"
   ]
  },
  {
   "cell_type": "markdown",
   "metadata": {},
   "source": [
    "## dataframe 里的值 tolist()\n",
    "* Use .values to get a numpy.array and then .tolist() to get a list.\n"
   ]
  },
  {
   "cell_type": "code",
   "execution_count": 7,
   "metadata": {},
   "outputs": [
    {
     "name": "stdout",
     "output_type": "stream",
     "text": [
      "df_list 数据结构：\n",
      "    a  b\n",
      "0   1  3\n",
      "1   3  5\n",
      "2   5  6\n",
      "3   7  2\n",
      "4   4  4\n",
      "5   5  6\n",
      "6   6  7\n",
      "7   4  8\n",
      "8   7  7\n",
      "9   8  8\n",
      "10  9  9\n",
      "将a列数据变成list数据结构\n",
      "[1L, 3L, 5L, 7L, 4L, 5L, 6L, 4L, 7L, 8L, 9L]\n"
     ]
    }
   ],
   "source": [
    "df_list = pd.DataFrame({'a':[1,3,5,7,4,5,6,4,7,8,9],\n",
    "                   'b':[3,5,6,2,4,6,7,8,7,8,9]})\n",
    "print('df_list 数据结构：')\n",
    "print(df_list)\n",
    "\n",
    "# tolist()\n",
    "list_demo = df_list['a'].values.tolist()\n",
    "# list_demo = df_list['a'].tolist()\n",
    "print('将a列数据变成list数据结构')\n",
    "print(list_demo)"
   ]
  },
  {
   "cell_type": "markdown",
   "metadata": {},
   "source": [
    "### To drop duplicates"
   ]
  },
  {
   "cell_type": "code",
   "execution_count": 12,
   "metadata": {},
   "outputs": [
    {
     "name": "stdout",
     "output_type": "stream",
     "text": [
      "[1 3 5 7 4 6 8 9]\n",
      "[1L, 3L, 5L, 7L, 4L, 6L, 8L, 9L]\n"
     ]
    }
   ],
   "source": [
    "df_list = pd.DataFrame({'a':[1,3,5,7,4,5,6,4,7,8,9],\n",
    "                   'b':[3,5,6,2,4,6,7,8,7,8,9]})\n",
    "# numpy narray type\n",
    "del_duplicates = df_list['a'].drop_duplicates().values\n",
    "print(del_duplicates)\n",
    "# list type\n",
    "del_duplicates_list = df_list['a'].drop_duplicates().values.tolist()\n",
    "print(del_duplicates_list)\n"
   ]
  },
  {
   "cell_type": "markdown",
   "metadata": {},
   "source": [
    "### groupby"
   ]
  },
  {
   "cell_type": "code",
   "execution_count": 14,
   "metadata": {},
   "outputs": [
    {
     "name": "stdout",
     "output_type": "stream",
     "text": [
      "原始数据：\n",
      "      data1     data2 key1 key2\n",
      "0 -0.496832 -0.364945    a  one\n",
      "1  1.119169  1.917241    a  two\n",
      "2 -0.919731  0.147975    b  one\n",
      "3 -1.009562  0.278963    b  two\n",
      "4 -0.195324  1.805608    a  one\n",
      "====分组数据====\n",
      "<pandas.core.groupby.DataFrameGroupBy object at 0x0000000008C7CDD8>\n",
      "a\n",
      "--------------\n",
      "      data1     data2 key1 key2\n",
      "0 -0.496832 -0.364945    a  one\n",
      "1  1.119169  1.917241    a  two\n",
      "4 -0.195324  1.805608    a  one\n",
      "b\n",
      "--------------\n",
      "      data1     data2 key1 key2\n",
      "2 -0.919731  0.147975    b  one\n",
      "3 -1.009562  0.278963    b  two\n"
     ]
    }
   ],
   "source": [
    "df_group = pd.DataFrame(\n",
    "            {  'key1':['a','a','b','b','a'],\n",
    "               'key2':['one','two','one','two','one'],\n",
    "               'data1':np.random.randn(5),\n",
    "               'data2':np.random.randn(5)\n",
    "            }\n",
    "        )\n",
    "print('原始数据：')\n",
    "print(df_group)\n",
    "print('====分组数据====')\n",
    "\n",
    "df_group_by_col = df_group.groupby(df_group['key1'])\n",
    "print(df_group_by_col)\n",
    "for gn, gd in df_group_by_col:\n",
    "    print(gn)\n",
    "    print('--------------')\n",
    "    print(gd)\n",
    "    \n",
    "''' 对索引进行处理分组\n",
    "df11 = df.groupby(lambda x:'even' if x%2==0 else 'odd')\n",
    "print df['data1'].tolist()\n",
    "for i,j in df11:\n",
    "    print i\n",
    "    print '----------------'\n",
    "    print j\n",
    "'''"
   ]
  },
  {
   "cell_type": "markdown",
   "metadata": {},
   "source": [
    "### transform \n",
    "* transform(func, *args, **kwargs) 方法会把 func 参数应用到所有分组，然后把结果放置到原数组的 index 上"
   ]
  },
  {
   "cell_type": "code",
   "execution_count": 15,
   "metadata": {},
   "outputs": [
    {
     "name": "stdout",
     "output_type": "stream",
     "text": [
      "      data1     data2\n",
      "0  0.207448  1.480348\n",
      "1  0.207448  1.480348\n",
      "2 -0.006599  1.530958\n",
      "3 -0.006599  1.530958\n",
      "4  0.207448  1.480348\n"
     ]
    }
   ],
   "source": [
    "# transform transform(func, *args, **kwargs) 方法简化了这个过程，它会把 func 参数应用到所有分组，然后把结果放置到原数组的 index 上\n",
    "df_transform = pd.DataFrame(\n",
    "            {  'key1':['a','a','b','b','a'],\n",
    "               'key2':['one','two','one','two','one'],\n",
    "               'data1':np.random.randn(5),\n",
    "               'data2':np.random.randn(5)\n",
    "            }\n",
    "        )\n",
    "\n",
    "df_trans_group = df_transform.groupby('key1').transform('mean')\n",
    "print(df_trans_group)"
   ]
  }
 ],
 "metadata": {
  "kernelspec": {
   "display_name": "Python 2",
   "language": "python",
   "name": "python2"
  },
  "language_info": {
   "codemirror_mode": {
    "name": "ipython",
    "version": 2
   },
   "file_extension": ".py",
   "mimetype": "text/x-python",
   "name": "python",
   "nbconvert_exporter": "python",
   "pygments_lexer": "ipython2",
   "version": "2.7.13"
  }
 },
 "nbformat": 4,
 "nbformat_minor": 2
}
