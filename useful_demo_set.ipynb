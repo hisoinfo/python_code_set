{
 "cells": [
  {
   "cell_type": "code",
   "execution_count": null,
   "metadata": {
    "collapsed": false
   },
   "outputs": [],
   "source": [
    "# 隐藏掉手机号中间4位数字\n",
    "def hidden_numbers(phone, digit=4):\n",
    "    \"\"\"\n",
    "    默认：隐藏掉手机号中间4位数字\n",
    "    \"\"\"\n",
    "    if isinstance(phone, str):\n",
    "        phone = phone.replace(phone[3:7], '*'*digit)\n",
    "        return phone\n",
    "    else:\n",
    "        return TypeError(\"Invalid type of phone, it should be str!\")\n",
    "    \n",
    "\n",
    "p = '1234523432'\n",
    "pp = hidden_numbers(p)\n",
    "    "
   ]
  },
  {
   "cell_type": "code",
   "execution_count": null,
   "metadata": {
    "collapsed": true
   },
   "outputs": [],
   "source": [
    "import time\n",
    "\n",
    "def get_tree_data():\n",
    "    start = time.clock()\n",
    "    dict_list = dict()\n",
    "    l = []\n",
    "    entities = {node['p_id']: {'id': node['p_id'], 'cn': node['p_content'], 'priority': node['p_priority'], 'pid': node['p_parentid']} for node in list}\n",
    "    for e_id in entities:\n",
    "        entitiy = entities[e_id]\n",
    "        pid = entitiy['pid']\n",
    "        if pid == '-1':\n",
    "            l.append(entitiy)\n",
    "        else:\n",
    "            entities[pid].setdefault('sp', []).append(entitiy)\n",
    "    print(l)\n",
    "    end = time.clock()\n",
    "    print(end - start)"
   ]
  },
  {
   "cell_type": "code",
   "execution_count": 43,
   "metadata": {
    "collapsed": false
   },
   "outputs": [
    {
     "name": "stdout",
     "output_type": "stream",
     "text": [
      "1519974451.624706\n",
      "2018-03-02 15:07:31.624677\n",
      "2018-03-02\n",
      "(2018, 3, 2, 15, 7, 31, 4, 61, 0)\n",
      "15:07:31\n",
      "2018-03-02 15:07:31\n",
      "4\n",
      "2018-03-02\n",
      "15:07:31\n",
      "2018-03-02 15:07:31\n"
     ]
    }
   ],
   "source": [
    "import time as timetime\n",
    "from time import localtime\n",
    "from datetime import date, datetime, time, timedelta\n",
    "\n",
    "Date = date\n",
    "Time = time\n",
    "TimeDelta = timedelta\n",
    "Timestamp = datetime\n",
    "\n",
    "def DateFromTicks(ticks):\n",
    "    return date(*localtime(ticks)[:3])\n",
    "\n",
    "def TimeFromTicks(ticks):\n",
    "    print(localtime(ticks)[:])\n",
    "    return time(*localtime(ticks)[3:6])\n",
    "\n",
    "def TimestampFromTicks(ticks):\n",
    "    return datetime(*localtime(ticks)[:6])\n",
    "\n",
    "t = datetime.now()\n",
    "tt = timetime.time()\n",
    "print(tt)\n",
    "print(t)\n",
    "print(DateFromTicks(tt))\n",
    "print(TimeFromTicks(tt))\n",
    "print(TimestampFromTicks(tt))\n",
    "\n",
    "print(t.weekday())\n",
    "t = datetime.strptime(t.strftime('%Y-%m-%d %H:%M:%S'), '%Y-%m-%d %H:%M:%S')\n",
    "print(t.date())\n",
    "print(t.time())\n",
    "print(t.strftime('%Y-%m-%d %H:%M:%S'))\n",
    "\n"
   ]
  },
  {
   "cell_type": "code",
   "execution_count": 6,
   "metadata": {
    "collapsed": false,
    "scrolled": false
   },
   "outputs": [
    {
     "name": "stdout",
     "output_type": "stream",
     "text": [
      "1516608221.916921\n",
      "mysql+mysqldb://root:@localhost:3306/ten_capital?charset=utf8mb4\n"
     ]
    },
    {
     "name": "stderr",
     "output_type": "stream",
     "text": [
      "/Users/willschang/anaconda/lib/python3.5/site-packages/sqlalchemy/dialects/mysql/base.py:1546: Warning: (1287, \"'@@tx_isolation' is deprecated and will be removed in a future release. Please use '@@transaction_isolation' instead\")\n",
      "  cursor.execute('SELECT @@tx_isolation')\n"
     ]
    },
    {
     "name": "stdout",
     "output_type": "stream",
     "text": [
      "145078\n",
      "1516608223.18921\n",
      "-----1.2722890377044678\n",
      "1174048\n"
     ]
    }
   ],
   "source": [
    "import sys\n",
    "# print(sys.version)\n",
    "\n",
    "\n",
    "import sqlalchemy\n",
    "from sqlalchemy import Table, Column, Integer, String\n",
    "from sqlalchemy.sql import text\n",
    "import time\n",
    "\n",
    "settings = {}\n",
    "# MYSQL配置 47.90.97.67\n",
    "# settings['mysql_host'] = '192.168.199.155'\n",
    "settings['mysql_host'] = 'localhost'\n",
    "settings['mysql_port'] = 3306\n",
    "settings['mysql_database'] = 'ten_capital'\n",
    "settings['mysql_user'] = 'root'\n",
    "settings['mysql_password'] = ''\n",
    "settings['mysql_charset'] = 'utf8mb4'\n",
    "\n",
    "\n",
    "class Db(object):\n",
    "\n",
    "    def __init__(self):\n",
    "        mysql_uri = 'mysql+mysqldb://{USER}:{PASSWORD}@{HOST}:{PORT}/{NAME}?charset=utf8mb4'.format(\n",
    "            USER=settings['mysql_user'],\n",
    "            PASSWORD=settings['mysql_password'],\n",
    "            HOST=settings['mysql_host'],\n",
    "            PORT=settings['mysql_port'],\n",
    "            NAME=settings['mysql_database'])\n",
    "        print(mysql_uri)\n",
    "        self.db = sqlalchemy.create_engine(mysql_uri, pool_size=36, echo=False, pool_recycle=3600)\n",
    "        self.metadata = sqlalchemy.MetaData(self.db)\n",
    "\n",
    "    def get_metadata(self):\n",
    "        return self.metadata\n",
    "\n",
    "    def get_connect(self):\n",
    "        return self.db.connect()\n",
    "\n",
    "    def get_table(self, table_name):\n",
    "        return Table(table_name, self.metadata, autoload=True)\n",
    "\n",
    "\n",
    "start = time.time()\n",
    "print(start)\n",
    "conn = Db().get_connect()\n",
    "get_sql = '''select * from tb_project order by p_parentid, p_priority'''\n",
    "\n",
    "data = conn.execute(text(get_sql)).fetchall()\n",
    "end = time.time()\n",
    "print(len(data))\n",
    "print(end)\n",
    "\n",
    "print('-----{}'.format((end-start)))\n",
    "print(sys.getsizeof(data))\n",
    "conn.close()"
   ]
  },
  {
   "cell_type": "code",
   "execution_count": 16,
   "metadata": {
    "collapsed": true
   },
   "outputs": [],
   "source": [
    "import MySQLdb\n",
    "\n",
    "# 打开数据库连接\n",
    "db = MySQLdb.connect(\"192.168.199.155\",\"root\",\"123456\",\"aimer\" )\n",
    "\n",
    "# 使用cursor()方法获取操作游标 \n",
    "cursor = db.cursor()\n",
    "\n",
    "sql = '''select * from tb_project'''\n",
    "cursor.execute(sql)\n",
    "   # 获取所有记录列表\n",
    "results = cursor.fetchall()\n"
   ]
  },
  {
   "cell_type": "code",
   "execution_count": 7,
   "metadata": {
    "collapsed": false
   },
   "outputs": [
    {
     "name": "stdout",
     "output_type": "stream",
     "text": [
      "{'mbminlen': 1, 'comment': 'UTF-8 Unicode', 'collation': 'utf8_general_ci', 'mbmaxlen': 3, 'name': 'utf8'}\n",
      "---0.17081904411315918---\n",
      "145078\n",
      "1.2461321353912354\n"
     ]
    }
   ],
   "source": [
    "import _mysql\n",
    "import time\n",
    "\n",
    "\n",
    "start = time.time()\n",
    "db=_mysql.connect(host=\"localhost\",user=\"root\",\n",
    "                  passwd=\"\",db=\"ten_capital\")\n",
    "\n",
    "info = db.get_character_set_info()\n",
    "print(info)\n",
    "data = db.query(\"\"\"SELECT * FROM tb_project\"\"\")\n",
    "r = db.use_result()\n",
    "# print(r)\n",
    "end1 = time.time()\n",
    "print('---{}---'.format(end1 - start))\n",
    "\n",
    "# how=[0,1,2],0 as tuple,1 as dict key=column, 1 as dict key=table.column\n",
    "d = r.fetch_row(maxrows=0,how=1)\n",
    "print(len(d))\n",
    "end = time.time()\n",
    "print(end - start)\n",
    "# dd = d[:3]\n",
    "# print(dd)\n",
    "# for k in dd:\n",
    "#     print(k)"
   ]
  },
  {
   "cell_type": "code",
   "execution_count": 8,
   "metadata": {
    "collapsed": false
   },
   "outputs": [
    {
     "name": "stdout",
     "output_type": "stream",
     "text": [
      "192.168.0.23\n"
     ]
    }
   ],
   "source": [
    "# 获取本机 IP 方法\n",
    "import socket\n",
    "\n",
    "def get_host_ip():\n",
    "    try:\n",
    "        s = socket.socket(socket.AF_INET, socket.SOCK_DGRAM)\n",
    "        s.connect(('8.8.8.8', 80))\n",
    "        ip = s.getsockname()[0]\n",
    "    finally:\n",
    "        s.close()\n",
    "\n",
    "    return ip\n",
    "print(get_host_ip())"
   ]
  },
  {
   "cell_type": "markdown",
   "metadata": {},
   "source": [
    "## Gevent  \n",
    "[基于协程的Python网络库gevent介绍](http://python.jobbole.com/87181/)\n",
    "\n",
    "[gevent：轻松异步 I/O](http://python.jobbole.com/84301/)"
   ]
  },
  {
   "cell_type": "code",
   "execution_count": 10,
   "metadata": {
    "collapsed": false
   },
   "outputs": [
    {
     "name": "stdout",
     "output_type": "stream",
     "text": [
      "12\n",
      "56\n",
      "34\n",
      "78\n"
     ]
    },
    {
     "data": {
      "text/plain": [
       "[<Greenlet at 0x1158b33d8>, <Greenlet at 0x1158b3800>]"
      ]
     },
     "execution_count": 10,
     "metadata": {},
     "output_type": "execute_result"
    }
   ],
   "source": [
    "import gevent\n",
    " \n",
    "def test1():\n",
    "    print(12)\n",
    "    gevent.sleep(0)\n",
    "    print(34)\n",
    " \n",
    "def test2():\n",
    "    print(56)\n",
    "    gevent.sleep(0)\n",
    "    print(78)\n",
    " \n",
    "gevent.joinall([\n",
    "    gevent.spawn(test1),\n",
    "    gevent.spawn(test2),\n",
    "])"
   ]
  },
  {
   "cell_type": "code",
   "execution_count": 11,
   "metadata": {
    "collapsed": false
   },
   "outputs": [
    {
     "name": "stdout",
     "output_type": "stream",
     "text": [
      "Wait for me\n",
      "I'll wait for you\n",
      "I'll wait for you\n",
      "I'll wait for you\n",
      "I'll wait for you\n",
      "I'll wait for you\n",
      "Ok, I'm done\n",
      "Got wake up message: Hello!\n",
      "Got wake up message: Hello!\n",
      "Got wake up message: Hello!\n",
      "Got wake up message: Hello!\n",
      "Got wake up message: Hello!\n"
     ]
    },
    {
     "data": {
      "text/plain": [
       "[<Greenlet at 0x1158b3898>,\n",
       " <Greenlet at 0x1158b3af8>,\n",
       " <Greenlet at 0x1158b3a60>,\n",
       " <Greenlet at 0x1158b39c8>,\n",
       " <Greenlet at 0x1158b3930>,\n",
       " <Greenlet at 0x1158b3b90>]"
      ]
     },
     "execution_count": 11,
     "metadata": {},
     "output_type": "execute_result"
    }
   ],
   "source": [
    "import gevent\n",
    "from gevent.event import AsyncResult\n",
    "aevt = AsyncResult()\n",
    " \n",
    "def setter():\n",
    "    print('Wait for me')\n",
    "    gevent.sleep(3)  # 3秒后唤醒所有在evt上等待的协程\n",
    "    print(\"Ok, I'm done\")\n",
    "    aevt.set('Hello!')  # 唤醒，并传递消息\n",
    " \n",
    "def waiter():\n",
    "    print(\"I'll wait for you\")\n",
    "    message = aevt.get()  # 等待，并在唤醒时获取消息\n",
    "    print('Got wake up message: %s' % message)\n",
    "    \n",
    "\n",
    "gevent.joinall([\n",
    "    gevent.spawn(setter),\n",
    "    gevent.spawn(waiter),\n",
    "    gevent.spawn(waiter),\n",
    "    gevent.spawn(waiter),\n",
    "    gevent.spawn(waiter),\n",
    "    gevent.spawn(waiter)\n",
    "])"
   ]
  },
  {
   "cell_type": "markdown",
   "metadata": {},
   "source": [
    "## Concurrent\n",
    "[python并发之concurrent.futures](http://blog.csdn.net/dutsoft/article/details/54728706)\n"
   ]
  },
  {
   "cell_type": "code",
   "execution_count": 12,
   "metadata": {
    "collapsed": false,
    "scrolled": true
   },
   "outputs": [
    {
     "name": "stdout",
     "output_type": "stream",
     "text": [
      "<Future at 0x1165a0ef0 state=running> is running\n",
      "<Future at 0x1165aea20 state=running> is running\n",
      "<Future at 0x1165aef98 state=running> is running\n",
      "<Future at 0x1165aef98 state=finished returned Response>, done, result: http://www.baidu.com/, 2381\n",
      "<Future at 0x1165a0ef0 state=finished returned Response>, done, result: http://www.qq.com/, 252306\n",
      "<Future at 0x1165aea20 state=finished returned Response>, done, result: http://sina.com/, 21733\n"
     ]
    }
   ],
   "source": [
    "from concurrent.futures import ThreadPoolExecutor as Pool\n",
    "from concurrent.futures import as_completed\n",
    "import requests\n",
    "\n",
    "URLS = ['http://qq.com', 'http://sina.com', 'http://www.baidu.com', ]\n",
    "\n",
    "\n",
    "def task(url, timeout=10):\n",
    "    return requests.get(url, timeout=timeout)\n",
    "\n",
    "\n",
    "with Pool(max_workers=3) as executor:\n",
    "    future_tasks = [executor.submit(task, url) for url in URLS]\n",
    "\n",
    "    for f in future_tasks:\n",
    "        if f.running():\n",
    "            print('%s is running' % str(f))\n",
    "\n",
    "    for f in as_completed(future_tasks):\n",
    "        try:\n",
    "            ret = f.done()\n",
    "            if ret:\n",
    "                f_ret = f.result()\n",
    "                print('%s, done, result: %s, %s' % (str(f), f_ret.url, len(f_ret.content)))\n",
    "        except Exception as e:\n",
    "            f.cancel()\n",
    "            print(str(e))"
   ]
  },
  {
   "cell_type": "markdown",
   "metadata": {},
   "source": [
    "### Click\n",
    "\n",
    "[Click](http://click.pocoo.org/5/)\n",
    "\n",
    "[命令行神器 Click 简明笔记](http://python.jobbole.com/87111/)\n",
    "\n",
    "Click 是用 Python 写的一个第三方模块，用于快速创建命令行。\n",
    "Python 内置了一个 Argparse 的标准库用于创建命令行，但使用起来有些繁琐，Click 相比于 Argparse，就好比 requests 相比于 urllib。"
   ]
  },
  {
   "cell_type": "code",
   "execution_count": 16,
   "metadata": {
    "collapsed": false
   },
   "outputs": [],
   "source": [
    "import click\n",
    "\n",
    "@click.command()\n",
    "@click.option('--count', default=1, help='Number of greetings.')\n",
    "@click.option('--name', prompt='Your name',\n",
    "              help='The person to greet.')\n",
    "def hello(count, name):\n",
    "    \"\"\"Simple program that greets NAME for a total of COUNT times.\"\"\"\n",
    "    for x in range(count):\n",
    "        click.echo('Hello %s!' % name)\n",
    "\n",
    "if __name__ == '__main__':\n",
    "    hello()"
   ]
  },
  {
   "cell_type": "code",
   "execution_count": 1,
   "metadata": {
    "collapsed": false
   },
   "outputs": [
    {
     "name": "stdout",
     "output_type": "stream",
     "text": [
      "{'type': 'subscribe', 'pattern': None, 'data': 1, 'channel': b'b'}\n",
      "{'type': 'subscribe', 'pattern': None, 'data': 2, 'channel': b'a'}\n",
      "{'type': 'message', 'pattern': None, 'data': b'a_1519800841.639575', 'channel': b'a'}\n",
      "{'type': 'message', 'pattern': None, 'data': b'b_1519800841.640288', 'channel': b'b'}\n",
      "{'type': 'message', 'pattern': None, 'data': b'a_1519800844.646062', 'channel': b'a'}\n",
      "{'type': 'message', 'pattern': None, 'data': b'b_1519800844.646528', 'channel': b'b'}\n",
      "{'type': 'message', 'pattern': None, 'data': b'a_1519800847.652179', 'channel': b'a'}\n",
      "{'type': 'message', 'pattern': None, 'data': b'b_1519800847.652724', 'channel': b'b'}\n"
     ]
    },
    {
     "ename": "KeyboardInterrupt",
     "evalue": "",
     "output_type": "error",
     "traceback": [
      "\u001b[0;31m---------------------------------------------------------------------------\u001b[0m",
      "\u001b[0;31mKeyboardInterrupt\u001b[0m                         Traceback (most recent call last)",
      "\u001b[0;32m<ipython-input-1-a979a132be47>\u001b[0m in \u001b[0;36m<module>\u001b[0;34m()\u001b[0m\n\u001b[1;32m     19\u001b[0m \u001b[0mps\u001b[0m\u001b[0;34m.\u001b[0m\u001b[0msubscribe\u001b[0m\u001b[0;34m(\u001b[0m\u001b[0;34m[\u001b[0m\u001b[0;34m'a'\u001b[0m\u001b[0;34m,\u001b[0m \u001b[0;34m'b'\u001b[0m\u001b[0;34m]\u001b[0m\u001b[0;34m)\u001b[0m\u001b[0;34m\u001b[0m\u001b[0m\n\u001b[1;32m     20\u001b[0m \u001b[0;34m\u001b[0m\u001b[0m\n\u001b[0;32m---> 21\u001b[0;31m \u001b[0;32mfor\u001b[0m \u001b[0mitem\u001b[0m \u001b[0;32min\u001b[0m \u001b[0mps\u001b[0m\u001b[0;34m.\u001b[0m\u001b[0mlisten\u001b[0m\u001b[0;34m(\u001b[0m\u001b[0;34m)\u001b[0m\u001b[0;34m:\u001b[0m\u001b[0;34m\u001b[0m\u001b[0m\n\u001b[0m\u001b[1;32m     22\u001b[0m     \u001b[0mprint\u001b[0m\u001b[0;34m(\u001b[0m\u001b[0mitem\u001b[0m\u001b[0;34m)\u001b[0m\u001b[0;34m\u001b[0m\u001b[0m\n\u001b[1;32m     23\u001b[0m \u001b[0;34m\u001b[0m\u001b[0m\n",
      "\u001b[0;32m~/anaconda/lib/python3.5/site-packages/redis/client.py\u001b[0m in \u001b[0;36mlisten\u001b[0;34m(self)\u001b[0m\n\u001b[1;32m   2246\u001b[0m         \u001b[0;34m\"Listen for messages on channels this client has been subscribed to\"\u001b[0m\u001b[0;34m\u001b[0m\u001b[0m\n\u001b[1;32m   2247\u001b[0m         \u001b[0;32mwhile\u001b[0m \u001b[0mself\u001b[0m\u001b[0;34m.\u001b[0m\u001b[0msubscribed\u001b[0m\u001b[0;34m:\u001b[0m\u001b[0;34m\u001b[0m\u001b[0m\n\u001b[0;32m-> 2248\u001b[0;31m             \u001b[0mresponse\u001b[0m \u001b[0;34m=\u001b[0m \u001b[0mself\u001b[0m\u001b[0;34m.\u001b[0m\u001b[0mhandle_message\u001b[0m\u001b[0;34m(\u001b[0m\u001b[0mself\u001b[0m\u001b[0;34m.\u001b[0m\u001b[0mparse_response\u001b[0m\u001b[0;34m(\u001b[0m\u001b[0mblock\u001b[0m\u001b[0;34m=\u001b[0m\u001b[0;32mTrue\u001b[0m\u001b[0;34m)\u001b[0m\u001b[0;34m)\u001b[0m\u001b[0;34m\u001b[0m\u001b[0m\n\u001b[0m\u001b[1;32m   2249\u001b[0m             \u001b[0;32mif\u001b[0m \u001b[0mresponse\u001b[0m \u001b[0;32mis\u001b[0m \u001b[0;32mnot\u001b[0m \u001b[0;32mNone\u001b[0m\u001b[0;34m:\u001b[0m\u001b[0;34m\u001b[0m\u001b[0m\n\u001b[1;32m   2250\u001b[0m                 \u001b[0;32myield\u001b[0m \u001b[0mresponse\u001b[0m\u001b[0;34m\u001b[0m\u001b[0m\n",
      "\u001b[0;32m~/anaconda/lib/python3.5/site-packages/redis/client.py\u001b[0m in \u001b[0;36mparse_response\u001b[0;34m(self, block, timeout)\u001b[0m\n\u001b[1;32m   2181\u001b[0m         \u001b[0;32mif\u001b[0m \u001b[0;32mnot\u001b[0m \u001b[0mblock\u001b[0m \u001b[0;32mand\u001b[0m \u001b[0;32mnot\u001b[0m \u001b[0mconnection\u001b[0m\u001b[0;34m.\u001b[0m\u001b[0mcan_read\u001b[0m\u001b[0;34m(\u001b[0m\u001b[0mtimeout\u001b[0m\u001b[0;34m=\u001b[0m\u001b[0mtimeout\u001b[0m\u001b[0;34m)\u001b[0m\u001b[0;34m:\u001b[0m\u001b[0;34m\u001b[0m\u001b[0m\n\u001b[1;32m   2182\u001b[0m             \u001b[0;32mreturn\u001b[0m \u001b[0;32mNone\u001b[0m\u001b[0;34m\u001b[0m\u001b[0m\n\u001b[0;32m-> 2183\u001b[0;31m         \u001b[0;32mreturn\u001b[0m \u001b[0mself\u001b[0m\u001b[0;34m.\u001b[0m\u001b[0m_execute\u001b[0m\u001b[0;34m(\u001b[0m\u001b[0mconnection\u001b[0m\u001b[0;34m,\u001b[0m \u001b[0mconnection\u001b[0m\u001b[0;34m.\u001b[0m\u001b[0mread_response\u001b[0m\u001b[0;34m)\u001b[0m\u001b[0;34m\u001b[0m\u001b[0m\n\u001b[0m\u001b[1;32m   2184\u001b[0m \u001b[0;34m\u001b[0m\u001b[0m\n\u001b[1;32m   2185\u001b[0m     \u001b[0;32mdef\u001b[0m \u001b[0mpsubscribe\u001b[0m\u001b[0;34m(\u001b[0m\u001b[0mself\u001b[0m\u001b[0;34m,\u001b[0m \u001b[0;34m*\u001b[0m\u001b[0margs\u001b[0m\u001b[0;34m,\u001b[0m \u001b[0;34m**\u001b[0m\u001b[0mkwargs\u001b[0m\u001b[0;34m)\u001b[0m\u001b[0;34m:\u001b[0m\u001b[0;34m\u001b[0m\u001b[0m\n",
      "\u001b[0;32m~/anaconda/lib/python3.5/site-packages/redis/client.py\u001b[0m in \u001b[0;36m_execute\u001b[0;34m(self, connection, command, *args)\u001b[0m\n\u001b[1;32m   2163\u001b[0m     \u001b[0;32mdef\u001b[0m \u001b[0m_execute\u001b[0m\u001b[0;34m(\u001b[0m\u001b[0mself\u001b[0m\u001b[0;34m,\u001b[0m \u001b[0mconnection\u001b[0m\u001b[0;34m,\u001b[0m \u001b[0mcommand\u001b[0m\u001b[0;34m,\u001b[0m \u001b[0;34m*\u001b[0m\u001b[0margs\u001b[0m\u001b[0;34m)\u001b[0m\u001b[0;34m:\u001b[0m\u001b[0;34m\u001b[0m\u001b[0m\n\u001b[1;32m   2164\u001b[0m         \u001b[0;32mtry\u001b[0m\u001b[0;34m:\u001b[0m\u001b[0;34m\u001b[0m\u001b[0m\n\u001b[0;32m-> 2165\u001b[0;31m             \u001b[0;32mreturn\u001b[0m \u001b[0mcommand\u001b[0m\u001b[0;34m(\u001b[0m\u001b[0;34m*\u001b[0m\u001b[0margs\u001b[0m\u001b[0;34m)\u001b[0m\u001b[0;34m\u001b[0m\u001b[0m\n\u001b[0m\u001b[1;32m   2166\u001b[0m         \u001b[0;32mexcept\u001b[0m \u001b[0;34m(\u001b[0m\u001b[0mConnectionError\u001b[0m\u001b[0;34m,\u001b[0m \u001b[0mTimeoutError\u001b[0m\u001b[0;34m)\u001b[0m \u001b[0;32mas\u001b[0m \u001b[0me\u001b[0m\u001b[0;34m:\u001b[0m\u001b[0;34m\u001b[0m\u001b[0m\n\u001b[1;32m   2167\u001b[0m             \u001b[0mconnection\u001b[0m\u001b[0;34m.\u001b[0m\u001b[0mdisconnect\u001b[0m\u001b[0;34m(\u001b[0m\u001b[0;34m)\u001b[0m\u001b[0;34m\u001b[0m\u001b[0m\n",
      "\u001b[0;32m~/anaconda/lib/python3.5/site-packages/redis/connection.py\u001b[0m in \u001b[0;36mread_response\u001b[0;34m(self)\u001b[0m\n\u001b[1;32m    575\u001b[0m         \u001b[0;34m\"Read the response from a previously sent command\"\u001b[0m\u001b[0;34m\u001b[0m\u001b[0m\n\u001b[1;32m    576\u001b[0m         \u001b[0;32mtry\u001b[0m\u001b[0;34m:\u001b[0m\u001b[0;34m\u001b[0m\u001b[0m\n\u001b[0;32m--> 577\u001b[0;31m             \u001b[0mresponse\u001b[0m \u001b[0;34m=\u001b[0m \u001b[0mself\u001b[0m\u001b[0;34m.\u001b[0m\u001b[0m_parser\u001b[0m\u001b[0;34m.\u001b[0m\u001b[0mread_response\u001b[0m\u001b[0;34m(\u001b[0m\u001b[0;34m)\u001b[0m\u001b[0;34m\u001b[0m\u001b[0m\n\u001b[0m\u001b[1;32m    578\u001b[0m         \u001b[0;32mexcept\u001b[0m\u001b[0;34m:\u001b[0m\u001b[0;34m\u001b[0m\u001b[0m\n\u001b[1;32m    579\u001b[0m             \u001b[0mself\u001b[0m\u001b[0;34m.\u001b[0m\u001b[0mdisconnect\u001b[0m\u001b[0;34m(\u001b[0m\u001b[0;34m)\u001b[0m\u001b[0;34m\u001b[0m\u001b[0m\n",
      "\u001b[0;32m~/anaconda/lib/python3.5/site-packages/redis/connection.py\u001b[0m in \u001b[0;36mread_response\u001b[0;34m(self)\u001b[0m\n\u001b[1;32m    236\u001b[0m \u001b[0;34m\u001b[0m\u001b[0m\n\u001b[1;32m    237\u001b[0m     \u001b[0;32mdef\u001b[0m \u001b[0mread_response\u001b[0m\u001b[0;34m(\u001b[0m\u001b[0mself\u001b[0m\u001b[0;34m)\u001b[0m\u001b[0;34m:\u001b[0m\u001b[0;34m\u001b[0m\u001b[0m\n\u001b[0;32m--> 238\u001b[0;31m         \u001b[0mresponse\u001b[0m \u001b[0;34m=\u001b[0m \u001b[0mself\u001b[0m\u001b[0;34m.\u001b[0m\u001b[0m_buffer\u001b[0m\u001b[0;34m.\u001b[0m\u001b[0mreadline\u001b[0m\u001b[0;34m(\u001b[0m\u001b[0;34m)\u001b[0m\u001b[0;34m\u001b[0m\u001b[0m\n\u001b[0m\u001b[1;32m    239\u001b[0m         \u001b[0;32mif\u001b[0m \u001b[0;32mnot\u001b[0m \u001b[0mresponse\u001b[0m\u001b[0;34m:\u001b[0m\u001b[0;34m\u001b[0m\u001b[0m\n\u001b[1;32m    240\u001b[0m             \u001b[0;32mraise\u001b[0m \u001b[0mConnectionError\u001b[0m\u001b[0;34m(\u001b[0m\u001b[0mSERVER_CLOSED_CONNECTION_ERROR\u001b[0m\u001b[0;34m)\u001b[0m\u001b[0;34m\u001b[0m\u001b[0m\n",
      "\u001b[0;32m~/anaconda/lib/python3.5/site-packages/redis/connection.py\u001b[0m in \u001b[0;36mreadline\u001b[0;34m(self)\u001b[0m\n\u001b[1;32m    166\u001b[0m         \u001b[0;32mwhile\u001b[0m \u001b[0;32mnot\u001b[0m \u001b[0mdata\u001b[0m\u001b[0;34m.\u001b[0m\u001b[0mendswith\u001b[0m\u001b[0;34m(\u001b[0m\u001b[0mSYM_CRLF\u001b[0m\u001b[0;34m)\u001b[0m\u001b[0;34m:\u001b[0m\u001b[0;34m\u001b[0m\u001b[0m\n\u001b[1;32m    167\u001b[0m             \u001b[0;31m# there's more data in the socket that we need\u001b[0m\u001b[0;34m\u001b[0m\u001b[0;34m\u001b[0m\u001b[0m\n\u001b[0;32m--> 168\u001b[0;31m             \u001b[0mself\u001b[0m\u001b[0;34m.\u001b[0m\u001b[0m_read_from_socket\u001b[0m\u001b[0;34m(\u001b[0m\u001b[0;34m)\u001b[0m\u001b[0;34m\u001b[0m\u001b[0m\n\u001b[0m\u001b[1;32m    169\u001b[0m             \u001b[0mbuf\u001b[0m\u001b[0;34m.\u001b[0m\u001b[0mseek\u001b[0m\u001b[0;34m(\u001b[0m\u001b[0mself\u001b[0m\u001b[0;34m.\u001b[0m\u001b[0mbytes_read\u001b[0m\u001b[0;34m)\u001b[0m\u001b[0;34m\u001b[0m\u001b[0m\n\u001b[1;32m    170\u001b[0m             \u001b[0mdata\u001b[0m \u001b[0;34m=\u001b[0m \u001b[0mbuf\u001b[0m\u001b[0;34m.\u001b[0m\u001b[0mreadline\u001b[0m\u001b[0;34m(\u001b[0m\u001b[0;34m)\u001b[0m\u001b[0;34m\u001b[0m\u001b[0m\n",
      "\u001b[0;32m~/anaconda/lib/python3.5/site-packages/redis/connection.py\u001b[0m in \u001b[0;36m_read_from_socket\u001b[0;34m(self, length)\u001b[0m\n\u001b[1;32m    124\u001b[0m         \u001b[0;32mtry\u001b[0m\u001b[0;34m:\u001b[0m\u001b[0;34m\u001b[0m\u001b[0m\n\u001b[1;32m    125\u001b[0m             \u001b[0;32mwhile\u001b[0m \u001b[0;32mTrue\u001b[0m\u001b[0;34m:\u001b[0m\u001b[0;34m\u001b[0m\u001b[0m\n\u001b[0;32m--> 126\u001b[0;31m                 \u001b[0mdata\u001b[0m \u001b[0;34m=\u001b[0m \u001b[0mself\u001b[0m\u001b[0;34m.\u001b[0m\u001b[0m_sock\u001b[0m\u001b[0;34m.\u001b[0m\u001b[0mrecv\u001b[0m\u001b[0;34m(\u001b[0m\u001b[0msocket_read_size\u001b[0m\u001b[0;34m)\u001b[0m\u001b[0;34m\u001b[0m\u001b[0m\n\u001b[0m\u001b[1;32m    127\u001b[0m                 \u001b[0;31m# an empty string indicates the server shutdown the socket\u001b[0m\u001b[0;34m\u001b[0m\u001b[0;34m\u001b[0m\u001b[0m\n\u001b[1;32m    128\u001b[0m                 \u001b[0;32mif\u001b[0m \u001b[0misinstance\u001b[0m\u001b[0;34m(\u001b[0m\u001b[0mdata\u001b[0m\u001b[0;34m,\u001b[0m \u001b[0mbytes\u001b[0m\u001b[0;34m)\u001b[0m \u001b[0;32mand\u001b[0m \u001b[0mlen\u001b[0m\u001b[0;34m(\u001b[0m\u001b[0mdata\u001b[0m\u001b[0;34m)\u001b[0m \u001b[0;34m==\u001b[0m \u001b[0;36m0\u001b[0m\u001b[0;34m:\u001b[0m\u001b[0;34m\u001b[0m\u001b[0m\n",
      "\u001b[0;31mKeyboardInterrupt\u001b[0m: "
     ]
    }
   ],
   "source": [
    "import time\n",
    "import redis, threading\n",
    "r = redis.Redis(host='127.0.0.1', port=6379, db=3)\n",
    "\n",
    "# 发布消息\n",
    "def redis_publish():\n",
    "    r.publish(\"aa\", 'a_%s'% time.time())\n",
    "    while 1:\n",
    "        time.sleep(3)\n",
    "        r.publish(\"a\", 'a_%s'% time.time())\n",
    "        r.publish('b', 'b_%s'% time.time())\n",
    "# 进程\n",
    "xt = threading.Thread(target=redis_publish)\n",
    "xt.setDaemon(True)\n",
    "xt.start()\n",
    "\n",
    "# 订阅消息\n",
    "ps = r.pubsub()\n",
    "ps.subscribe(['a', 'b'])\n",
    "\n",
    "for item in ps.listen():\n",
    "    print(item)\n",
    "    \n"
   ]
  },
  {
   "cell_type": "code",
   "execution_count": 3,
   "metadata": {
    "collapsed": false
   },
   "outputs": [],
   "source": [
    "ps.subscribe(['aa'])\n",
    "for item in ps.listen():\n",
    "    print(item)"
   ]
  },
  {
   "cell_type": "code",
   "execution_count": 7,
   "metadata": {
    "collapsed": false
   },
   "outputs": [
    {
     "name": "stdout",
     "output_type": "stream",
     "text": [
      "Publish: norwegian forest wears a tam-o-shanter\n",
      "Publish: siamese wears a bowler\n",
      "Publish: norwegian forest wears a stovepipe\n",
      "Publish: norwegian forest wears a fedora\n",
      "Publish: norwegian forest wears a fedora\n",
      "Publish: norwegian forest wears a tam-o-shanter\n",
      "Publish: norwegian forest wears a tam-o-shanter\n",
      "Publish: maine coon wears a stovepipe\n",
      "Publish: norwegian forest wears a bowler\n",
      "Publish: maine coon wears a stovepipe\n"
     ]
    }
   ],
   "source": [
    "import redis\n",
    "import random\n",
    "conn = redis.Redis()\n",
    "cats = ['siamese', 'persian', 'maine coon', 'norwegian forest']\n",
    "hats = ['stovepipe', 'bowler', 'tam-o-shanter', 'fedora']\n",
    "for msg in range(10):\n",
    "    cat = random.choice(cats)\n",
    "    hat = random.choice(hats)\n",
    "    print('Publish: %s wears a %s' % (cat, hat))\n",
    "    conn.publish(cat, hat)"
   ]
  },
  {
   "cell_type": "code",
   "execution_count": 9,
   "metadata": {
    "collapsed": false
   },
   "outputs": [
    {
     "ename": "KeyboardInterrupt",
     "evalue": "",
     "output_type": "error",
     "traceback": [
      "\u001b[0;31m---------------------------------------------------------------------------\u001b[0m",
      "\u001b[0;31mKeyboardInterrupt\u001b[0m                         Traceback (most recent call last)",
      "\u001b[0;32m<ipython-input-9-6fb2abb66606>\u001b[0m in \u001b[0;36m<module>\u001b[0;34m()\u001b[0m\n\u001b[1;32m      4\u001b[0m \u001b[0msub\u001b[0m \u001b[0;34m=\u001b[0m \u001b[0mconn\u001b[0m\u001b[0;34m.\u001b[0m\u001b[0mpubsub\u001b[0m\u001b[0;34m(\u001b[0m\u001b[0;34m)\u001b[0m\u001b[0;34m\u001b[0m\u001b[0m\n\u001b[1;32m      5\u001b[0m \u001b[0msub\u001b[0m\u001b[0;34m.\u001b[0m\u001b[0msubscribe\u001b[0m\u001b[0;34m(\u001b[0m\u001b[0mtopics\u001b[0m\u001b[0;34m)\u001b[0m\u001b[0;34m\u001b[0m\u001b[0m\n\u001b[0;32m----> 6\u001b[0;31m \u001b[0;32mfor\u001b[0m \u001b[0mmsg\u001b[0m \u001b[0;32min\u001b[0m \u001b[0msub\u001b[0m\u001b[0;34m.\u001b[0m\u001b[0mlisten\u001b[0m\u001b[0;34m(\u001b[0m\u001b[0;34m)\u001b[0m\u001b[0;34m:\u001b[0m\u001b[0;34m\u001b[0m\u001b[0m\n\u001b[0m\u001b[1;32m      7\u001b[0m     \u001b[0;32mif\u001b[0m \u001b[0mmsg\u001b[0m\u001b[0;34m[\u001b[0m\u001b[0;34m'type'\u001b[0m\u001b[0;34m]\u001b[0m \u001b[0;34m==\u001b[0m \u001b[0;34m'message'\u001b[0m\u001b[0;34m:\u001b[0m\u001b[0;34m\u001b[0m\u001b[0m\n\u001b[1;32m      8\u001b[0m         \u001b[0mcat\u001b[0m \u001b[0;34m=\u001b[0m \u001b[0mmsg\u001b[0m\u001b[0;34m[\u001b[0m\u001b[0;34m'channel'\u001b[0m\u001b[0;34m]\u001b[0m\u001b[0;34m\u001b[0m\u001b[0m\n",
      "\u001b[0;32m~/anaconda/lib/python3.5/site-packages/redis/client.py\u001b[0m in \u001b[0;36mlisten\u001b[0;34m(self)\u001b[0m\n\u001b[1;32m   2246\u001b[0m         \u001b[0;34m\"Listen for messages on channels this client has been subscribed to\"\u001b[0m\u001b[0;34m\u001b[0m\u001b[0m\n\u001b[1;32m   2247\u001b[0m         \u001b[0;32mwhile\u001b[0m \u001b[0mself\u001b[0m\u001b[0;34m.\u001b[0m\u001b[0msubscribed\u001b[0m\u001b[0;34m:\u001b[0m\u001b[0;34m\u001b[0m\u001b[0m\n\u001b[0;32m-> 2248\u001b[0;31m             \u001b[0mresponse\u001b[0m \u001b[0;34m=\u001b[0m \u001b[0mself\u001b[0m\u001b[0;34m.\u001b[0m\u001b[0mhandle_message\u001b[0m\u001b[0;34m(\u001b[0m\u001b[0mself\u001b[0m\u001b[0;34m.\u001b[0m\u001b[0mparse_response\u001b[0m\u001b[0;34m(\u001b[0m\u001b[0mblock\u001b[0m\u001b[0;34m=\u001b[0m\u001b[0;32mTrue\u001b[0m\u001b[0;34m)\u001b[0m\u001b[0;34m)\u001b[0m\u001b[0;34m\u001b[0m\u001b[0m\n\u001b[0m\u001b[1;32m   2249\u001b[0m             \u001b[0;32mif\u001b[0m \u001b[0mresponse\u001b[0m \u001b[0;32mis\u001b[0m \u001b[0;32mnot\u001b[0m \u001b[0;32mNone\u001b[0m\u001b[0;34m:\u001b[0m\u001b[0;34m\u001b[0m\u001b[0m\n\u001b[1;32m   2250\u001b[0m                 \u001b[0;32myield\u001b[0m \u001b[0mresponse\u001b[0m\u001b[0;34m\u001b[0m\u001b[0m\n",
      "\u001b[0;32m~/anaconda/lib/python3.5/site-packages/redis/client.py\u001b[0m in \u001b[0;36mparse_response\u001b[0;34m(self, block, timeout)\u001b[0m\n\u001b[1;32m   2181\u001b[0m         \u001b[0;32mif\u001b[0m \u001b[0;32mnot\u001b[0m \u001b[0mblock\u001b[0m \u001b[0;32mand\u001b[0m \u001b[0;32mnot\u001b[0m \u001b[0mconnection\u001b[0m\u001b[0;34m.\u001b[0m\u001b[0mcan_read\u001b[0m\u001b[0;34m(\u001b[0m\u001b[0mtimeout\u001b[0m\u001b[0;34m=\u001b[0m\u001b[0mtimeout\u001b[0m\u001b[0;34m)\u001b[0m\u001b[0;34m:\u001b[0m\u001b[0;34m\u001b[0m\u001b[0m\n\u001b[1;32m   2182\u001b[0m             \u001b[0;32mreturn\u001b[0m \u001b[0;32mNone\u001b[0m\u001b[0;34m\u001b[0m\u001b[0m\n\u001b[0;32m-> 2183\u001b[0;31m         \u001b[0;32mreturn\u001b[0m \u001b[0mself\u001b[0m\u001b[0;34m.\u001b[0m\u001b[0m_execute\u001b[0m\u001b[0;34m(\u001b[0m\u001b[0mconnection\u001b[0m\u001b[0;34m,\u001b[0m \u001b[0mconnection\u001b[0m\u001b[0;34m.\u001b[0m\u001b[0mread_response\u001b[0m\u001b[0;34m)\u001b[0m\u001b[0;34m\u001b[0m\u001b[0m\n\u001b[0m\u001b[1;32m   2184\u001b[0m \u001b[0;34m\u001b[0m\u001b[0m\n\u001b[1;32m   2185\u001b[0m     \u001b[0;32mdef\u001b[0m \u001b[0mpsubscribe\u001b[0m\u001b[0;34m(\u001b[0m\u001b[0mself\u001b[0m\u001b[0;34m,\u001b[0m \u001b[0;34m*\u001b[0m\u001b[0margs\u001b[0m\u001b[0;34m,\u001b[0m \u001b[0;34m**\u001b[0m\u001b[0mkwargs\u001b[0m\u001b[0;34m)\u001b[0m\u001b[0;34m:\u001b[0m\u001b[0;34m\u001b[0m\u001b[0m\n",
      "\u001b[0;32m~/anaconda/lib/python3.5/site-packages/redis/client.py\u001b[0m in \u001b[0;36m_execute\u001b[0;34m(self, connection, command, *args)\u001b[0m\n\u001b[1;32m   2163\u001b[0m     \u001b[0;32mdef\u001b[0m \u001b[0m_execute\u001b[0m\u001b[0;34m(\u001b[0m\u001b[0mself\u001b[0m\u001b[0;34m,\u001b[0m \u001b[0mconnection\u001b[0m\u001b[0;34m,\u001b[0m \u001b[0mcommand\u001b[0m\u001b[0;34m,\u001b[0m \u001b[0;34m*\u001b[0m\u001b[0margs\u001b[0m\u001b[0;34m)\u001b[0m\u001b[0;34m:\u001b[0m\u001b[0;34m\u001b[0m\u001b[0m\n\u001b[1;32m   2164\u001b[0m         \u001b[0;32mtry\u001b[0m\u001b[0;34m:\u001b[0m\u001b[0;34m\u001b[0m\u001b[0m\n\u001b[0;32m-> 2165\u001b[0;31m             \u001b[0;32mreturn\u001b[0m \u001b[0mcommand\u001b[0m\u001b[0;34m(\u001b[0m\u001b[0;34m*\u001b[0m\u001b[0margs\u001b[0m\u001b[0;34m)\u001b[0m\u001b[0;34m\u001b[0m\u001b[0m\n\u001b[0m\u001b[1;32m   2166\u001b[0m         \u001b[0;32mexcept\u001b[0m \u001b[0;34m(\u001b[0m\u001b[0mConnectionError\u001b[0m\u001b[0;34m,\u001b[0m \u001b[0mTimeoutError\u001b[0m\u001b[0;34m)\u001b[0m \u001b[0;32mas\u001b[0m \u001b[0me\u001b[0m\u001b[0;34m:\u001b[0m\u001b[0;34m\u001b[0m\u001b[0m\n\u001b[1;32m   2167\u001b[0m             \u001b[0mconnection\u001b[0m\u001b[0;34m.\u001b[0m\u001b[0mdisconnect\u001b[0m\u001b[0;34m(\u001b[0m\u001b[0;34m)\u001b[0m\u001b[0;34m\u001b[0m\u001b[0m\n",
      "\u001b[0;32m~/anaconda/lib/python3.5/site-packages/redis/connection.py\u001b[0m in \u001b[0;36mread_response\u001b[0;34m(self)\u001b[0m\n\u001b[1;32m    575\u001b[0m         \u001b[0;34m\"Read the response from a previously sent command\"\u001b[0m\u001b[0;34m\u001b[0m\u001b[0m\n\u001b[1;32m    576\u001b[0m         \u001b[0;32mtry\u001b[0m\u001b[0;34m:\u001b[0m\u001b[0;34m\u001b[0m\u001b[0m\n\u001b[0;32m--> 577\u001b[0;31m             \u001b[0mresponse\u001b[0m \u001b[0;34m=\u001b[0m \u001b[0mself\u001b[0m\u001b[0;34m.\u001b[0m\u001b[0m_parser\u001b[0m\u001b[0;34m.\u001b[0m\u001b[0mread_response\u001b[0m\u001b[0;34m(\u001b[0m\u001b[0;34m)\u001b[0m\u001b[0;34m\u001b[0m\u001b[0m\n\u001b[0m\u001b[1;32m    578\u001b[0m         \u001b[0;32mexcept\u001b[0m\u001b[0;34m:\u001b[0m\u001b[0;34m\u001b[0m\u001b[0m\n\u001b[1;32m    579\u001b[0m             \u001b[0mself\u001b[0m\u001b[0;34m.\u001b[0m\u001b[0mdisconnect\u001b[0m\u001b[0;34m(\u001b[0m\u001b[0;34m)\u001b[0m\u001b[0;34m\u001b[0m\u001b[0m\n",
      "\u001b[0;32m~/anaconda/lib/python3.5/site-packages/redis/connection.py\u001b[0m in \u001b[0;36mread_response\u001b[0;34m(self)\u001b[0m\n\u001b[1;32m    236\u001b[0m \u001b[0;34m\u001b[0m\u001b[0m\n\u001b[1;32m    237\u001b[0m     \u001b[0;32mdef\u001b[0m \u001b[0mread_response\u001b[0m\u001b[0;34m(\u001b[0m\u001b[0mself\u001b[0m\u001b[0;34m)\u001b[0m\u001b[0;34m:\u001b[0m\u001b[0;34m\u001b[0m\u001b[0m\n\u001b[0;32m--> 238\u001b[0;31m         \u001b[0mresponse\u001b[0m \u001b[0;34m=\u001b[0m \u001b[0mself\u001b[0m\u001b[0;34m.\u001b[0m\u001b[0m_buffer\u001b[0m\u001b[0;34m.\u001b[0m\u001b[0mreadline\u001b[0m\u001b[0;34m(\u001b[0m\u001b[0;34m)\u001b[0m\u001b[0;34m\u001b[0m\u001b[0m\n\u001b[0m\u001b[1;32m    239\u001b[0m         \u001b[0;32mif\u001b[0m \u001b[0;32mnot\u001b[0m \u001b[0mresponse\u001b[0m\u001b[0;34m:\u001b[0m\u001b[0;34m\u001b[0m\u001b[0m\n\u001b[1;32m    240\u001b[0m             \u001b[0;32mraise\u001b[0m \u001b[0mConnectionError\u001b[0m\u001b[0;34m(\u001b[0m\u001b[0mSERVER_CLOSED_CONNECTION_ERROR\u001b[0m\u001b[0;34m)\u001b[0m\u001b[0;34m\u001b[0m\u001b[0m\n",
      "\u001b[0;32m~/anaconda/lib/python3.5/site-packages/redis/connection.py\u001b[0m in \u001b[0;36mreadline\u001b[0;34m(self)\u001b[0m\n\u001b[1;32m    166\u001b[0m         \u001b[0;32mwhile\u001b[0m \u001b[0;32mnot\u001b[0m \u001b[0mdata\u001b[0m\u001b[0;34m.\u001b[0m\u001b[0mendswith\u001b[0m\u001b[0;34m(\u001b[0m\u001b[0mSYM_CRLF\u001b[0m\u001b[0;34m)\u001b[0m\u001b[0;34m:\u001b[0m\u001b[0;34m\u001b[0m\u001b[0m\n\u001b[1;32m    167\u001b[0m             \u001b[0;31m# there's more data in the socket that we need\u001b[0m\u001b[0;34m\u001b[0m\u001b[0;34m\u001b[0m\u001b[0m\n\u001b[0;32m--> 168\u001b[0;31m             \u001b[0mself\u001b[0m\u001b[0;34m.\u001b[0m\u001b[0m_read_from_socket\u001b[0m\u001b[0;34m(\u001b[0m\u001b[0;34m)\u001b[0m\u001b[0;34m\u001b[0m\u001b[0m\n\u001b[0m\u001b[1;32m    169\u001b[0m             \u001b[0mbuf\u001b[0m\u001b[0;34m.\u001b[0m\u001b[0mseek\u001b[0m\u001b[0;34m(\u001b[0m\u001b[0mself\u001b[0m\u001b[0;34m.\u001b[0m\u001b[0mbytes_read\u001b[0m\u001b[0;34m)\u001b[0m\u001b[0;34m\u001b[0m\u001b[0m\n\u001b[1;32m    170\u001b[0m             \u001b[0mdata\u001b[0m \u001b[0;34m=\u001b[0m \u001b[0mbuf\u001b[0m\u001b[0;34m.\u001b[0m\u001b[0mreadline\u001b[0m\u001b[0;34m(\u001b[0m\u001b[0;34m)\u001b[0m\u001b[0;34m\u001b[0m\u001b[0m\n",
      "\u001b[0;32m~/anaconda/lib/python3.5/site-packages/redis/connection.py\u001b[0m in \u001b[0;36m_read_from_socket\u001b[0;34m(self, length)\u001b[0m\n\u001b[1;32m    124\u001b[0m         \u001b[0;32mtry\u001b[0m\u001b[0;34m:\u001b[0m\u001b[0;34m\u001b[0m\u001b[0m\n\u001b[1;32m    125\u001b[0m             \u001b[0;32mwhile\u001b[0m \u001b[0;32mTrue\u001b[0m\u001b[0;34m:\u001b[0m\u001b[0;34m\u001b[0m\u001b[0m\n\u001b[0;32m--> 126\u001b[0;31m                 \u001b[0mdata\u001b[0m \u001b[0;34m=\u001b[0m \u001b[0mself\u001b[0m\u001b[0;34m.\u001b[0m\u001b[0m_sock\u001b[0m\u001b[0;34m.\u001b[0m\u001b[0mrecv\u001b[0m\u001b[0;34m(\u001b[0m\u001b[0msocket_read_size\u001b[0m\u001b[0;34m)\u001b[0m\u001b[0;34m\u001b[0m\u001b[0m\n\u001b[0m\u001b[1;32m    127\u001b[0m                 \u001b[0;31m# an empty string indicates the server shutdown the socket\u001b[0m\u001b[0;34m\u001b[0m\u001b[0;34m\u001b[0m\u001b[0m\n\u001b[1;32m    128\u001b[0m                 \u001b[0;32mif\u001b[0m \u001b[0misinstance\u001b[0m\u001b[0;34m(\u001b[0m\u001b[0mdata\u001b[0m\u001b[0;34m,\u001b[0m \u001b[0mbytes\u001b[0m\u001b[0;34m)\u001b[0m \u001b[0;32mand\u001b[0m \u001b[0mlen\u001b[0m\u001b[0;34m(\u001b[0m\u001b[0mdata\u001b[0m\u001b[0;34m)\u001b[0m \u001b[0;34m==\u001b[0m \u001b[0;36m0\u001b[0m\u001b[0;34m:\u001b[0m\u001b[0;34m\u001b[0m\u001b[0m\n",
      "\u001b[0;31mKeyboardInterrupt\u001b[0m: "
     ]
    }
   ],
   "source": [
    "import redis\n",
    "conn = redis.Redis()\n",
    "topics = ['maine coon', 'persian']\n",
    "sub = conn.pubsub()\n",
    "sub.subscribe(topics)\n",
    "for msg in sub.listen():\n",
    "    if msg['type'] == 'message':\n",
    "        cat = msg['channel']\n",
    "        hat = msg['data']\n",
    "        print('Subscribe: %s wears a %s' % (cat, hat))"
   ]
  },
  {
   "cell_type": "code",
   "execution_count": 8,
   "metadata": {
    "collapsed": false
   },
   "outputs": [
    {
     "name": "stdout",
     "output_type": "stream",
     "text": [
      "yes match~ 的点点滴滴 T:111 jmn T:11332\n",
      "yes match~ L:3\n",
      "['My.Name', 'ten', '张煌辉']\n",
      "['t:103', '']\n",
      "111\n",
      "3\n"
     ]
    }
   ],
   "source": [
    "\n",
    "import re\n",
    "\n",
    "# 正则表达式\n",
    "function_t_pattern = r\"(.*)T[\\:|\\：](\\d+)\" #r\"(.*) T[\\(|\\（](.*?)[\\)|\\）].*\" #\n",
    "function_l_pattern = r\"(.*)L[\\:|\\：](\\d+)\" #r\"(.*) (L|LOOP)[\\(|\\（][\\d]*[\\)|\\）].*\" #\n",
    "\n",
    "function_rt_pattern = r\"\\s*T[\\:|\\：](.*?) \" #r\"\\s+T[\\(|\\（](.*?)[\\)|\\）]\" #\n",
    "function_rl_pattern = r\"\\s*L[\\:|\\：](.*?) \" #r\"\\s+L[\\(|\\（](.*?)[\\)|\\）]\" #\n",
    "\n",
    "# function_t_pattern = r\"(.*)T(\\d+)\" #r\"(.*) T[\\(|\\（](.*?)[\\)|\\）].*\" #\n",
    "# function_l_pattern = r\"(.*)L(\\d+)\" #r\"(.*) (L|LOOP)[\\(|\\（][\\d]*[\\)|\\）].*\" #\n",
    "#\n",
    "# function_rt_pattern = r\"\\s*T(.*?) \" #r\"\\s+T[\\(|\\（](.*?)[\\)|\\）]\" #\n",
    "# function_rl_pattern = r\"\\s*L(.*?) \" #r\"\\s+L[\\(|\\（](.*?)[\\)|\\）]\" #\n",
    "\n",
    "function_art_pattern = r\"\\s*@(.*?)(\\s|$)\"\n",
    "function_jing_pattern = r\"\\s*#(.*?)(\\s|$)\"\n",
    "\n",
    "\n",
    "class ProjectSingleton(object):\n",
    "    __instance = None\n",
    "    _pv = dict()\n",
    "    def __init__(self):\n",
    "        pass\n",
    "    def __new__(cls, *args, **kwargs):\n",
    "        if ProjectSingleton.__instance is None:\n",
    "            ProjectSingleton.__instance = object.__new__(cls, *args, **kwargs)\n",
    "        return ProjectSingleton.__instance\n",
    "\n",
    "    def getPV(self, key):\n",
    "        if key not in self._pv.keys():\n",
    "            self._pv[key] = 0\n",
    "        return self._pv[key]\n",
    "\n",
    "    def setPV(self, key, value):\n",
    "        if key not in self._pv.keys():\n",
    "            self._pv[key] = 0\n",
    "        self._pv[key] = value\n",
    "\n",
    "    def decPV(self, key):\n",
    "        if key not in self._pv.keys():\n",
    "            self._pv[key] = 0\n",
    "        self._pv[key] = self._pv[key] - 1\n",
    "        if self._pv[key] <= 0:\n",
    "            self._pv[key] = 0\n",
    "            return True\n",
    "        return False\n",
    "\n",
    "    def incPV(self, key):\n",
    "        if key not in self._pv.keys():\n",
    "            self._pv[key] = 0\n",
    "        self._pv[key] = self._pv[key] + 1\n",
    "        return True\n",
    "\n",
    "\n",
    "class ATask(object):\n",
    "\n",
    "    def __init__(self):\n",
    "        pass\n",
    "\n",
    "\n",
    "    def pattern_time_function(self, string):\n",
    "        rt = self._pattern_char(function_t_pattern, string)\n",
    "        rl = self._pattern_char(function_l_pattern, string)\n",
    "        result = rt or rl\n",
    "        type = \"t\" if rt == True else \"l\"\n",
    "        return result, type\n",
    "\n",
    "\n",
    "    def find_time_function(self, type, string):\n",
    "        matchResult = []\n",
    "        function_pattern = function_rt_pattern if type == \"t\" else function_rl_pattern\n",
    "        p = re.compile(function_pattern)\n",
    "        matchArray = p.findall(string.upper().replace(' ', '  '))\n",
    "        if len(matchArray):\n",
    "            return matchArray[0]\n",
    "        return -1\n",
    "\n",
    "\n",
    "    def find_username(self, string):\n",
    "        return self._pattern_keyword(function_art_pattern, string)\n",
    "\n",
    "\n",
    "    def _pattern_char(self, pattern, string):\n",
    "        matchObj = re.match(pattern, string, re.M|re.I)\n",
    "        if matchObj:\n",
    "            print(\"yes match~\", matchObj.group())\n",
    "            return True\n",
    "        else:\n",
    "            print(\"no match~\")\n",
    "            return False\n",
    "\n",
    "\n",
    "    def _pattern_keyword(self, pattern, string):\n",
    "        matchResult = []\n",
    "        p = re.compile(pattern)\n",
    "        matchArray = p.findall(string.replace(' ', '  '))\n",
    "        for i in range(len(matchArray)):\n",
    "            matchResult.append(matchArray[i][0])\n",
    "        print(matchResult)\n",
    "        return matchResult\n",
    "\n",
    "def main():\n",
    "    t_line = r\"的点点滴滴 T:111 jmn T:11332f3 dsadas44!@~~文档我 \"\n",
    "    l_line = r\"L:3 hhhh @Cyndi \"\n",
    "    art_line = r\"mmm @My.Name @ten @张煌辉 \"\n",
    "    jing_line = r\"jmn #t:103 ) ds@22 adas44! @~~文档 5 @1我1     @444 @3 @的天天# @条到1 我\"\n",
    "    at = ATask()\n",
    "    at._pattern_char(function_t_pattern, t_line)\n",
    "    at._pattern_char(function_l_pattern, l_line)\n",
    "    at._pattern_keyword(function_art_pattern, art_line)\n",
    "    at._pattern_keyword(function_jing_pattern, jing_line) #\n",
    "    print(at.find_time_function(\"t\", t_line.upper()))\n",
    "    print(at.find_time_function(\"l\", l_line.upper()))\n",
    "\n",
    "main()\n",
    "\n"
   ]
  }
 ],
 "metadata": {
  "anaconda-cloud": {},
  "kernelspec": {
   "display_name": "Python [default]",
   "language": "python",
   "name": "python3"
  },
  "language_info": {
   "codemirror_mode": {
    "name": "ipython",
    "version": 3
   },
   "file_extension": ".py",
   "mimetype": "text/x-python",
   "name": "python",
   "nbconvert_exporter": "python",
   "pygments_lexer": "ipython3",
   "version": "3.5.2"
  }
 },
 "nbformat": 4,
 "nbformat_minor": 1
}
