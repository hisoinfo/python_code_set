{
 "cells": [
  {
   "cell_type": "code",
   "execution_count": 44,
   "metadata": {},
   "outputs": [
    {
     "name": "stdout",
     "output_type": "stream",
     "text": [
      "5jAavIag\n"
     ]
    }
   ],
   "source": [
    "import json\n",
    "import base64\n",
    "from base64 import b64encode, b64decode\n",
    "import hashlib\n",
    "from Crypto.Cipher import AES\n",
    "from urllib import quote, unquote\n",
    "\n",
    "class global_setting():\n",
    "    API_KEY_KEY = '5jAavIag'\n",
    "    DATA_CODE_KEY = '230164a555101e1f'\n",
    "\n",
    "print(global_setting.API_KEY_KEY)\n",
    "# check api\n",
    "def apiCheckVan(key, value):\n",
    "    baseValue = unquote(value)\n",
    "    strJsonNext = \"%s%s\" % (global_setting.API_KEY_KEY, baseValue)\n",
    "    nowKeyNext = hashlib.md5(strJsonNext).hexdigest()\n",
    "\n",
    "    if nowKeyNext != key:\n",
    "        logging.error('api key error')\n",
    "        return\n",
    "\n",
    "    # 处理数据\n",
    "    valueStr = base64.decodestring(baseValue)\n",
    "    result = bo_api_decode(valueStr)\n",
    "    result = eval(result)\n",
    "    result = json_decode(result)\n",
    "\n",
    "    return result\n",
    "\n",
    "def data_decode(crypt):\n",
    "    crypt = b64decode(crypt)\n",
    "    key = iv = global_setting.DATA_CODE_KEY\n",
    "    generator = AES.new(key, AES.MODE_CBC, iv)\n",
    "    recovery = generator.decrypt(crypt)\n",
    "    print('hello ==  %s'%recovery)\n",
    "    return recovery.rstrip('\\0')\n",
    "\n",
    "\n",
    "def data_encode(value):\n",
    "    key = iv = global_setting.DATA_CODE_KEY\n",
    "    pad_it = lambda s: s + (16 - len(s) % 16) * '\\0'\n",
    "    generator = AES.new(key, AES.MODE_CBC, iv)\n",
    "    crypt = generator.encrypt(pad_it(value))\n",
    "    print(str(json_encode(value)))\n",
    "\n",
    "    return b64encode(crypt)\n",
    "\n",
    "def json_encode(data):\n",
    "    try:\n",
    "        return json.dumps(data)\n",
    "    except Exception as e:\n",
    "        logging.error(e)\n",
    "\n",
    "\n",
    "def json_decode(data):\n",
    "    try:\n",
    "        return json.loads(data)\n",
    "    except Exception as e:\n",
    "        logging.error(e)\n",
    "        logging.error(data)"
   ]
  },
  {
   "cell_type": "code",
   "execution_count": 43,
   "metadata": {},
   "outputs": [
    {
     "name": "stdout",
     "output_type": "stream",
     "text": [
      "\"test\"\n",
      "test\n"
     ]
    }
   ],
   "source": [
    "a = 'test'\n",
    "aa = json.dumps(a)\n",
    "print(aa)\n",
    "b = str(a)\n",
    "print(b)"
   ]
  },
  {
   "cell_type": "code",
   "execution_count": 51,
   "metadata": {},
   "outputs": [
    {
     "ename": "TypeError",
     "evalue": "str() takes at most 1 argument (2 given)",
     "output_type": "error",
     "traceback": [
      "\u001b[0;31m---------------------------------------------------------------------------\u001b[0m",
      "\u001b[0;31mTypeError\u001b[0m                                 Traceback (most recent call last)",
      "\u001b[0;32m<ipython-input-51-d5d7d9c1fc8a>\u001b[0m in \u001b[0;36m<module>\u001b[0;34m()\u001b[0m\n\u001b[1;32m      1\u001b[0m \u001b[0ma\u001b[0m \u001b[0;34m=\u001b[0m \u001b[0;34m'http://www.cnblogs.com/txw1958/'\u001b[0m\u001b[0;34m\u001b[0m\u001b[0m\n\u001b[1;32m      2\u001b[0m \u001b[0;31m# b = bytes(a)\u001b[0m\u001b[0;34m\u001b[0m\u001b[0;34m\u001b[0m\u001b[0m\n\u001b[0;32m----> 3\u001b[0;31m \u001b[0mb\u001b[0m \u001b[0;34m=\u001b[0m \u001b[0mbytes\u001b[0m\u001b[0;34m(\u001b[0m\u001b[0ma\u001b[0m\u001b[0;34m,\u001b[0m \u001b[0mencoding\u001b[0m \u001b[0;34m=\u001b[0m \u001b[0;34m\"utf8\"\u001b[0m\u001b[0;34m)\u001b[0m\u001b[0;34m\u001b[0m\u001b[0m\n\u001b[0m\u001b[1;32m      4\u001b[0m \u001b[0;32mprint\u001b[0m\u001b[0;34m(\u001b[0m\u001b[0mb\u001b[0m\u001b[0;34m)\u001b[0m\u001b[0;34m\u001b[0m\u001b[0m\n\u001b[1;32m      5\u001b[0m \u001b[0;32mprint\u001b[0m\u001b[0;34m(\u001b[0m\u001b[0mtype\u001b[0m\u001b[0;34m(\u001b[0m\u001b[0mb\u001b[0m\u001b[0;34m)\u001b[0m\u001b[0;34m)\u001b[0m\u001b[0;34m\u001b[0m\u001b[0m\n",
      "\u001b[0;31mTypeError\u001b[0m: str() takes at most 1 argument (2 given)"
     ]
    }
   ],
   "source": [
    "a = 'http://www.cnblogs.com/txw1958/'\n",
    "# b = bytes(a)\n",
    "b = bytes(a, encoding = \"utf8\") \n",
    "print(b)\n",
    "print(type(b))"
   ]
  }
 ],
 "metadata": {
  "kernelspec": {
   "display_name": "Python 2",
   "language": "python",
   "name": "python2"
  },
  "language_info": {
   "codemirror_mode": {
    "name": "ipython",
    "version": 2
   },
   "file_extension": ".py",
   "mimetype": "text/x-python",
   "name": "python",
   "nbconvert_exporter": "python",
   "pygments_lexer": "ipython2",
   "version": "2.7.14"
  }
 },
 "nbformat": 4,
 "nbformat_minor": 2
}
