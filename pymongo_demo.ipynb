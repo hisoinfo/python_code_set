{
 "cells": [
  {
   "cell_type": "markdown",
   "metadata": {},
   "source": [
    "## pymongo 操作\n",
    "\n",
    "http://www.jb51.net/article/77537.htm\n",
    "\n",
    "\n",
    "http://www.jb51.net/article/64991.htm\n"
   ]
  },
  {
   "cell_type": "code",
   "execution_count": 2,
   "metadata": {
    "collapsed": false
   },
   "outputs": [
    {
     "name": "stdout",
     "output_type": "stream",
     "text": [
      "连接状态： Database(MongoClient(host=['localhost:27017'], document_class=dict, tz_aware=False, connect=True), 'test_database')\n"
     ]
    }
   ],
   "source": [
    "from pymongo import MongoClient\n",
    "from bson.objectid import ObjectId\n",
    "\n",
    "# 测试本地环境下mongodb\n",
    "c = MongoClient()\n",
    "print('连接状态：',c.test_database)\n",
    "# Database(MongoClient(host=['localhost:27017'], document_class=dict, tz_aware=False, connect=True), 'test_database')"
   ]
  },
  {
   "cell_type": "markdown",
   "metadata": {},
   "source": [
    "### 基本操作 \n",
    "> 连接，查询数据库，连接数据库/集合\n",
    "\n",
    "* 连接：MongoClient(host, port)\n",
    "* 查询有多少数据库：client.database_names()\n",
    "* 连接到某个数据库：client.databaseName\n",
    "* 查询某个数据库下有多少个集合：client.databaseName.collection_name()"
   ]
  },
  {
   "cell_type": "code",
   "execution_count": 3,
   "metadata": {
    "collapsed": false
   },
   "outputs": [
    {
     "name": "stdout",
     "output_type": "stream",
     "text": [
      "\n",
      "数据库有： ['admin', 'hiso', 'local', 'ten_aistock', 'ye_payment', 'ye_subscribe', 'ye_user']\n",
      "\n",
      "现在的数据库名： hiso\n",
      "\n",
      "该数据库下的集合： ['user', 'tt']\n",
      "('localhost', 27017)\n"
     ]
    }
   ],
   "source": [
    "#建立于MongoClient 的连接\n",
    "client = MongoClient('localhost', 27017)\n",
    "\n",
    "# 查看有多少数据库\n",
    "dbs = client.database_names()\n",
    "print('\\n数据库有：', dbs)\n",
    "\n",
    "# 连接到某个数据库\n",
    "db = client.hiso # client['hiso']\n",
    "print('\\n现在的数据库名：', db.name)\n",
    "\n",
    "col_names = db.collection_names()\n",
    "print('\\n该数据库下的集合：', col_names)\n",
    "\n",
    "# 查看连接信息\n",
    "print(db.client.address)"
   ]
  },
  {
   "cell_type": "markdown",
   "metadata": {},
   "source": [
    "### 连接服务器上的mongoDB 带权限\n",
    "\n",
    "http://api.mongodb.com/python/current/examples/authentication.html "
   ]
  },
  {
   "cell_type": "code",
   "execution_count": null,
   "metadata": {
    "collapsed": true
   },
   "outputs": [],
   "source": [
    "import pymongo\n",
    "from pymongo import MongoClient\n",
    "\n",
    "# mongoDB服务器ip\n",
    "host = '127.0.0.1'\n",
    "# mongoDB端口\n",
    "port = 27017\n",
    "# \n",
    "username = 'wills'\n",
    "pw = 'wills1234'\n",
    "\n",
    "# 方法一\n",
    "# client_one = MongoClient(\"mongodb://\" + username + \":\" + pw + \"@\" + host + '/admin')\n",
    "\n",
    "# 方法二\n",
    "client = MongoClient(host, port)\n",
    "# 用户名密码连接\n",
    "client.admin.authenticate(username,pw,mechanism=\"MONGODB-CR\")\n",
    "\n",
    "# 查看该mongoDB上有多少databases\n",
    "print(client.database_names())\n"
   ]
  },
  {
   "cell_type": "markdown",
   "metadata": {},
   "source": [
    "#### 写入/插入数据\n",
    "* 单条数据插入 insert_one()\n",
    "* 多条数据插入 insert_many()\n"
   ]
  },
  {
   "cell_type": "code",
   "execution_count": 4,
   "metadata": {
    "collapsed": false
   },
   "outputs": [
    {
     "name": "stdout",
     "output_type": "stream",
     "text": [
      "\n",
      "插入数据_id： 594228e30d5b981a5519f548\n",
      "[ObjectId('594228e30d5b981a5519f549'), ObjectId('594228e30d5b981a5519f54a')]\n"
     ]
    }
   ],
   "source": [
    "# 连接到某个collection\n",
    "col_user = db.user\n",
    "\n",
    "# 单条插入数据\n",
    "rs = col_user.insert_one({'username': 'willschang', 'age': 21, 'email': 'test@134.com'})\n",
    "print('\\n插入数据_id：', rs.inserted_id)\n",
    "\n",
    "# 多条数据写入\n",
    "insert_data = [\n",
    "    dict(\n",
    "        username='kris',\n",
    "        age=22,\n",
    "        email='te1@qq.com'\n",
    "    ),\n",
    "    dict(\n",
    "        username='april',\n",
    "        age=23,\n",
    "        email='te2@qq.com'\n",
    "    )\n",
    "]\n",
    "rs_many = col_user.insert_many(insert_data)\n",
    "print(rs_many.inserted_ids)"
   ]
  },
  {
   "cell_type": "markdown",
   "metadata": {},
   "source": [
    "#### 查询数据\n",
    "* 查询单条数据 find_one(query, )\n",
    "* 查询多条数据 find()"
   ]
  },
  {
   "cell_type": "code",
   "execution_count": 11,
   "metadata": {
    "collapsed": false
   },
   "outputs": [
    {
     "name": "stdout",
     "output_type": "stream",
     "text": [
      "查询到单条数据为： {'_id': ObjectId('5937b2070d5b984f27e69219'), 'username': 'willschang'}\n",
      "查询多条数据：\n",
      "{'_id': ObjectId('5937c0f50d5b984fb2c8e2bd'), 'age': 21, 'username': 'willschang', 'email': 'test@134.com'}\n",
      "{'_id': ObjectId('5937c0fd0d5b984fb2c8e2be'), 'age': 21, 'username': 'willschang', 'email': 'test@134.com'}\n",
      "{'_id': ObjectId('5937c1150d5b984fb2c8e2bf'), 'age': 21, 'username': 'willschang', 'email': 'test@134.com'}\n",
      "{'_id': ObjectId('5937c1270d5b984fb2c8e2c0'), 'age': 21, 'username': 'willschang', 'email': 'test@134.com'}\n",
      "{'_id': ObjectId('5937c13d0d5b984fb2c8e2c1'), 'age': 21, 'username': 'willschang', 'email': 'test@134.com'}\n",
      "{'_id': ObjectId('5940ff770d5b9814fc5d25ef'), 'age': 21, 'username': 'willschang', 'email': 'test@134.com'}\n",
      "{'_id': ObjectId('594228e30d5b981a5519f548'), 'age': 21, 'username': 'willschang', 'email': 'test@134.com'}\n"
     ]
    }
   ],
   "source": [
    "# 查询单条数据\n",
    "user = col_user.find_one({'username':'willschang'})\n",
    "print('查询到单条数据为：', user)\n",
    "\n",
    "# 查询多第数据\n",
    "users = col_user.find({'username':'willschang', 'age':21})\n",
    "print('查询多条数据：')\n",
    "for u in users:\n",
    "    print(u)"
   ]
  },
  {
   "cell_type": "markdown",
   "metadata": {},
   "source": [
    "#### 更新数据\n",
    "```\n",
    "## pymongo旧版本，仅做参考\n",
    "my_set.update(\n",
    "   <query>,    #查询条件\n",
    "   <update>,    #update的对象和一些更新的操作符\n",
    "   {\n",
    "     upsert: <boolean>,    #如果不存在update的记录，是否插入\n",
    "     multi: <boolean>,        #可选，mongodb 默认是false,只更新找到的第一条记录\n",
    "     writeConcern: <document>    #可选，抛出异常的级别。\n",
    "   }\n",
    ")\n",
    "```\n",
    "\n",
    "* DeprecationWarning: update is deprecated. Use replace_one, update_one or update_many instead."
   ]
  },
  {
   "cell_type": "code",
   "execution_count": 20,
   "metadata": {
    "collapsed": true
   },
   "outputs": [],
   "source": [
    "# 更新单条数据\n",
    "update1 = col_user.update_one({'username': 'willschang'}, {'$set': {'age': 207}})\n",
    "# 更新多条数据\n",
    "updates = col_user.update_many({'username': 'willschang'}, {'$set': {'age': 207}})\n"
   ]
  },
  {
   "cell_type": "code",
   "execution_count": 13,
   "metadata": {
    "collapsed": false
   },
   "outputs": [
    {
     "name": "stdout",
     "output_type": "stream",
     "text": [
      "[{'_id': '5937b2070d5b984f27e69219', 'username': 'willschang'}, {'_id': '5937b3440d5b984f27e6921c', 'username': 'willschang'}, {'_id': '5937c0f50d5b984fb2c8e2bd', 'email': 'test@134.com', 'age': 21, 'username': 'willschang'}, {'_id': '5937c0fd0d5b984fb2c8e2be', 'email': 'test@134.com', 'age': 21, 'username': 'willschang'}, {'_id': '5937c1150d5b984fb2c8e2bf', 'email': 'test@134.com', 'age': 21, 'username': 'willschang'}, {'_id': '5937c1270d5b984fb2c8e2c0', 'email': 'test@134.com', 'age': 21, 'username': 'willschang'}, {'_id': '5937c13d0d5b984fb2c8e2c1', 'email': 'test@134.com', 'age': 21, 'username': 'willschang'}, {'_id': '5937c28e0d5b984fb2c8e2c2', 'email': 'te1@qq.com', 'age': 22, 'username': 'kris'}, {'_id': '5937c28e0d5b984fb2c8e2c3', 'email': 'te2@qq.com', 'age': 23, 'username': 'april'}, {'_id': '5937c2b70d5b984fb2c8e2c4', 'email': 'te1@qq.com', 'age': 22, 'username': 'kris'}, {'_id': '5937c2b70d5b984fb2c8e2c5', 'email': 'te2@qq.com', 'age': 23, 'username': 'april'}, {'_id': '5940ff770d5b9814fc5d25ef', 'email': 'test@134.com', 'age': 21, 'username': 'willschang'}, {'_id': '5940ff770d5b9814fc5d25f0', 'email': 'te1@qq.com', 'age': 22, 'username': 'kris'}, {'_id': '5940ff770d5b9814fc5d25f1', 'email': 'te2@qq.com', 'age': 23, 'username': 'april'}]\n"
     ]
    }
   ],
   "source": [
    "def to_dict_str(value):\n",
    "    \"\"\"递归序列化dict\n",
    "    \"\"\"\n",
    "    for k, v in value.items():\n",
    "        if isinstance(v, dict):\n",
    "            value[k] = to_dict_str(v)\n",
    "            continue\n",
    "\n",
    "        if isinstance(v, list):\n",
    "            value[k] = to_list_str(v)\n",
    "            continue\n",
    "\n",
    "        value[k] = default_encode(v)\n",
    "\n",
    "    return value\n",
    "\n",
    "def to_list_str(value):\n",
    "    \"\"\"递归序列化list\n",
    "    \"\"\"\n",
    "    for index, v in enumerate(value):\n",
    "        if isinstance(v, dict):\n",
    "            value[index] = to_dict_str(v)\n",
    "            continue\n",
    "\n",
    "        if isinstance(v, list):\n",
    "            value[index] = to_list_str(v)\n",
    "            continue\n",
    "\n",
    "        value[index] = default_encode(v)\n",
    "\n",
    "    return value\n",
    "\n",
    "def default_encode(v):\n",
    "    \"\"\"数据类型转换\n",
    "    \"\"\"\n",
    "    if isinstance(v, ObjectId):\n",
    "        return str(v)\n",
    "    return v\n",
    "\n",
    "data = col_user.find()\n",
    "\n",
    "t = to_list_str(list(data))\n",
    "print(t)\n",
    "    \n"
   ]
  },
  {
   "cell_type": "markdown",
   "metadata": {},
   "source": [
    "\n"
   ]
  }
 ],
 "metadata": {
  "anaconda-cloud": {},
  "kernelspec": {
   "display_name": "Python [default]",
   "language": "python",
   "name": "python3"
  },
  "language_info": {
   "codemirror_mode": {
    "name": "ipython",
    "version": 3
   },
   "file_extension": ".py",
   "mimetype": "text/x-python",
   "name": "python",
   "nbconvert_exporter": "python",
   "pygments_lexer": "ipython3",
   "version": "3.5.2"
  }
 },
 "nbformat": 4,
 "nbformat_minor": 2
}
