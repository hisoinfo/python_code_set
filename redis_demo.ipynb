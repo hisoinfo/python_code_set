{
 "cells": [
  {
   "cell_type": "code",
   "execution_count": 3,
   "metadata": {},
   "outputs": [
    {
     "name": "stdout",
     "output_type": "stream",
     "text": [
      "[\"{'style_type': 0, 'rise_nums': 22, 'percent': -0.008711416390096679, 'down_nums': 26, 'asset_type': 1}\", \"{'style_type': 0, 'rise_nums': 296, 'percent': -0.15031052430660582, 'down_nums': 828, 'asset_type': 0}\", \"{'style_type': 1, 'rise_nums': 635, 'percent': 0.07070682415243706, 'down_nums': 484, 'asset_type': 0}\"]\n"
     ]
    }
   ],
   "source": [
    "# connect to redis\n",
    "import redis\n",
    "\n",
    "REDIS_CONNECTION = {\n",
    "    'HOST': '127.0.0.1',\n",
    "    'PORT': '6379',\n",
    "    'PASSWD': '123456',\n",
    "    'DB': 0,\n",
    "}\n",
    "# 配置连接信息\n",
    "pool = redis.ConnectionPool(host=REDIS_CONNECTION['HOST'], port=REDIS_CONNECTION['PORT'], password=REDIS_CONNECTION['PASSWD'])\n",
    "# 建立连接\n",
    "redis_cli = redis.Redis(connection_pool=pool)\n",
    "# 通过key取值\n",
    "redis_cli.get('FRTSTI#10#20170816')\n",
    "# 批量取值\n",
    "data = redis_cli.mget(['FRTSTI#10#20170816', 'FRTSTI#00#20170816', 'FRTSTI#01#20170816'])\n",
    "print data"
   ]
  }
 ],
 "metadata": {
  "kernelspec": {
   "display_name": "Python 2",
   "language": "python",
   "name": "python2"
  },
  "language_info": {
   "codemirror_mode": {
    "name": "ipython",
    "version": 2
   },
   "file_extension": ".py",
   "mimetype": "text/x-python",
   "name": "python",
   "nbconvert_exporter": "python",
   "pygments_lexer": "ipython2",
   "version": "2.7.13"
  }
 },
 "nbformat": 4,
 "nbformat_minor": 2
}
