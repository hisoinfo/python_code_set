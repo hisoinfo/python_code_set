{
 "cells": [
  {
   "cell_type": "code",
   "execution_count": 14,
   "metadata": {
    "collapsed": false
   },
   "outputs": [
    {
     "name": "stdout",
     "output_type": "stream",
     "text": [
      "200\n",
      "{'Server': 'gunicorn/19.7.1', 'Connection': 'keep-alive', 'Date': 'Fri, 28 Apr 2017 01:33:57 GMT', 'Access-Control-Allow-Origin': '*', 'Via': '1.1 vegur', 'Content-Length': '33', 'Access-Control-Allow-Credentials': 'true', 'Content-Type': 'application/json'}\n",
      "{\n",
      "  \"origin\": \"27.154.210.143\"\n",
      "}\n",
      "\n",
      "{'origin': '27.154.210.143'}\n",
      "b'{\\n  \"origin\": \"27.154.210.143\"\\n}\\n'\n",
      "=============================================================================\n",
      "\n",
      "http://httpbin.org/ip?key1=value1&key2=value2\n",
      "{'origin': '27.154.210.143'}\n"
     ]
    }
   ],
   "source": [
    "import requests\n",
    "\n",
    "url = 'http://httpbin.org/ip'\n",
    "# get请求\n",
    "r = requests.get(url)\n",
    "# 返回状态码\n",
    "print(r.status_code)\n",
    "# 返回头文件\n",
    "print(r.headers)\n",
    "# 返回数据内容\n",
    "print(r.text)\n",
    "# json数据格式\n",
    "print(r.json())\n",
    "# 二进制内容\n",
    "print(r.content)\n",
    "print('=============================================================================\\n')\n",
    "\n",
    "# 带参数的get请求\n",
    "req_data = {'key1': 'value1', 'key2': 'value2'}\n",
    "r1 = requests.get(url, params=req_data)\n",
    "# 请求的url\n",
    "print(r1.url)\n",
    "# json数据\n",
    "print(r1.json())"
   ]
  },
  {
   "cell_type": "code",
   "execution_count": 20,
   "metadata": {
    "collapsed": false
   },
   "outputs": [
    {
     "name": "stdout",
     "output_type": "stream",
     "text": [
      "http://httpbin.org/ip?key1=value1&key2=value2\n",
      "None\n"
     ]
    }
   ],
   "source": [
    "import requests\n",
    "\n",
    "url = 'http://httpbin.org/ip'\n",
    "req_data = {'key1': 'value1', 'key2': 'value2'}\n",
    "# 参数说明：params请求参数，timeout超时\n",
    "r = requests.get(url, params=req_data, timeout=1)\n",
    "print(r.url)\n",
    "print(r.encoding)"
   ]
  },
  {
   "cell_type": "code",
   "execution_count": 27,
   "metadata": {
    "collapsed": false
   },
   "outputs": [
    {
     "name": "stdout",
     "output_type": "stream",
     "text": [
      "['__attrs__', '__bool__', '__class__', '__delattr__', '__dict__', '__dir__', '__doc__', '__eq__', '__format__', '__ge__', '__getattribute__', '__getstate__', '__gt__', '__hash__', '__init__', '__iter__', '__le__', '__lt__', '__module__', '__ne__', '__new__', '__nonzero__', '__reduce__', '__reduce_ex__', '__repr__', '__setattr__', '__setstate__', '__sizeof__', '__str__', '__subclasshook__', '__weakref__', '_content', '_content_consumed', 'apparent_encoding', 'close', 'connection', 'content', 'cookies', 'elapsed', 'encoding', 'headers', 'history', 'is_permanent_redirect', 'is_redirect', 'iter_content', 'iter_lines', 'json', 'links', 'ok', 'raise_for_status', 'raw', 'reason', 'request', 'status_code', 'text', 'url']\n",
      "{'documentation_url': 'https://developer.github.com/v3', 'message': 'Not Found'}\n"
     ]
    }
   ],
   "source": [
    "import json\n",
    "url = 'https://api.github.com/some/endpoint'\n",
    "payload = {'some': 'data'}\n",
    "headers = {'content-type': 'application/json'}\n",
    "\n",
    "r = requests.post(url, data=json.dumps(payload), headers=headers)\n",
    "\n",
    "print(dir(r))\n",
    "print(r.json())"
   ]
  },
  {
   "cell_type": "code",
   "execution_count": 1,
   "metadata": {
    "collapsed": false,
    "scrolled": true
   },
   "outputs": [],
   "source": [
    "a = 0 \n",
    "b = 1\n"
   ]
  },
  {
   "cell_type": "code",
   "execution_count": 29,
   "metadata": {
    "collapsed": false
   },
   "outputs": [
    {
     "name": "stdout",
     "output_type": "stream",
     "text": [
      "Hello world!\n",
      "Hello world!\n",
      "Hello world!\n"
     ]
    }
   ],
   "source": [
    "class Test(object):  \n",
    "    a = \"Hello world!\"  \n",
    "    def __init__(self):pass  \n",
    "        \n",
    "    def test(self):  \n",
    "        #在内部self.a和Test.a都可以访问实例变量  \n",
    "        print(self.a)  \n",
    "        print(Test.a)  \n",
    "print(Test.a)  \n",
    "A = Test()  \n",
    "A.test()  "
   ]
  },
  {
   "cell_type": "code",
   "execution_count": 44,
   "metadata": {
    "collapsed": false
   },
   "outputs": [
    {
     "name": "stdout",
     "output_type": "stream",
     "text": [
      "4.655058\n",
      "4.659725\n",
      "end time == 0.005003999999999564\n"
     ]
    }
   ],
   "source": [
    "import requests\n",
    "import time\n",
    "\n",
    "start_time = time.clock()\n",
    "print(start_time)\n",
    "# time.sleep(5)\n",
    "for i in range(10000):\n",
    "    pass\n",
    "end_time = time.clock()\n",
    "print(end_time)\n",
    "print('end time ==', time.clock()-start_time)"
   ]
  },
  {
   "cell_type": "code",
   "execution_count": 3,
   "metadata": {
    "collapsed": false,
    "scrolled": true
   },
   "outputs": [
    {
     "name": "stdout",
     "output_type": "stream",
     "text": [
      "ppTenGitService Init=ppTenGitService,1\n",
      "ppTenPumaService Init=ppTenPumaService,1\n",
      "Init=Initiating data had finished,0\n",
      "end time :  0.2555940000000001\n"
     ]
    }
   ],
   "source": [
    "import requests\n",
    "import time\n",
    "\n",
    "st = time.clock()\n",
    "url_base = 'http://192.168.1.104:9091/?A=WRITE,key{},value{}'\n",
    "for i in range(100):\n",
    "    url = url_base.format(i, i)\n",
    "    r = requests.get(url)\n",
    "    \n",
    "url_callback = 'http://192.168.1.104:9091/?A=INITED,ppTenGitService,true'\n",
    "cb = requests.get(url_callback)\n",
    "\n",
    "print('ppTenGitService',cb.text)\n",
    "\n",
    "rq = requests.get('http://192.168.1.104:9091/?A=WRITE,puma1,helloworld')\n",
    "cb1 = requests.get('http://192.168.1.104:9091/?A=INITED,ppTenPumaService,true')\n",
    "print('ppTenPumaService', cb1.text)\n",
    "\n",
    "cb2 = requests.get('http://192.168.1.104:9091/?A=INITED,ppTenPumaService,true')\n",
    "print(cb2.text)\n",
    "\n",
    "print('end time : ', time.clock()-st)"
   ]
  },
  {
   "cell_type": "code",
   "execution_count": 3,
   "metadata": {
    "collapsed": false
   },
   "outputs": [
    {
     "name": "stdout",
     "output_type": "stream",
     "text": [
      "test \n",
      "hello\n",
      "['v0001,|,1', ',|,,|,,|,,|,', 'TIndex,|,TenService,|,SharesPlan,|,File,|,TObj']\n",
      "True\n",
      "8888\n"
     ]
    }
   ],
   "source": [
    "a = \"v0001,|,1|EOF|,|,,|,,|,,|,|EOF|TIndex,|,TenService,|,SharesPlan,|,File,|,TObj\"\n",
    "b = ''\n",
    "bb = b.split('|EOF|')\n",
    "print('test',bb[0])\n",
    "\n",
    "aa = a.split('|EOF|')\n",
    "if aa[0].startswith('v'):\n",
    "    print('hello')\n",
    "\n",
    "print(aa)\n",
    "\n",
    "aaa = 'v0001'\n",
    "bbb = 'v0003'\n",
    "print(aaa < bbb)\n",
    "print('8888')\n"
   ]
  },
  {
   "cell_type": "code",
   "execution_count": 4,
   "metadata": {
    "collapsed": false
   },
   "outputs": [
    {
     "name": "stdout",
     "output_type": "stream",
     "text": [
      "write=wills,1\n"
     ]
    }
   ],
   "source": [
    "import requests\n",
    "\n",
    "a = \"v0001,|,1|EOF|,|,,|,,|,,|,|EOF|TIndex,|,TenService,|,SharesPlan,|,File,|,TObj\"\n",
    "rq = requests.get('http://192.168.199.180:9091/?A=WRITE,wills,{}'.format(a))\n",
    "print(rq.text)"
   ]
  },
  {
   "cell_type": "code",
   "execution_count": 29,
   "metadata": {
    "collapsed": false
   },
   "outputs": [
    {
     "name": "stdout",
     "output_type": "stream",
     "text": [
      "['hello', '{\"fields\":[1,2,3], \"ps\":\"test\", \"page\":\"hello\"}']\n",
      "{'fields': [1, 2, 3], 'ps': 'test', 'page': 'hello'}\n",
      "[1, 2, 3]\n",
      "['fields', 'ps', 'ke']\n",
      "True\n"
     ]
    }
   ],
   "source": [
    "a = 'hello,{\"fields\":[1,2,3], \"ps\":\"test\", \"page\":\"hello\"}'\n",
    "b = a.split(',',1)\n",
    "print(b)\n",
    "import json\n",
    "c = json.loads(b[1])\n",
    "print(c)\n",
    "d = c.get('fields')\n",
    "print(d)\n",
    "\n",
    "key1 = \"['fields','ps','ke']\"\n",
    "key1 = eval(key1)\n",
    "print(key1)\n",
    "# for k in key1:\n",
    "#     if k:\n",
    "#         print('==',k)\n",
    "#         print(c.get(k))\n",
    "\n",
    "aa = []\n",
    "print(isinstance(aa,list))"
   ]
  },
  {
   "cell_type": "code",
   "execution_count": 33,
   "metadata": {
    "collapsed": false
   },
   "outputs": [
    {
     "name": "stdout",
     "output_type": "stream",
     "text": [
      "3\n",
      "<class 'int'>\n"
     ]
    }
   ],
   "source": [
    "t = ',,'\n",
    "print(len(t.split(',')))\n",
    "\n",
    "tt = '1'\n",
    "t=int(tt)\n",
    "print(type(t))"
   ]
  },
  {
   "cell_type": "code",
   "execution_count": 45,
   "metadata": {
    "collapsed": false
   },
   "outputs": [
    {
     "name": "stdout",
     "output_type": "stream",
     "text": [
      "read,{\"successes\": {\"k1\": \"v0001,|,0|EOF|k11,|,k12,|,k13,|,k14,|,k15|EOF|this,|,is,|,a,|,wonderful,|,day1\"}, \"errors\": {}}\n",
      "<class 'str'>\n",
      "{'successes': {'k1': 'v0001,|,0|EOF|k11,|,k12,|,k13,|,k14,|,k15|EOF|this,|,is,|,a,|,wonderful,|,day1'}, 'errors': {}}\n",
      "k1 v0001,|,0|EOF|k11,|,k12,|,k13,|,k14,|,k15|EOF|this,|,is,|,a,|,wonderful,|,day1\n"
     ]
    }
   ],
   "source": [
    "import requests\n",
    "import json\n",
    "\n",
    "url = 'http://192.168.199.180:9091/?A=READ,'\n",
    "\n",
    "res = requests.get(url+'k1')\n",
    "res_data = res.text\n",
    "print(res_data)\n",
    "print(type(res_data))\n",
    "d_json = json.loads(res_data.split(',', 1)[1])\n",
    "print(d_json)\n",
    "dd = d_json.get('successes')\n",
    "for k,d in dd.items():\n",
    "    print(k, d)\n",
    "    \n",
    "\n"
   ]
  },
  {
   "cell_type": "code",
   "execution_count": 53,
   "metadata": {
    "collapsed": false
   },
   "outputs": [
    {
     "ename": "LookupError",
     "evalue": "unknown encoding: %E4%BD%A0%E5%A5%BD",
     "output_type": "error",
     "traceback": [
      "\u001b[0;31m---------------------------------------------------------------------------\u001b[0m",
      "\u001b[0;31mLookupError\u001b[0m                               Traceback (most recent call last)",
      "\u001b[0;32m<ipython-input-53-0ed09b436b23>\u001b[0m in \u001b[0;36m<module>\u001b[0;34m()\u001b[0m\n\u001b[1;32m      1\u001b[0m \u001b[0ma\u001b[0m \u001b[0;34m=\u001b[0m \u001b[0;34m'%E4%BD%A0%E5%A5%BD'\u001b[0m\u001b[0;34m\u001b[0m\u001b[0m\n\u001b[0;32m----> 2\u001b[0;31m \u001b[0mb\u001b[0m \u001b[0;34m=\u001b[0m \u001b[0ma\u001b[0m\u001b[0;34m.\u001b[0m\u001b[0mencode\u001b[0m\u001b[0;34m(\u001b[0m\u001b[0ma\u001b[0m\u001b[0;34m,\u001b[0m \u001b[0;34m'utf-8'\u001b[0m\u001b[0;34m)\u001b[0m\u001b[0;34m\u001b[0m\u001b[0m\n\u001b[0m\u001b[1;32m      3\u001b[0m \u001b[0mprint\u001b[0m\u001b[0;34m(\u001b[0m\u001b[0mb\u001b[0m\u001b[0;34m)\u001b[0m\u001b[0;34m\u001b[0m\u001b[0m\n",
      "\u001b[0;31mLookupError\u001b[0m: unknown encoding: %E4%BD%A0%E5%A5%BD"
     ]
    }
   ],
   "source": [
    "a = '%E4%BD%A0%E5%A5%BD'\n",
    "b = a.encode(a, 'utf-8')\n",
    "print(b)\n"
   ]
  }
 ],
 "metadata": {
  "anaconda-cloud": {},
  "kernelspec": {
   "display_name": "Python [default]",
   "language": "python",
   "name": "python3"
  },
  "language_info": {
   "codemirror_mode": {
    "name": "ipython",
    "version": 3
   },
   "file_extension": ".py",
   "mimetype": "text/x-python",
   "name": "python",
   "nbconvert_exporter": "python",
   "pygments_lexer": "ipython3",
   "version": "3.5.2"
  }
 },
 "nbformat": 4,
 "nbformat_minor": 2
}
