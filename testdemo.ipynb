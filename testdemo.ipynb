{
 "cells": [
  {
   "cell_type": "code",
   "execution_count": 26,
   "metadata": {
    "collapsed": false
   },
   "outputs": [
    {
     "name": "stdout",
     "output_type": "stream",
     "text": [
      "生日数据有误\n"
     ]
    },
    {
     "data": {
      "text/plain": [
       "'生日数据有误'"
      ]
     },
     "execution_count": 26,
     "metadata": {},
     "output_type": "execute_result"
    }
   ],
   "source": [
    "import time \n",
    "import datetime\n",
    "import re\n",
    "# import long\n",
    "\n",
    "def get_birth_format(birth):\n",
    "    result = '生日数据有误'\n",
    "    base_keys = ['年', '月', '日']\n",
    "\n",
    "    birth = birth if birth else time.time()\n",
    "\n",
    "    if isinstance(birth, str):\n",
    "        re_keys = re.compile(u'[\\u4e00-\\u9fa5]')\n",
    "        tmp_keys = re_keys.findall(birth)\n",
    "\n",
    "        if tmp_keys and tmp_keys == base_keys:\n",
    "            birth_date = re.sub(r'[\\u4e00-\\u9fa5]', '-', birth)\n",
    "            birth_date = birth_date[:-1]\n",
    "            time_format = time.strptime(birth_date, \"%Y-%m-%d\")\n",
    "            result = time.strftime('%d/%m/%Y', time_format)\n",
    "        elif birth.isdigit():\n",
    "            birth_date = int(birth)\n",
    "            birth_date = time.localtime(birth_date)\n",
    "            result = time.strftime('%d/%m/%Y', birth_date)\n",
    "    elif isinstance(birth, (int, float)):\n",
    "            birth_date = time.localtime(birth)\n",
    "            result = time.strftime('%d/%m/%Y', birth_date)\n",
    "\n",
    "    print(result)\n",
    "    return result\n",
    "\n",
    "get_birth_format('2004年01月23')"
   ]
  },
  {
   "cell_type": "code",
   "execution_count": 13,
   "metadata": {
    "collapsed": false
   },
   "outputs": [
    {
     "name": "stdout",
     "output_type": "stream",
     "text": [
      "['__cause__', '__class__', '__context__', '__delattr__', '__dict__', '__dir__', '__doc__', '__eq__', '__format__', '__ge__', '__getattribute__', '__gt__', '__hash__', '__init__', '__le__', '__lt__', '__ne__', '__new__', '__reduce__', '__reduce_ex__', '__repr__', '__setattr__', '__setstate__', '__sizeof__', '__str__', '__subclasshook__', '__suppress_context__', '__traceback__', 'args', 'with_traceback']\n",
      "Inappropriate argument type.\n"
     ]
    }
   ],
   "source": [
    "a = 1\n",
    "b = None\n",
    "\n",
    "try:\n",
    "    c = a/b\n",
    "except Exception as e:\n",
    "    print(dir(e))\n",
    "    "
   ]
  },
  {
   "cell_type": "code",
   "execution_count": 115,
   "metadata": {
    "collapsed": false
   },
   "outputs": [
    {
     "name": "stdout",
     "output_type": "stream",
     "text": [
      "5jAavIag\n"
     ]
    }
   ],
   "source": [
    "import json\n",
    "import base64\n",
    "from base64 import b64encode, b64decode\n",
    "import hashlib\n",
    "from Crypto.Cipher import AES\n",
    "# from urllib import quote\n",
    "import urllib.parse\n",
    "\n",
    "KEY = '5jAavIag'\n",
    "CODE_KEY = '230164a555101e1f'\n",
    "# CODE_KEY = 'sqsm1234'\n",
    "print(KEY)\n",
    "\n",
    "def apiCheckVan(key, value):\n",
    "    print(key)\n",
    "    print('&&&&&&')\n",
    "    print(value)\n",
    "    baseValue = urllib.parse.unquote(value)\n",
    "    print(baseValue)\n",
    "    strJsonNext = \"%s%s\" % (KEY, baseValue)\n",
    "    print(strJsonNext)\n",
    "    print('^^^====^^^  {}'.format(strJsonNext))\n",
    "    nowKeyNext = hashlib.md5(strJsonNext.encode(encoding='gb2312')).hexdigest()\n",
    "\n",
    "    if nowKeyNext != key:\n",
    "        print('api key error')\n",
    "        return\n",
    "\n",
    "    # 处理数据\n",
    "    valueStr = base64.decodestring(baseValue.encode('ascii'))\n",
    "    result = bo_api_decode(valueStr)\n",
    "    result = eval(result)\n",
    "    result = json_decode(result)\n",
    "\n",
    "    return result\n",
    "\n",
    "\n",
    "def bo_api_decode(crypt):\n",
    "    key = iv = CODE_KEY\n",
    "    generator = AES.new(key, AES.MODE_CBC, iv)\n",
    "    recovery = generator.decrypt(crypt)\n",
    "    print(type(recovery))\n",
    "    a = str(recovery, encoding='utf8')\n",
    "    print(a)\n",
    "    print(type(a))\n",
    "#     aa = json.loads(a.rstrip('\\0'))\n",
    "#     aa = json.loads(a)\n",
    "#     print(aa)\n",
    "    return a.rstrip('\\0')\n",
    "\n",
    "\n",
    "def bo_api_encode(value):\n",
    "    key = iv = CODE_KEY\n",
    "    pad_it = lambda s: s + (16 - len(s) % 16) * '\\0'\n",
    "    generator = AES.new(key, AES.MODE_CBC, iv)\n",
    "    crypt = generator.encrypt(pad_it(str(json_encode(value))))\n",
    "    crypt = base64.b64encode(crypt)\n",
    "    crypt = urllib.parse.quote(crypt)\n",
    "\n",
    "    return crypt\n",
    "\n",
    "def build_key(value):\n",
    "    value = urllib.parse.unquote(value)\n",
    "    base_value = '%s%s'%(KEY, value)\n",
    "    api_key = hashlib.md5(base_value.encode(encoding='gb2312')).hexdigest()\n",
    "    return api_key\n",
    "\n",
    "def json_encode(data):\n",
    "    try:\n",
    "        return json.dumps(data)\n",
    "    except Exception as e:\n",
    "        logging.error(e)\n",
    "\n",
    "\n",
    "def json_decode(data):\n",
    "    try:\n",
    "        return json.loads(data)\n",
    "    except Exception as e:\n",
    "        logging.error(e)\n",
    "        logging.error(data)"
   ]
  },
  {
   "cell_type": "code",
   "execution_count": 116,
   "metadata": {
    "collapsed": false
   },
   "outputs": [
    {
     "name": "stdout",
     "output_type": "stream",
     "text": [
      "c9f00ea2c3aa7c7d87366f507e910bc3\n",
      "&&&&&&\n",
      "28EQAou4qpRLntZYXuBNU3%2BZvnT30KLcFif/HZH/IqI1YGuHb18PUS1qzD8SuQcHWHmZxUdCdaGvdh9e5QQxSA/KyIEFvgdDHCPyhSUKK9Y9rjBVnQ69tELhrrQQYqgV\n",
      "28EQAou4qpRLntZYXuBNU3+ZvnT30KLcFif/HZH/IqI1YGuHb18PUS1qzD8SuQcHWHmZxUdCdaGvdh9e5QQxSA/KyIEFvgdDHCPyhSUKK9Y9rjBVnQ69tELhrrQQYqgV\n",
      "5jAavIag28EQAou4qpRLntZYXuBNU3+ZvnT30KLcFif/HZH/IqI1YGuHb18PUS1qzD8SuQcHWHmZxUdCdaGvdh9e5QQxSA/KyIEFvgdDHCPyhSUKK9Y9rjBVnQ69tELhrrQQYqgV\n",
      "^^^====^^^  5jAavIag28EQAou4qpRLntZYXuBNU3+ZvnT30KLcFif/HZH/IqI1YGuHb18PUS1qzD8SuQcHWHmZxUdCdaGvdh9e5QQxSA/KyIEFvgdDHCPyhSUKK9Y9rjBVnQ69tELhrrQQYqgV\n",
      "<class 'bytes'>\n",
      "\"{\\\"uid\\\":\\\"592e\\u00059000d5b9808d652655b\\\",\\\"tid\\\":\\\"592e67d90d5b980b7f3f3fd4\\\"}\"\u0000\u0000\u0000\u0000\u0000\u0000\u0000\u0000\u0000\u0000\u0000\u0000\u0000\u0000\n",
      "<class 'str'>\n"
     ]
    },
    {
     "name": "stderr",
     "output_type": "stream",
     "text": [
      "/Users/willschang/anaconda/lib/python3.5/site-packages/ipykernel/__main__.py:30: DeprecationWarning: decodestring() is a deprecated alias, use decodebytes()\n"
     ]
    },
    {
     "ename": "NameError",
     "evalue": "name 'logging' is not defined",
     "output_type": "error",
     "traceback": [
      "\u001b[0;31m---------------------------------------------------------------------------\u001b[0m",
      "\u001b[0;31mJSONDecodeError\u001b[0m                           Traceback (most recent call last)",
      "\u001b[0;32m<ipython-input-115-056a6f67312d>\u001b[0m in \u001b[0;36mjson_decode\u001b[0;34m(data)\u001b[0m\n\u001b[1;32m     76\u001b[0m     \u001b[0;32mtry\u001b[0m\u001b[0;34m:\u001b[0m\u001b[0;34m\u001b[0m\u001b[0m\n\u001b[0;32m---> 77\u001b[0;31m         \u001b[0;32mreturn\u001b[0m \u001b[0mjson\u001b[0m\u001b[0;34m.\u001b[0m\u001b[0mloads\u001b[0m\u001b[0;34m(\u001b[0m\u001b[0mdata\u001b[0m\u001b[0;34m)\u001b[0m\u001b[0;34m\u001b[0m\u001b[0m\n\u001b[0m\u001b[1;32m     78\u001b[0m     \u001b[0;32mexcept\u001b[0m \u001b[0mException\u001b[0m \u001b[0;32mas\u001b[0m \u001b[0me\u001b[0m\u001b[0;34m:\u001b[0m\u001b[0;34m\u001b[0m\u001b[0m\n",
      "\u001b[0;32m/Users/willschang/anaconda/lib/python3.5/json/__init__.py\u001b[0m in \u001b[0;36mloads\u001b[0;34m(s, encoding, cls, object_hook, parse_float, parse_int, parse_constant, object_pairs_hook, **kw)\u001b[0m\n\u001b[1;32m    318\u001b[0m             parse_constant is None and object_pairs_hook is None and not kw):\n\u001b[0;32m--> 319\u001b[0;31m         \u001b[0;32mreturn\u001b[0m \u001b[0m_default_decoder\u001b[0m\u001b[0;34m.\u001b[0m\u001b[0mdecode\u001b[0m\u001b[0;34m(\u001b[0m\u001b[0ms\u001b[0m\u001b[0;34m)\u001b[0m\u001b[0;34m\u001b[0m\u001b[0m\n\u001b[0m\u001b[1;32m    320\u001b[0m     \u001b[0;32mif\u001b[0m \u001b[0mcls\u001b[0m \u001b[0;32mis\u001b[0m \u001b[0;32mNone\u001b[0m\u001b[0;34m:\u001b[0m\u001b[0;34m\u001b[0m\u001b[0m\n",
      "\u001b[0;32m/Users/willschang/anaconda/lib/python3.5/json/decoder.py\u001b[0m in \u001b[0;36mdecode\u001b[0;34m(self, s, _w)\u001b[0m\n\u001b[1;32m    338\u001b[0m         \"\"\"\n\u001b[0;32m--> 339\u001b[0;31m         \u001b[0mobj\u001b[0m\u001b[0;34m,\u001b[0m \u001b[0mend\u001b[0m \u001b[0;34m=\u001b[0m \u001b[0mself\u001b[0m\u001b[0;34m.\u001b[0m\u001b[0mraw_decode\u001b[0m\u001b[0;34m(\u001b[0m\u001b[0ms\u001b[0m\u001b[0;34m,\u001b[0m \u001b[0midx\u001b[0m\u001b[0;34m=\u001b[0m\u001b[0m_w\u001b[0m\u001b[0;34m(\u001b[0m\u001b[0ms\u001b[0m\u001b[0;34m,\u001b[0m \u001b[0;36m0\u001b[0m\u001b[0;34m)\u001b[0m\u001b[0;34m.\u001b[0m\u001b[0mend\u001b[0m\u001b[0;34m(\u001b[0m\u001b[0;34m)\u001b[0m\u001b[0;34m)\u001b[0m\u001b[0;34m\u001b[0m\u001b[0m\n\u001b[0m\u001b[1;32m    340\u001b[0m         \u001b[0mend\u001b[0m \u001b[0;34m=\u001b[0m \u001b[0m_w\u001b[0m\u001b[0;34m(\u001b[0m\u001b[0ms\u001b[0m\u001b[0;34m,\u001b[0m \u001b[0mend\u001b[0m\u001b[0;34m)\u001b[0m\u001b[0;34m.\u001b[0m\u001b[0mend\u001b[0m\u001b[0;34m(\u001b[0m\u001b[0;34m)\u001b[0m\u001b[0;34m\u001b[0m\u001b[0m\n",
      "\u001b[0;32m/Users/willschang/anaconda/lib/python3.5/json/decoder.py\u001b[0m in \u001b[0;36mraw_decode\u001b[0;34m(self, s, idx)\u001b[0m\n\u001b[1;32m    354\u001b[0m         \u001b[0;32mtry\u001b[0m\u001b[0;34m:\u001b[0m\u001b[0;34m\u001b[0m\u001b[0m\n\u001b[0;32m--> 355\u001b[0;31m             \u001b[0mobj\u001b[0m\u001b[0;34m,\u001b[0m \u001b[0mend\u001b[0m \u001b[0;34m=\u001b[0m \u001b[0mself\u001b[0m\u001b[0;34m.\u001b[0m\u001b[0mscan_once\u001b[0m\u001b[0;34m(\u001b[0m\u001b[0ms\u001b[0m\u001b[0;34m,\u001b[0m \u001b[0midx\u001b[0m\u001b[0;34m)\u001b[0m\u001b[0;34m\u001b[0m\u001b[0m\n\u001b[0m\u001b[1;32m    356\u001b[0m         \u001b[0;32mexcept\u001b[0m \u001b[0mStopIteration\u001b[0m \u001b[0;32mas\u001b[0m \u001b[0merr\u001b[0m\u001b[0;34m:\u001b[0m\u001b[0;34m\u001b[0m\u001b[0m\n",
      "\u001b[0;31mJSONDecodeError\u001b[0m: Invalid control character at: line 1 column 13 (char 12)",
      "\nDuring handling of the above exception, another exception occurred:\n",
      "\u001b[0;31mNameError\u001b[0m                                 Traceback (most recent call last)",
      "\u001b[0;32m<ipython-input-116-20d87f521194>\u001b[0m in \u001b[0;36m<module>\u001b[0;34m()\u001b[0m\n\u001b[1;32m      6\u001b[0m \u001b[0;31m# print(demo_key)\u001b[0m\u001b[0;34m\u001b[0m\u001b[0;34m\u001b[0m\u001b[0m\n\u001b[1;32m      7\u001b[0m \u001b[0;34m\u001b[0m\u001b[0m\n\u001b[0;32m----> 8\u001b[0;31m \u001b[0mresult\u001b[0m \u001b[0;34m=\u001b[0m \u001b[0mapiCheckVan\u001b[0m\u001b[0;34m(\u001b[0m\u001b[0mdemo_key\u001b[0m\u001b[0;34m,\u001b[0m \u001b[0mcrypt_data\u001b[0m\u001b[0;34m)\u001b[0m\u001b[0;34m\u001b[0m\u001b[0m\n\u001b[0m\u001b[1;32m      9\u001b[0m \u001b[0mprint\u001b[0m\u001b[0;34m(\u001b[0m\u001b[0mresult\u001b[0m\u001b[0;34m)\u001b[0m\u001b[0;34m\u001b[0m\u001b[0m\n",
      "\u001b[0;32m<ipython-input-115-056a6f67312d>\u001b[0m in \u001b[0;36mapiCheckVan\u001b[0;34m(key, value)\u001b[0m\n\u001b[1;32m     31\u001b[0m     \u001b[0mresult\u001b[0m \u001b[0;34m=\u001b[0m \u001b[0mbo_api_decode\u001b[0m\u001b[0;34m(\u001b[0m\u001b[0mvalueStr\u001b[0m\u001b[0;34m)\u001b[0m\u001b[0;34m\u001b[0m\u001b[0m\n\u001b[1;32m     32\u001b[0m     \u001b[0mresult\u001b[0m \u001b[0;34m=\u001b[0m \u001b[0meval\u001b[0m\u001b[0;34m(\u001b[0m\u001b[0mresult\u001b[0m\u001b[0;34m)\u001b[0m\u001b[0;34m\u001b[0m\u001b[0m\n\u001b[0;32m---> 33\u001b[0;31m     \u001b[0mresult\u001b[0m \u001b[0;34m=\u001b[0m \u001b[0mjson_decode\u001b[0m\u001b[0;34m(\u001b[0m\u001b[0mresult\u001b[0m\u001b[0;34m)\u001b[0m\u001b[0;34m\u001b[0m\u001b[0m\n\u001b[0m\u001b[1;32m     34\u001b[0m \u001b[0;34m\u001b[0m\u001b[0m\n\u001b[1;32m     35\u001b[0m     \u001b[0;32mreturn\u001b[0m \u001b[0mresult\u001b[0m\u001b[0;34m\u001b[0m\u001b[0m\n",
      "\u001b[0;32m<ipython-input-115-056a6f67312d>\u001b[0m in \u001b[0;36mjson_decode\u001b[0;34m(data)\u001b[0m\n\u001b[1;32m     77\u001b[0m         \u001b[0;32mreturn\u001b[0m \u001b[0mjson\u001b[0m\u001b[0;34m.\u001b[0m\u001b[0mloads\u001b[0m\u001b[0;34m(\u001b[0m\u001b[0mdata\u001b[0m\u001b[0;34m)\u001b[0m\u001b[0;34m\u001b[0m\u001b[0m\n\u001b[1;32m     78\u001b[0m     \u001b[0;32mexcept\u001b[0m \u001b[0mException\u001b[0m \u001b[0;32mas\u001b[0m \u001b[0me\u001b[0m\u001b[0;34m:\u001b[0m\u001b[0;34m\u001b[0m\u001b[0m\n\u001b[0;32m---> 79\u001b[0;31m         \u001b[0mlogging\u001b[0m\u001b[0;34m.\u001b[0m\u001b[0merror\u001b[0m\u001b[0;34m(\u001b[0m\u001b[0me\u001b[0m\u001b[0;34m)\u001b[0m\u001b[0;34m\u001b[0m\u001b[0m\n\u001b[0m\u001b[1;32m     80\u001b[0m         \u001b[0mlogging\u001b[0m\u001b[0;34m.\u001b[0m\u001b[0merror\u001b[0m\u001b[0;34m(\u001b[0m\u001b[0mdata\u001b[0m\u001b[0;34m)\u001b[0m\u001b[0;34m\u001b[0m\u001b[0m\n",
      "\u001b[0;31mNameError\u001b[0m: name 'logging' is not defined"
     ]
    }
   ],
   "source": [
    "demo_data = '{\"uid\":\"592e\\59000d5b9808d652655b\",\"tid\":\"592e67d90d5b980b7f3f3fd4\"}'\n",
    "crypt_data = bo_api_encode(demo_data)\n",
    "# print(crypt_data)\n",
    "\n",
    "demo_key = build_key(crypt_data)\n",
    "# print(demo_key)\n",
    "\n",
    "result = apiCheckVan(demo_key, crypt_data)\n",
    "print(result)"
   ]
  },
  {
   "cell_type": "code",
   "execution_count": 38,
   "metadata": {
    "collapsed": false
   },
   "outputs": [
    {
     "name": "stdout",
     "output_type": "stream",
     "text": [
      "2017-11-22\n",
      "1511280000\n",
      "2017-11-22\n",
      "1511280000\n"
     ]
    }
   ],
   "source": [
    "import datetime, time\n",
    "t = datetime.datetime.now().date()\n",
    "# tt = t.timestamp()\n",
    "ts = time.mktime(t.timetuple())\n",
    "print(t)\n",
    "print(int(ts))\n",
    "a = 1511280000\n",
    "ad = datetime.datetime.fromtimestamp(a)\n",
    "print(ad.date())\n",
    "if t == ad.date():\n",
    "    print(a)"
   ]
  },
  {
   "cell_type": "code",
   "execution_count": 105,
   "metadata": {
    "collapsed": false
   },
   "outputs": [
    {
     "name": "stdout",
     "output_type": "stream",
     "text": [
      "{\"uid\":\"592e59000d5b9808d652655b\",\"tid\":\"592e67d90d5b980b7f3f3fd4\"}\n"
     ]
    }
   ],
   "source": [
    "b = '{\"uid\":\"592e59000d5b9808d652655b\",\"tid\":\"592e67d90d5b980b7f3f3fd4\"}'\n",
    "bb = json.loads(b)\n",
    "print(b)"
   ]
  },
  {
   "cell_type": "code",
   "execution_count": 119,
   "metadata": {
    "collapsed": false
   },
   "outputs": [
    {
     "name": "stdout",
     "output_type": "stream",
     "text": [
      "sfsd/sdfd%5Cewr\n",
      "821d4dc5b313179f41f23c921f057a41\n"
     ]
    }
   ],
   "source": [
    "from urllib.parse import quote\n",
    "import hashlib\n",
    "\n",
    "\n",
    "a = 'sfsd/sdfd\\ewr'\n",
    "b = quote(a)\n",
    "print(b)\n",
    "\n",
    "api_key = hashlib.md5(a.encode(encoding='gb2312')).hexdigest()\n",
    "\n",
    "print(api_key)\n"
   ]
  }
 ],
 "metadata": {
  "anaconda-cloud": {},
  "kernelspec": {
   "display_name": "Python [default]",
   "language": "python",
   "name": "python3"
  },
  "language_info": {
   "codemirror_mode": {
    "name": "ipython",
    "version": 3
   },
   "file_extension": ".py",
   "mimetype": "text/x-python",
   "name": "python",
   "nbconvert_exporter": "python",
   "pygments_lexer": "ipython3",
   "version": "3.5.2"
  }
 },
 "nbformat": 4,
 "nbformat_minor": 1
}
